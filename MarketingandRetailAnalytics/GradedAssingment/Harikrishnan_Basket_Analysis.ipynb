{
 "cells": [
  {
   "cell_type": "code",
   "execution_count": 1,
   "id": "d1185a84",
   "metadata": {},
   "outputs": [],
   "source": [
    "import numpy as np\n",
    "import pandas as pd\n",
    "import matplotlib.pyplot as plt\n",
    "import seaborn as sns\n",
    "from pylab import rcParams\n",
    "%matplotlib inline\n",
    "import scipy.stats as stats  "
   ]
  },
  {
   "cell_type": "code",
   "execution_count": 2,
   "id": "b1514d82",
   "metadata": {},
   "outputs": [],
   "source": [
    "df = pd.read_csv('dataset_group.csv')"
   ]
  },
  {
   "cell_type": "code",
   "execution_count": 51,
   "id": "9a1784ed",
   "metadata": {},
   "outputs": [
    {
     "data": {
      "text/plain": [
       "Product\n",
       "poultry                         640\n",
       "soda                            597\n",
       "cereals                         591\n",
       "ice cream                       579\n",
       "cheeses                         578\n",
       "waffles                         575\n",
       "soap                            574\n",
       "bagels                          573\n",
       "lunch meat                      573\n",
       "juice                           570\n",
       "eggs                            570\n",
       "toilet paper                    569\n",
       "dinner rolls                    567\n",
       "aluminum foil                   566\n",
       "coffee/tea                      565\n",
       "shampoo                         562\n",
       "beef                            561\n",
       "paper towels                    556\n",
       "flour                           555\n",
       "butter                          555\n",
       "milk                            555\n",
       "mixes                           554\n",
       "dishwashing liquid/detergent    551\n",
       "all- purpose                    551\n",
       "ketchup                         548\n",
       "yogurt                          545\n",
       "individual meals                544\n",
       "tortillas                       543\n",
       "pasta                           542\n",
       "laundry detergent               542\n",
       "spaghetti sauce                 536\n",
       "sandwich bags                   536\n",
       "sugar                           533\n",
       "pork                            531\n",
       "fruits                          529\n",
       "sandwich loaves                 523\n",
       "hand soap                       502\n",
       "Name: count, dtype: int64"
      ]
     },
     "execution_count": 51,
     "metadata": {},
     "output_type": "execute_result"
    }
   ],
   "source": [
    "df.Product.value_counts()"
   ]
  },
  {
   "cell_type": "code",
   "execution_count": 54,
   "id": "9bc09248",
   "metadata": {},
   "outputs": [
    {
     "name": "stdout",
     "output_type": "stream",
     "text": [
      "       Order_id            Product  Count\n",
      "0             1       all- purpose      3\n",
      "1             1      aluminum foil      1\n",
      "2             1               beef      1\n",
      "3             1             butter      1\n",
      "4             1       dinner rolls      2\n",
      "...         ...                ...    ...\n",
      "15906      1138            waffles      1\n",
      "15907      1138             yogurt      1\n",
      "15908      1139  laundry detergent      1\n",
      "15909      1139            shampoo      1\n",
      "15910      1139               soda      1\n",
      "\n",
      "[15911 rows x 3 columns]\n"
     ]
    }
   ],
   "source": [
    "print(df.groupby(['Order_id', 'Product']).size().reset_index(name='Count'))"
   ]
  },
  {
   "cell_type": "code",
   "execution_count": 4,
   "id": "1c00b6a3",
   "metadata": {},
   "outputs": [
    {
     "data": {
      "text/html": [
       "<div>\n",
       "<style scoped>\n",
       "    .dataframe tbody tr th:only-of-type {\n",
       "        vertical-align: middle;\n",
       "    }\n",
       "\n",
       "    .dataframe tbody tr th {\n",
       "        vertical-align: top;\n",
       "    }\n",
       "\n",
       "    .dataframe thead th {\n",
       "        text-align: right;\n",
       "    }\n",
       "</style>\n",
       "<table border=\"1\" class=\"dataframe\">\n",
       "  <thead>\n",
       "    <tr style=\"text-align: right;\">\n",
       "      <th></th>\n",
       "      <th>Date</th>\n",
       "      <th>Order_id</th>\n",
       "      <th>Product</th>\n",
       "    </tr>\n",
       "  </thead>\n",
       "  <tbody>\n",
       "    <tr>\n",
       "      <th>0</th>\n",
       "      <td>01-01-2018</td>\n",
       "      <td>1</td>\n",
       "      <td>yogurt</td>\n",
       "    </tr>\n",
       "    <tr>\n",
       "      <th>1</th>\n",
       "      <td>01-01-2018</td>\n",
       "      <td>1</td>\n",
       "      <td>pork</td>\n",
       "    </tr>\n",
       "    <tr>\n",
       "      <th>2</th>\n",
       "      <td>01-01-2018</td>\n",
       "      <td>1</td>\n",
       "      <td>sandwich bags</td>\n",
       "    </tr>\n",
       "    <tr>\n",
       "      <th>3</th>\n",
       "      <td>01-01-2018</td>\n",
       "      <td>1</td>\n",
       "      <td>lunch meat</td>\n",
       "    </tr>\n",
       "    <tr>\n",
       "      <th>4</th>\n",
       "      <td>01-01-2018</td>\n",
       "      <td>1</td>\n",
       "      <td>all- purpose</td>\n",
       "    </tr>\n",
       "  </tbody>\n",
       "</table>\n",
       "</div>"
      ],
      "text/plain": [
       "         Date  Order_id        Product\n",
       "0  01-01-2018         1         yogurt\n",
       "1  01-01-2018         1           pork\n",
       "2  01-01-2018         1  sandwich bags\n",
       "3  01-01-2018         1     lunch meat\n",
       "4  01-01-2018         1   all- purpose"
      ]
     },
     "execution_count": 4,
     "metadata": {},
     "output_type": "execute_result"
    }
   ],
   "source": [
    "df.head()"
   ]
  },
  {
   "cell_type": "code",
   "execution_count": 55,
   "id": "97dbec95",
   "metadata": {},
   "outputs": [
    {
     "data": {
      "text/html": [
       "<div>\n",
       "<style scoped>\n",
       "    .dataframe tbody tr th:only-of-type {\n",
       "        vertical-align: middle;\n",
       "    }\n",
       "\n",
       "    .dataframe tbody tr th {\n",
       "        vertical-align: top;\n",
       "    }\n",
       "\n",
       "    .dataframe thead th {\n",
       "        text-align: right;\n",
       "    }\n",
       "</style>\n",
       "<table border=\"1\" class=\"dataframe\">\n",
       "  <thead>\n",
       "    <tr style=\"text-align: right;\">\n",
       "      <th></th>\n",
       "      <th>Date</th>\n",
       "      <th>Order_id</th>\n",
       "      <th>Product</th>\n",
       "    </tr>\n",
       "  </thead>\n",
       "  <tbody>\n",
       "    <tr>\n",
       "      <th>20636</th>\n",
       "      <td>2020-02-25</td>\n",
       "      <td>1138</td>\n",
       "      <td>soda</td>\n",
       "    </tr>\n",
       "    <tr>\n",
       "      <th>20637</th>\n",
       "      <td>2020-02-25</td>\n",
       "      <td>1138</td>\n",
       "      <td>paper towels</td>\n",
       "    </tr>\n",
       "    <tr>\n",
       "      <th>20638</th>\n",
       "      <td>2020-02-26</td>\n",
       "      <td>1139</td>\n",
       "      <td>soda</td>\n",
       "    </tr>\n",
       "    <tr>\n",
       "      <th>20639</th>\n",
       "      <td>2020-02-26</td>\n",
       "      <td>1139</td>\n",
       "      <td>laundry detergent</td>\n",
       "    </tr>\n",
       "    <tr>\n",
       "      <th>20640</th>\n",
       "      <td>2020-02-26</td>\n",
       "      <td>1139</td>\n",
       "      <td>shampoo</td>\n",
       "    </tr>\n",
       "  </tbody>\n",
       "</table>\n",
       "</div>"
      ],
      "text/plain": [
       "            Date  Order_id            Product\n",
       "20636 2020-02-25      1138               soda\n",
       "20637 2020-02-25      1138       paper towels\n",
       "20638 2020-02-26      1139               soda\n",
       "20639 2020-02-26      1139  laundry detergent\n",
       "20640 2020-02-26      1139            shampoo"
      ]
     },
     "execution_count": 55,
     "metadata": {},
     "output_type": "execute_result"
    }
   ],
   "source": [
    "df.tail()"
   ]
  },
  {
   "cell_type": "code",
   "execution_count": 5,
   "id": "5809afa7",
   "metadata": {},
   "outputs": [
    {
     "data": {
      "text/plain": [
       "(20641, 3)"
      ]
     },
     "execution_count": 5,
     "metadata": {},
     "output_type": "execute_result"
    }
   ],
   "source": [
    "df.shape"
   ]
  },
  {
   "cell_type": "code",
   "execution_count": 42,
   "id": "e8d488fd",
   "metadata": {},
   "outputs": [
    {
     "data": {
      "text/plain": [
       "Date        0\n",
       "Order_id    0\n",
       "Product     0\n",
       "dtype: int64"
      ]
     },
     "execution_count": 42,
     "metadata": {},
     "output_type": "execute_result"
    }
   ],
   "source": [
    "df.isnull().sum()"
   ]
  },
  {
   "cell_type": "code",
   "execution_count": 43,
   "id": "73580696",
   "metadata": {},
   "outputs": [
    {
     "data": {
      "text/plain": [
       "4730"
      ]
     },
     "execution_count": 43,
     "metadata": {},
     "output_type": "execute_result"
    }
   ],
   "source": [
    "df.duplicated().sum() "
   ]
  },
  {
   "cell_type": "code",
   "execution_count": 46,
   "id": "fec12cec",
   "metadata": {},
   "outputs": [
    {
     "data": {
      "text/plain": [
       "4730"
      ]
     },
     "execution_count": 46,
     "metadata": {},
     "output_type": "execute_result"
    }
   ],
   "source": [
    "df_datesplit.duplicated().sum()"
   ]
  },
  {
   "cell_type": "code",
   "execution_count": 45,
   "id": "6857e0a3",
   "metadata": {},
   "outputs": [
    {
     "data": {
      "text/plain": [
       "<bound method DataFrame.duplicated of             Date  Order_id            Product\n",
       "0     2018-01-01         1             yogurt\n",
       "1     2018-01-01         1               pork\n",
       "2     2018-01-01         1      sandwich bags\n",
       "3     2018-01-01         1         lunch meat\n",
       "4     2018-01-01         1       all- purpose\n",
       "...          ...       ...                ...\n",
       "20636 2020-02-25      1138               soda\n",
       "20637 2020-02-25      1138       paper towels\n",
       "20638 2020-02-26      1139               soda\n",
       "20639 2020-02-26      1139  laundry detergent\n",
       "20640 2020-02-26      1139            shampoo\n",
       "\n",
       "[20641 rows x 3 columns]>"
      ]
     },
     "execution_count": 45,
     "metadata": {},
     "output_type": "execute_result"
    }
   ],
   "source": [
    "df_datesplit.duplicated().sum()"
   ]
  },
  {
   "cell_type": "code",
   "execution_count": 6,
   "id": "c047a8a4",
   "metadata": {},
   "outputs": [
    {
     "data": {
      "text/html": [
       "<div>\n",
       "<style scoped>\n",
       "    .dataframe tbody tr th:only-of-type {\n",
       "        vertical-align: middle;\n",
       "    }\n",
       "\n",
       "    .dataframe tbody tr th {\n",
       "        vertical-align: top;\n",
       "    }\n",
       "\n",
       "    .dataframe thead th {\n",
       "        text-align: right;\n",
       "    }\n",
       "</style>\n",
       "<table border=\"1\" class=\"dataframe\">\n",
       "  <thead>\n",
       "    <tr style=\"text-align: right;\">\n",
       "      <th></th>\n",
       "      <th>count</th>\n",
       "      <th>mean</th>\n",
       "      <th>std</th>\n",
       "      <th>min</th>\n",
       "      <th>25%</th>\n",
       "      <th>50%</th>\n",
       "      <th>75%</th>\n",
       "      <th>max</th>\n",
       "    </tr>\n",
       "  </thead>\n",
       "  <tbody>\n",
       "    <tr>\n",
       "      <th>Order_id</th>\n",
       "      <td>20641.0</td>\n",
       "      <td>575.986289</td>\n",
       "      <td>328.557078</td>\n",
       "      <td>1.0</td>\n",
       "      <td>292.0</td>\n",
       "      <td>581.0</td>\n",
       "      <td>862.0</td>\n",
       "      <td>1139.0</td>\n",
       "    </tr>\n",
       "  </tbody>\n",
       "</table>\n",
       "</div>"
      ],
      "text/plain": [
       "            count        mean         std  min    25%    50%    75%     max\n",
       "Order_id  20641.0  575.986289  328.557078  1.0  292.0  581.0  862.0  1139.0"
      ]
     },
     "execution_count": 6,
     "metadata": {},
     "output_type": "execute_result"
    }
   ],
   "source": [
    "df.describe().T"
   ]
  },
  {
   "cell_type": "code",
   "execution_count": 7,
   "id": "d75e0bf3",
   "metadata": {},
   "outputs": [
    {
     "name": "stdout",
     "output_type": "stream",
     "text": [
      "<class 'pandas.core.frame.DataFrame'>\n",
      "RangeIndex: 20641 entries, 0 to 20640\n",
      "Data columns (total 3 columns):\n",
      " #   Column    Non-Null Count  Dtype         \n",
      "---  ------    --------------  -----         \n",
      " 0   Date      20641 non-null  datetime64[ns]\n",
      " 1   Order_id  20641 non-null  int64         \n",
      " 2   Product   20641 non-null  object        \n",
      "dtypes: datetime64[ns](1), int64(1), object(1)\n",
      "memory usage: 483.9+ KB\n"
     ]
    }
   ],
   "source": [
    "df['Date'] = pd.to_datetime(df['Date'], format='%d-%m-%Y')\n",
    "df.info()"
   ]
  },
  {
   "cell_type": "code",
   "execution_count": 8,
   "id": "88b6080b",
   "metadata": {},
   "outputs": [],
   "source": [
    "df_datesplit = df.copy()"
   ]
  },
  {
   "cell_type": "code",
   "execution_count": 9,
   "id": "2ee35fa3",
   "metadata": {},
   "outputs": [],
   "source": [
    "df_datesplit['YEAR'] = pd.PeriodIndex(df_datesplit['Date'], freq='Y')\n",
    "df_datesplit['MONTH'] = pd.PeriodIndex(df_datesplit['Date'], freq='M')\n",
    "df_datesplit['QUARTER'] = pd.PeriodIndex(df_datesplit['Date'], freq='Q')\n",
    "df_datesplit['WEEK'] = pd.PeriodIndex(df_datesplit['Date'], freq='W')"
   ]
  },
  {
   "cell_type": "code",
   "execution_count": 10,
   "id": "31147afb",
   "metadata": {},
   "outputs": [],
   "source": [
    "df_datesplit['DAY'] = df_datesplit.Date.dt.strftime('%A')\n",
    "df_datesplit['MONTH_NAME'] = df_datesplit['Date'].dt.strftime('%b')"
   ]
  },
  {
   "cell_type": "code",
   "execution_count": 12,
   "id": "d8b65594",
   "metadata": {},
   "outputs": [
    {
     "data": {
      "text/html": [
       "<div>\n",
       "<style scoped>\n",
       "    .dataframe tbody tr th:only-of-type {\n",
       "        vertical-align: middle;\n",
       "    }\n",
       "\n",
       "    .dataframe tbody tr th {\n",
       "        vertical-align: top;\n",
       "    }\n",
       "\n",
       "    .dataframe thead th {\n",
       "        text-align: right;\n",
       "    }\n",
       "</style>\n",
       "<table border=\"1\" class=\"dataframe\">\n",
       "  <thead>\n",
       "    <tr style=\"text-align: right;\">\n",
       "      <th></th>\n",
       "      <th>Date</th>\n",
       "      <th>Order_id</th>\n",
       "      <th>Product</th>\n",
       "      <th>YEAR</th>\n",
       "      <th>MONTH</th>\n",
       "      <th>QUARTER</th>\n",
       "      <th>WEEK</th>\n",
       "      <th>DAY</th>\n",
       "      <th>MONTH_NAME</th>\n",
       "    </tr>\n",
       "  </thead>\n",
       "  <tbody>\n",
       "    <tr>\n",
       "      <th>0</th>\n",
       "      <td>2018-01-01</td>\n",
       "      <td>1</td>\n",
       "      <td>yogurt</td>\n",
       "      <td>2018</td>\n",
       "      <td>2018-01</td>\n",
       "      <td>2018Q1</td>\n",
       "      <td>2018-01-01/2018-01-07</td>\n",
       "      <td>Monday</td>\n",
       "      <td>Jan</td>\n",
       "    </tr>\n",
       "    <tr>\n",
       "      <th>1</th>\n",
       "      <td>2018-01-01</td>\n",
       "      <td>1</td>\n",
       "      <td>pork</td>\n",
       "      <td>2018</td>\n",
       "      <td>2018-01</td>\n",
       "      <td>2018Q1</td>\n",
       "      <td>2018-01-01/2018-01-07</td>\n",
       "      <td>Monday</td>\n",
       "      <td>Jan</td>\n",
       "    </tr>\n",
       "    <tr>\n",
       "      <th>2</th>\n",
       "      <td>2018-01-01</td>\n",
       "      <td>1</td>\n",
       "      <td>sandwich bags</td>\n",
       "      <td>2018</td>\n",
       "      <td>2018-01</td>\n",
       "      <td>2018Q1</td>\n",
       "      <td>2018-01-01/2018-01-07</td>\n",
       "      <td>Monday</td>\n",
       "      <td>Jan</td>\n",
       "    </tr>\n",
       "    <tr>\n",
       "      <th>3</th>\n",
       "      <td>2018-01-01</td>\n",
       "      <td>1</td>\n",
       "      <td>lunch meat</td>\n",
       "      <td>2018</td>\n",
       "      <td>2018-01</td>\n",
       "      <td>2018Q1</td>\n",
       "      <td>2018-01-01/2018-01-07</td>\n",
       "      <td>Monday</td>\n",
       "      <td>Jan</td>\n",
       "    </tr>\n",
       "    <tr>\n",
       "      <th>4</th>\n",
       "      <td>2018-01-01</td>\n",
       "      <td>1</td>\n",
       "      <td>all- purpose</td>\n",
       "      <td>2018</td>\n",
       "      <td>2018-01</td>\n",
       "      <td>2018Q1</td>\n",
       "      <td>2018-01-01/2018-01-07</td>\n",
       "      <td>Monday</td>\n",
       "      <td>Jan</td>\n",
       "    </tr>\n",
       "  </tbody>\n",
       "</table>\n",
       "</div>"
      ],
      "text/plain": [
       "        Date  Order_id        Product  YEAR    MONTH QUARTER  \\\n",
       "0 2018-01-01         1         yogurt  2018  2018-01  2018Q1   \n",
       "1 2018-01-01         1           pork  2018  2018-01  2018Q1   \n",
       "2 2018-01-01         1  sandwich bags  2018  2018-01  2018Q1   \n",
       "3 2018-01-01         1     lunch meat  2018  2018-01  2018Q1   \n",
       "4 2018-01-01         1   all- purpose  2018  2018-01  2018Q1   \n",
       "\n",
       "                    WEEK     DAY MONTH_NAME  \n",
       "0  2018-01-01/2018-01-07  Monday        Jan  \n",
       "1  2018-01-01/2018-01-07  Monday        Jan  \n",
       "2  2018-01-01/2018-01-07  Monday        Jan  \n",
       "3  2018-01-01/2018-01-07  Monday        Jan  \n",
       "4  2018-01-01/2018-01-07  Monday        Jan  "
      ]
     },
     "execution_count": 12,
     "metadata": {},
     "output_type": "execute_result"
    }
   ],
   "source": [
    "df_datesplit.head()"
   ]
  },
  {
   "cell_type": "code",
   "execution_count": 13,
   "id": "d7f29978",
   "metadata": {},
   "outputs": [
    {
     "data": {
      "text/html": [
       "<div>\n",
       "<style scoped>\n",
       "    .dataframe tbody tr th:only-of-type {\n",
       "        vertical-align: middle;\n",
       "    }\n",
       "\n",
       "    .dataframe tbody tr th {\n",
       "        vertical-align: top;\n",
       "    }\n",
       "\n",
       "    .dataframe thead th {\n",
       "        text-align: right;\n",
       "    }\n",
       "</style>\n",
       "<table border=\"1\" class=\"dataframe\">\n",
       "  <thead>\n",
       "    <tr style=\"text-align: right;\">\n",
       "      <th></th>\n",
       "      <th>Date</th>\n",
       "      <th>Order_id</th>\n",
       "      <th>Product</th>\n",
       "      <th>YEAR</th>\n",
       "      <th>MONTH</th>\n",
       "      <th>QUARTER</th>\n",
       "      <th>WEEK</th>\n",
       "      <th>DAY</th>\n",
       "      <th>MONTH_NAME</th>\n",
       "    </tr>\n",
       "  </thead>\n",
       "  <tbody>\n",
       "    <tr>\n",
       "      <th>20636</th>\n",
       "      <td>2020-02-25</td>\n",
       "      <td>1138</td>\n",
       "      <td>soda</td>\n",
       "      <td>2020</td>\n",
       "      <td>2020-02</td>\n",
       "      <td>2020Q1</td>\n",
       "      <td>2020-02-24/2020-03-01</td>\n",
       "      <td>Tuesday</td>\n",
       "      <td>Feb</td>\n",
       "    </tr>\n",
       "    <tr>\n",
       "      <th>20637</th>\n",
       "      <td>2020-02-25</td>\n",
       "      <td>1138</td>\n",
       "      <td>paper towels</td>\n",
       "      <td>2020</td>\n",
       "      <td>2020-02</td>\n",
       "      <td>2020Q1</td>\n",
       "      <td>2020-02-24/2020-03-01</td>\n",
       "      <td>Tuesday</td>\n",
       "      <td>Feb</td>\n",
       "    </tr>\n",
       "    <tr>\n",
       "      <th>20638</th>\n",
       "      <td>2020-02-26</td>\n",
       "      <td>1139</td>\n",
       "      <td>soda</td>\n",
       "      <td>2020</td>\n",
       "      <td>2020-02</td>\n",
       "      <td>2020Q1</td>\n",
       "      <td>2020-02-24/2020-03-01</td>\n",
       "      <td>Wednesday</td>\n",
       "      <td>Feb</td>\n",
       "    </tr>\n",
       "    <tr>\n",
       "      <th>20639</th>\n",
       "      <td>2020-02-26</td>\n",
       "      <td>1139</td>\n",
       "      <td>laundry detergent</td>\n",
       "      <td>2020</td>\n",
       "      <td>2020-02</td>\n",
       "      <td>2020Q1</td>\n",
       "      <td>2020-02-24/2020-03-01</td>\n",
       "      <td>Wednesday</td>\n",
       "      <td>Feb</td>\n",
       "    </tr>\n",
       "    <tr>\n",
       "      <th>20640</th>\n",
       "      <td>2020-02-26</td>\n",
       "      <td>1139</td>\n",
       "      <td>shampoo</td>\n",
       "      <td>2020</td>\n",
       "      <td>2020-02</td>\n",
       "      <td>2020Q1</td>\n",
       "      <td>2020-02-24/2020-03-01</td>\n",
       "      <td>Wednesday</td>\n",
       "      <td>Feb</td>\n",
       "    </tr>\n",
       "  </tbody>\n",
       "</table>\n",
       "</div>"
      ],
      "text/plain": [
       "            Date  Order_id            Product  YEAR    MONTH QUARTER  \\\n",
       "20636 2020-02-25      1138               soda  2020  2020-02  2020Q1   \n",
       "20637 2020-02-25      1138       paper towels  2020  2020-02  2020Q1   \n",
       "20638 2020-02-26      1139               soda  2020  2020-02  2020Q1   \n",
       "20639 2020-02-26      1139  laundry detergent  2020  2020-02  2020Q1   \n",
       "20640 2020-02-26      1139            shampoo  2020  2020-02  2020Q1   \n",
       "\n",
       "                        WEEK        DAY MONTH_NAME  \n",
       "20636  2020-02-24/2020-03-01    Tuesday        Feb  \n",
       "20637  2020-02-24/2020-03-01    Tuesday        Feb  \n",
       "20638  2020-02-24/2020-03-01  Wednesday        Feb  \n",
       "20639  2020-02-24/2020-03-01  Wednesday        Feb  \n",
       "20640  2020-02-24/2020-03-01  Wednesday        Feb  "
      ]
     },
     "execution_count": 13,
     "metadata": {},
     "output_type": "execute_result"
    }
   ],
   "source": [
    "df_datesplit.tail()"
   ]
  },
  {
   "cell_type": "code",
   "execution_count": 14,
   "id": "2aa87473",
   "metadata": {},
   "outputs": [
    {
     "name": "stdout",
     "output_type": "stream",
     "text": [
      "First date of Sales data =  2018-01-01 00:00:00\n",
      "Last date of Sales data =  2020-02-26 00:00:00\n"
     ]
    }
   ],
   "source": [
    "print('First date of Sales data = ', min(df_datesplit['Date']))\n",
    "print('Last date of Sales data = ', max(df_datesplit['Date']))"
   ]
  },
  {
   "cell_type": "code",
   "execution_count": 15,
   "id": "821f97fa",
   "metadata": {},
   "outputs": [
    {
     "data": {
      "text/html": [
       "<div>\n",
       "<style scoped>\n",
       "    .dataframe tbody tr th:only-of-type {\n",
       "        vertical-align: middle;\n",
       "    }\n",
       "\n",
       "    .dataframe tbody tr th {\n",
       "        vertical-align: top;\n",
       "    }\n",
       "\n",
       "    .dataframe thead th {\n",
       "        text-align: right;\n",
       "    }\n",
       "</style>\n",
       "<table border=\"1\" class=\"dataframe\">\n",
       "  <thead>\n",
       "    <tr style=\"text-align: right;\">\n",
       "      <th></th>\n",
       "      <th>Num_of_Orders</th>\n",
       "      <th>Num_of_Products</th>\n",
       "    </tr>\n",
       "    <tr>\n",
       "      <th>YEAR</th>\n",
       "      <th></th>\n",
       "      <th></th>\n",
       "    </tr>\n",
       "  </thead>\n",
       "  <tbody>\n",
       "    <tr>\n",
       "      <th>2018</th>\n",
       "      <td>533</td>\n",
       "      <td>9479</td>\n",
       "    </tr>\n",
       "    <tr>\n",
       "      <th>2019</th>\n",
       "      <td>507</td>\n",
       "      <td>9333</td>\n",
       "    </tr>\n",
       "    <tr>\n",
       "      <th>2020</th>\n",
       "      <td>99</td>\n",
       "      <td>1829</td>\n",
       "    </tr>\n",
       "  </tbody>\n",
       "</table>\n",
       "</div>"
      ],
      "text/plain": [
       "      Num_of_Orders  Num_of_Products\n",
       "YEAR                                \n",
       "2018            533             9479\n",
       "2019            507             9333\n",
       "2020             99             1829"
      ]
     },
     "execution_count": 15,
     "metadata": {},
     "output_type": "execute_result"
    }
   ],
   "source": [
    "df3 = df_datesplit.copy()\n",
    "df_yr = pd.DataFrame(df3[['YEAR', 'Order_id', 'Product']].groupby('YEAR').agg({'Order_id': 'nunique',\n",
    "                                                                  'Product': 'count'}))\n",
    "newname = {'Order_id': 'Num_of_Orders', 'Product': 'Num_of_Products'}\n",
    "df_yr.rename(columns=newname, inplace=True)\n",
    "df_yr"
   ]
  },
  {
   "cell_type": "code",
   "execution_count": 18,
   "id": "e21ec72e",
   "metadata": {},
   "outputs": [
    {
     "data": {
      "text/html": [
       "<div>\n",
       "<style scoped>\n",
       "    .dataframe tbody tr th:only-of-type {\n",
       "        vertical-align: middle;\n",
       "    }\n",
       "\n",
       "    .dataframe tbody tr th {\n",
       "        vertical-align: top;\n",
       "    }\n",
       "\n",
       "    .dataframe thead th {\n",
       "        text-align: right;\n",
       "    }\n",
       "</style>\n",
       "<table border=\"1\" class=\"dataframe\">\n",
       "  <thead>\n",
       "    <tr style=\"text-align: right;\">\n",
       "      <th></th>\n",
       "      <th>Num_of_Orders</th>\n",
       "      <th>Num_of_Products</th>\n",
       "    </tr>\n",
       "    <tr>\n",
       "      <th>QUARTER</th>\n",
       "      <th></th>\n",
       "      <th></th>\n",
       "    </tr>\n",
       "  </thead>\n",
       "  <tbody>\n",
       "    <tr>\n",
       "      <th>2018Q1</th>\n",
       "      <td>175</td>\n",
       "      <td>3114</td>\n",
       "    </tr>\n",
       "    <tr>\n",
       "      <th>2018Q2</th>\n",
       "      <td>178</td>\n",
       "      <td>3047</td>\n",
       "    </tr>\n",
       "    <tr>\n",
       "      <th>2018Q3</th>\n",
       "      <td>180</td>\n",
       "      <td>3318</td>\n",
       "    </tr>\n",
       "    <tr>\n",
       "      <th>2019Q1</th>\n",
       "      <td>180</td>\n",
       "      <td>3354</td>\n",
       "    </tr>\n",
       "    <tr>\n",
       "      <th>2019Q2</th>\n",
       "      <td>170</td>\n",
       "      <td>3054</td>\n",
       "    </tr>\n",
       "    <tr>\n",
       "      <th>2019Q3</th>\n",
       "      <td>157</td>\n",
       "      <td>2925</td>\n",
       "    </tr>\n",
       "    <tr>\n",
       "      <th>2020Q1</th>\n",
       "      <td>99</td>\n",
       "      <td>1829</td>\n",
       "    </tr>\n",
       "  </tbody>\n",
       "</table>\n",
       "</div>"
      ],
      "text/plain": [
       "         Num_of_Orders  Num_of_Products\n",
       "QUARTER                                \n",
       "2018Q1             175             3114\n",
       "2018Q2             178             3047\n",
       "2018Q3             180             3318\n",
       "2019Q1             180             3354\n",
       "2019Q2             170             3054\n",
       "2019Q3             157             2925\n",
       "2020Q1              99             1829"
      ]
     },
     "execution_count": 18,
     "metadata": {},
     "output_type": "execute_result"
    }
   ],
   "source": [
    "df3 = df_datesplit.copy()\n",
    "df_qtr = pd.DataFrame(df3[['QUARTER', 'Order_id', 'Product']].groupby('QUARTER').agg({'Order_id': 'nunique',\n",
    "                                                                  'Product': 'count'}))\n",
    "newname = {'Order_id': 'Num_of_Orders', 'Product': 'Num_of_Products'}\n",
    "df_qtr.rename(columns=newname, inplace=True)\n",
    "df_qtr"
   ]
  },
  {
   "cell_type": "code",
   "execution_count": 21,
   "id": "4fe61c88",
   "metadata": {},
   "outputs": [
    {
     "data": {
      "text/html": [
       "<div>\n",
       "<style scoped>\n",
       "    .dataframe tbody tr th:only-of-type {\n",
       "        vertical-align: middle;\n",
       "    }\n",
       "\n",
       "    .dataframe tbody tr th {\n",
       "        vertical-align: top;\n",
       "    }\n",
       "\n",
       "    .dataframe thead th {\n",
       "        text-align: right;\n",
       "    }\n",
       "</style>\n",
       "<table border=\"1\" class=\"dataframe\">\n",
       "  <thead>\n",
       "    <tr style=\"text-align: right;\">\n",
       "      <th></th>\n",
       "      <th>Num_of_Orders</th>\n",
       "      <th>Num_of_Products</th>\n",
       "    </tr>\n",
       "    <tr>\n",
       "      <th>MONTH</th>\n",
       "      <th></th>\n",
       "      <th></th>\n",
       "    </tr>\n",
       "  </thead>\n",
       "  <tbody>\n",
       "    <tr>\n",
       "      <th>2018-01</th>\n",
       "      <td>62</td>\n",
       "      <td>1170</td>\n",
       "    </tr>\n",
       "    <tr>\n",
       "      <th>2018-02</th>\n",
       "      <td>55</td>\n",
       "      <td>907</td>\n",
       "    </tr>\n",
       "    <tr>\n",
       "      <th>2018-03</th>\n",
       "      <td>58</td>\n",
       "      <td>1037</td>\n",
       "    </tr>\n",
       "    <tr>\n",
       "      <th>2018-04</th>\n",
       "      <td>55</td>\n",
       "      <td>962</td>\n",
       "    </tr>\n",
       "    <tr>\n",
       "      <th>2018-05</th>\n",
       "      <td>67</td>\n",
       "      <td>1155</td>\n",
       "    </tr>\n",
       "    <tr>\n",
       "      <th>2018-06</th>\n",
       "      <td>56</td>\n",
       "      <td>930</td>\n",
       "    </tr>\n",
       "    <tr>\n",
       "      <th>2018-07</th>\n",
       "      <td>62</td>\n",
       "      <td>1054</td>\n",
       "    </tr>\n",
       "    <tr>\n",
       "      <th>2018-08</th>\n",
       "      <td>59</td>\n",
       "      <td>1159</td>\n",
       "    </tr>\n",
       "    <tr>\n",
       "      <th>2018-09</th>\n",
       "      <td>59</td>\n",
       "      <td>1105</td>\n",
       "    </tr>\n",
       "    <tr>\n",
       "      <th>2019-01</th>\n",
       "      <td>51</td>\n",
       "      <td>919</td>\n",
       "    </tr>\n",
       "    <tr>\n",
       "      <th>2019-02</th>\n",
       "      <td>63</td>\n",
       "      <td>1217</td>\n",
       "    </tr>\n",
       "    <tr>\n",
       "      <th>2019-03</th>\n",
       "      <td>66</td>\n",
       "      <td>1218</td>\n",
       "    </tr>\n",
       "    <tr>\n",
       "      <th>2019-04</th>\n",
       "      <td>55</td>\n",
       "      <td>975</td>\n",
       "    </tr>\n",
       "    <tr>\n",
       "      <th>2019-05</th>\n",
       "      <td>66</td>\n",
       "      <td>1182</td>\n",
       "    </tr>\n",
       "    <tr>\n",
       "      <th>2019-06</th>\n",
       "      <td>49</td>\n",
       "      <td>897</td>\n",
       "    </tr>\n",
       "    <tr>\n",
       "      <th>2019-07</th>\n",
       "      <td>53</td>\n",
       "      <td>943</td>\n",
       "    </tr>\n",
       "    <tr>\n",
       "      <th>2019-08</th>\n",
       "      <td>48</td>\n",
       "      <td>961</td>\n",
       "    </tr>\n",
       "    <tr>\n",
       "      <th>2019-09</th>\n",
       "      <td>56</td>\n",
       "      <td>1021</td>\n",
       "    </tr>\n",
       "    <tr>\n",
       "      <th>2020-01</th>\n",
       "      <td>61</td>\n",
       "      <td>1138</td>\n",
       "    </tr>\n",
       "    <tr>\n",
       "      <th>2020-02</th>\n",
       "      <td>38</td>\n",
       "      <td>691</td>\n",
       "    </tr>\n",
       "  </tbody>\n",
       "</table>\n",
       "</div>"
      ],
      "text/plain": [
       "         Num_of_Orders  Num_of_Products\n",
       "MONTH                                  \n",
       "2018-01             62             1170\n",
       "2018-02             55              907\n",
       "2018-03             58             1037\n",
       "2018-04             55              962\n",
       "2018-05             67             1155\n",
       "2018-06             56              930\n",
       "2018-07             62             1054\n",
       "2018-08             59             1159\n",
       "2018-09             59             1105\n",
       "2019-01             51              919\n",
       "2019-02             63             1217\n",
       "2019-03             66             1218\n",
       "2019-04             55              975\n",
       "2019-05             66             1182\n",
       "2019-06             49              897\n",
       "2019-07             53              943\n",
       "2019-08             48              961\n",
       "2019-09             56             1021\n",
       "2020-01             61             1138\n",
       "2020-02             38              691"
      ]
     },
     "execution_count": 21,
     "metadata": {},
     "output_type": "execute_result"
    }
   ],
   "source": [
    "df3 = df_datesplit.copy()\n",
    "df_month = pd.DataFrame(df3[['MONTH', 'Order_id', 'Product']].groupby('MONTH').agg({'Order_id': 'nunique',\n",
    "                                                                  'Product': 'count'}))\n",
    "newname = {'Order_id': 'Num_of_Orders', 'Product': 'Num_of_Products'}\n",
    "df_month.rename(columns=newname, inplace=True)\n",
    "df_month"
   ]
  },
  {
   "cell_type": "code",
   "execution_count": 24,
   "id": "9496242f",
   "metadata": {},
   "outputs": [
    {
     "data": {
      "text/html": [
       "<div>\n",
       "<style scoped>\n",
       "    .dataframe tbody tr th:only-of-type {\n",
       "        vertical-align: middle;\n",
       "    }\n",
       "\n",
       "    .dataframe tbody tr th {\n",
       "        vertical-align: top;\n",
       "    }\n",
       "\n",
       "    .dataframe thead th {\n",
       "        text-align: right;\n",
       "    }\n",
       "</style>\n",
       "<table border=\"1\" class=\"dataframe\">\n",
       "  <thead>\n",
       "    <tr style=\"text-align: right;\">\n",
       "      <th></th>\n",
       "      <th>Num_of_Orders</th>\n",
       "      <th>Num_of_Products</th>\n",
       "    </tr>\n",
       "    <tr>\n",
       "      <th>WEEK</th>\n",
       "      <th></th>\n",
       "      <th></th>\n",
       "    </tr>\n",
       "  </thead>\n",
       "  <tbody>\n",
       "    <tr>\n",
       "      <th>2018-01-01/2018-01-07</th>\n",
       "      <td>15</td>\n",
       "      <td>285</td>\n",
       "    </tr>\n",
       "    <tr>\n",
       "      <th>2018-01-08/2018-01-14</th>\n",
       "      <td>15</td>\n",
       "      <td>247</td>\n",
       "    </tr>\n",
       "    <tr>\n",
       "      <th>2018-01-15/2018-01-21</th>\n",
       "      <td>17</td>\n",
       "      <td>350</td>\n",
       "    </tr>\n",
       "    <tr>\n",
       "      <th>2018-01-22/2018-01-28</th>\n",
       "      <td>8</td>\n",
       "      <td>151</td>\n",
       "    </tr>\n",
       "    <tr>\n",
       "      <th>2018-01-29/2018-02-04</th>\n",
       "      <td>17</td>\n",
       "      <td>304</td>\n",
       "    </tr>\n",
       "    <tr>\n",
       "      <th>...</th>\n",
       "      <td>...</td>\n",
       "      <td>...</td>\n",
       "    </tr>\n",
       "    <tr>\n",
       "      <th>2020-01-27/2020-02-02</th>\n",
       "      <td>10</td>\n",
       "      <td>204</td>\n",
       "    </tr>\n",
       "    <tr>\n",
       "      <th>2020-02-03/2020-02-09</th>\n",
       "      <td>13</td>\n",
       "      <td>202</td>\n",
       "    </tr>\n",
       "    <tr>\n",
       "      <th>2020-02-10/2020-02-16</th>\n",
       "      <td>10</td>\n",
       "      <td>183</td>\n",
       "    </tr>\n",
       "    <tr>\n",
       "      <th>2020-02-17/2020-02-23</th>\n",
       "      <td>10</td>\n",
       "      <td>213</td>\n",
       "    </tr>\n",
       "    <tr>\n",
       "      <th>2020-02-24/2020-03-01</th>\n",
       "      <td>3</td>\n",
       "      <td>45</td>\n",
       "    </tr>\n",
       "  </tbody>\n",
       "</table>\n",
       "<p>88 rows × 2 columns</p>\n",
       "</div>"
      ],
      "text/plain": [
       "                       Num_of_Orders  Num_of_Products\n",
       "WEEK                                                 \n",
       "2018-01-01/2018-01-07             15              285\n",
       "2018-01-08/2018-01-14             15              247\n",
       "2018-01-15/2018-01-21             17              350\n",
       "2018-01-22/2018-01-28              8              151\n",
       "2018-01-29/2018-02-04             17              304\n",
       "...                              ...              ...\n",
       "2020-01-27/2020-02-02             10              204\n",
       "2020-02-03/2020-02-09             13              202\n",
       "2020-02-10/2020-02-16             10              183\n",
       "2020-02-17/2020-02-23             10              213\n",
       "2020-02-24/2020-03-01              3               45\n",
       "\n",
       "[88 rows x 2 columns]"
      ]
     },
     "execution_count": 24,
     "metadata": {},
     "output_type": "execute_result"
    }
   ],
   "source": [
    "df3 = df_datesplit.copy()\n",
    "df_week = pd.DataFrame(df3[['WEEK', 'Order_id', 'Product']].groupby('WEEK').agg({'Order_id': 'nunique',\n",
    "                                                                  'Product': 'count'}))\n",
    "newname = {'Order_id': 'Num_of_Orders', 'Product': 'Num_of_Products'}\n",
    "df_week.rename(columns=newname, inplace=True)\n",
    "df_week"
   ]
  },
  {
   "cell_type": "code",
   "execution_count": 26,
   "id": "a74f2020",
   "metadata": {},
   "outputs": [
    {
     "data": {
      "text/plain": [
       "12.943181818181818"
      ]
     },
     "execution_count": 26,
     "metadata": {},
     "output_type": "execute_result"
    }
   ],
   "source": [
    "df_week['Num_of_Orders'].mean()"
   ]
  },
  {
   "cell_type": "code",
   "execution_count": 27,
   "id": "322face2",
   "metadata": {},
   "outputs": [
    {
     "data": {
      "text/plain": [
       "13.0"
      ]
     },
     "execution_count": 27,
     "metadata": {},
     "output_type": "execute_result"
    }
   ],
   "source": [
    "df_week['Num_of_Orders'].median()"
   ]
  },
  {
   "cell_type": "code",
   "execution_count": 28,
   "id": "c4451c7e",
   "metadata": {},
   "outputs": [
    {
     "data": {
      "text/plain": [
       "234.5568181818182"
      ]
     },
     "execution_count": 28,
     "metadata": {},
     "output_type": "execute_result"
    }
   ],
   "source": [
    "df_week['Num_of_Products'].mean()\n"
   ]
  },
  {
   "cell_type": "code",
   "execution_count": 29,
   "id": "06d9c290",
   "metadata": {},
   "outputs": [
    {
     "data": {
      "text/plain": [
       "232.0"
      ]
     },
     "execution_count": 29,
     "metadata": {},
     "output_type": "execute_result"
    }
   ],
   "source": [
    "df_week['Num_of_Products'].median()"
   ]
  },
  {
   "cell_type": "code",
   "execution_count": 32,
   "id": "c68a1feb",
   "metadata": {},
   "outputs": [
    {
     "data": {
      "text/plain": [
       "Product\n",
       "poultry                         640\n",
       "soda                            597\n",
       "cereals                         591\n",
       "ice cream                       579\n",
       "cheeses                         578\n",
       "waffles                         575\n",
       "soap                            574\n",
       "bagels                          573\n",
       "lunch meat                      573\n",
       "juice                           570\n",
       "eggs                            570\n",
       "toilet paper                    569\n",
       "dinner rolls                    567\n",
       "aluminum foil                   566\n",
       "coffee/tea                      565\n",
       "shampoo                         562\n",
       "beef                            561\n",
       "paper towels                    556\n",
       "flour                           555\n",
       "butter                          555\n",
       "milk                            555\n",
       "mixes                           554\n",
       "dishwashing liquid/detergent    551\n",
       "all- purpose                    551\n",
       "ketchup                         548\n",
       "yogurt                          545\n",
       "individual meals                544\n",
       "tortillas                       543\n",
       "pasta                           542\n",
       "laundry detergent               542\n",
       "spaghetti sauce                 536\n",
       "sandwich bags                   536\n",
       "sugar                           533\n",
       "pork                            531\n",
       "fruits                          529\n",
       "sandwich loaves                 523\n",
       "hand soap                       502\n",
       "Name: count, dtype: int64"
      ]
     },
     "execution_count": 32,
     "metadata": {},
     "output_type": "execute_result"
    }
   ],
   "source": [
    "df['Product'].value_counts()"
   ]
  },
  {
   "cell_type": "code",
   "execution_count": 33,
   "id": "7839cf1f",
   "metadata": {},
   "outputs": [
    {
     "data": {
      "image/png": "[encoded data removed]",
      "text/plain": [
       "<Figure size 640x480 with 1 Axes>"
      ]
     },
     "metadata": {},
     "output_type": "display_data"
    }
   ],
   "source": [
    "df['Product'].value_counts().plot(kind='bar');\n",
    "plt.savefig('prod_bar.jpg', bbox_inches='tight');"
   ]
  },
  {
   "cell_type": "code",
   "execution_count": 34,
   "id": "391af5f4",
   "metadata": {},
   "outputs": [
    {
     "data": {
      "text/html": [
       "<div>\n",
       "<style scoped>\n",
       "    .dataframe tbody tr th:only-of-type {\n",
       "        vertical-align: middle;\n",
       "    }\n",
       "\n",
       "    .dataframe tbody tr th {\n",
       "        vertical-align: top;\n",
       "    }\n",
       "\n",
       "    .dataframe thead th {\n",
       "        text-align: right;\n",
       "    }\n",
       "</style>\n",
       "<table border=\"1\" class=\"dataframe\">\n",
       "  <thead>\n",
       "    <tr style=\"text-align: right;\">\n",
       "      <th></th>\n",
       "      <th>Num_of_Orders</th>\n",
       "      <th>Num_of_Products</th>\n",
       "    </tr>\n",
       "    <tr>\n",
       "      <th>DAY</th>\n",
       "      <th></th>\n",
       "      <th></th>\n",
       "    </tr>\n",
       "  </thead>\n",
       "  <tbody>\n",
       "    <tr>\n",
       "      <th>Friday</th>\n",
       "      <td>167</td>\n",
       "      <td>3044</td>\n",
       "    </tr>\n",
       "    <tr>\n",
       "      <th>Monday</th>\n",
       "      <td>143</td>\n",
       "      <td>2600</td>\n",
       "    </tr>\n",
       "    <tr>\n",
       "      <th>Saturday</th>\n",
       "      <td>169</td>\n",
       "      <td>2988</td>\n",
       "    </tr>\n",
       "    <tr>\n",
       "      <th>Sunday</th>\n",
       "      <td>169</td>\n",
       "      <td>3109</td>\n",
       "    </tr>\n",
       "    <tr>\n",
       "      <th>Thursday</th>\n",
       "      <td>167</td>\n",
       "      <td>2969</td>\n",
       "    </tr>\n",
       "    <tr>\n",
       "      <th>Tuesday</th>\n",
       "      <td>157</td>\n",
       "      <td>2943</td>\n",
       "    </tr>\n",
       "    <tr>\n",
       "      <th>Wednesday</th>\n",
       "      <td>167</td>\n",
       "      <td>2988</td>\n",
       "    </tr>\n",
       "  </tbody>\n",
       "</table>\n",
       "</div>"
      ],
      "text/plain": [
       "           Num_of_Orders  Num_of_Products\n",
       "DAY                                      \n",
       "Friday               167             3044\n",
       "Monday               143             2600\n",
       "Saturday             169             2988\n",
       "Sunday               169             3109\n",
       "Thursday             167             2969\n",
       "Tuesday              157             2943\n",
       "Wednesday            167             2988"
      ]
     },
     "execution_count": 34,
     "metadata": {},
     "output_type": "execute_result"
    }
   ],
   "source": [
    "df3 = df_datesplit.copy()\n",
    "df_day = pd.DataFrame(df3[['DAY', 'Order_id', 'Product']].groupby('DAY').agg({'Order_id': 'nunique',\n",
    "                                                                  'Product': 'count'}))\n",
    "newname = {'Order_id': 'Num_of_Orders', 'Product': 'Num_of_Products'}\n",
    "df_day.rename(columns=newname, inplace=True)\n",
    "df_day"
   ]
  },
  {
   "cell_type": "code",
   "execution_count": 35,
   "id": "7f63eb6a",
   "metadata": {},
   "outputs": [
    {
     "data": {
      "image/png": "[encoded data removed]",
      "text/plain": [
       "<Figure size 640x480 with 1 Axes>"
      ]
     },
     "metadata": {},
     "output_type": "display_data"
    }
   ],
   "source": [
    "sns.barplot(x=df_day.index.sort_values(ascending=True), y=df_day['Num_of_Orders'], order=['Monday', 'Tuesday', 'Wednesday', 'Thursday', 'Friday', 'Saturday', 'Sunday']);\n",
    "plt.title('TRANSACTIONS PER DAY OF WEEK', fontsize=17);\n",
    "plt.savefig('week_bar.jpg', bbox_inches='tight');"
   ]
  },
  {
   "cell_type": "code",
   "execution_count": 36,
   "id": "c4dff611",
   "metadata": {},
   "outputs": [
    {
     "data": {
      "text/html": [
       "<div>\n",
       "<style scoped>\n",
       "    .dataframe tbody tr th:only-of-type {\n",
       "        vertical-align: middle;\n",
       "    }\n",
       "\n",
       "    .dataframe tbody tr th {\n",
       "        vertical-align: top;\n",
       "    }\n",
       "\n",
       "    .dataframe thead th {\n",
       "        text-align: right;\n",
       "    }\n",
       "</style>\n",
       "<table border=\"1\" class=\"dataframe\">\n",
       "  <thead>\n",
       "    <tr style=\"text-align: right;\">\n",
       "      <th></th>\n",
       "      <th>Num_of_Orders</th>\n",
       "      <th>Num_of_Products</th>\n",
       "    </tr>\n",
       "    <tr>\n",
       "      <th>MONTH_NAME</th>\n",
       "      <th></th>\n",
       "      <th></th>\n",
       "    </tr>\n",
       "  </thead>\n",
       "  <tbody>\n",
       "    <tr>\n",
       "      <th>Apr</th>\n",
       "      <td>110</td>\n",
       "      <td>1937</td>\n",
       "    </tr>\n",
       "    <tr>\n",
       "      <th>Aug</th>\n",
       "      <td>107</td>\n",
       "      <td>2120</td>\n",
       "    </tr>\n",
       "    <tr>\n",
       "      <th>Feb</th>\n",
       "      <td>156</td>\n",
       "      <td>2815</td>\n",
       "    </tr>\n",
       "    <tr>\n",
       "      <th>Jan</th>\n",
       "      <td>174</td>\n",
       "      <td>3227</td>\n",
       "    </tr>\n",
       "    <tr>\n",
       "      <th>Jul</th>\n",
       "      <td>115</td>\n",
       "      <td>1997</td>\n",
       "    </tr>\n",
       "    <tr>\n",
       "      <th>Jun</th>\n",
       "      <td>105</td>\n",
       "      <td>1827</td>\n",
       "    </tr>\n",
       "    <tr>\n",
       "      <th>Mar</th>\n",
       "      <td>124</td>\n",
       "      <td>2255</td>\n",
       "    </tr>\n",
       "    <tr>\n",
       "      <th>May</th>\n",
       "      <td>133</td>\n",
       "      <td>2337</td>\n",
       "    </tr>\n",
       "    <tr>\n",
       "      <th>Sep</th>\n",
       "      <td>115</td>\n",
       "      <td>2126</td>\n",
       "    </tr>\n",
       "  </tbody>\n",
       "</table>\n",
       "</div>"
      ],
      "text/plain": [
       "            Num_of_Orders  Num_of_Products\n",
       "MONTH_NAME                                \n",
       "Apr                   110             1937\n",
       "Aug                   107             2120\n",
       "Feb                   156             2815\n",
       "Jan                   174             3227\n",
       "Jul                   115             1997\n",
       "Jun                   105             1827\n",
       "Mar                   124             2255\n",
       "May                   133             2337\n",
       "Sep                   115             2126"
      ]
     },
     "execution_count": 36,
     "metadata": {},
     "output_type": "execute_result"
    }
   ],
   "source": [
    "df3 = df_datesplit.copy()\n",
    "df_monthname = pd.DataFrame(df3[['MONTH_NAME', 'Order_id', 'Product']].groupby('MONTH_NAME').agg({'Order_id': 'nunique',\n",
    "                                                                  'Product': 'count'}))\n",
    "newname = {'Order_id': 'Num_of_Orders', 'Product': 'Num_of_Products'}\n",
    "df_monthname.rename(columns=newname, inplace=True)\n",
    "df_monthname"
   ]
  },
  {
   "cell_type": "code",
   "execution_count": 37,
   "id": "1eb363f7",
   "metadata": {},
   "outputs": [
    {
     "data": {
      "image/png": "[encoded data removed]",
      "text/plain": [
       "<Figure size 640x480 with 1 Axes>"
      ]
     },
     "metadata": {},
     "output_type": "display_data"
    }
   ],
   "source": [
    "sns.barplot(x=df_monthname.index, y=df_monthname['Num_of_Orders'], order=['Jan', 'Feb', 'Mar', 'Apr', 'May', 'Jun', 'Jul', 'Aug', 'Sep', 'Oct', 'Nov', 'Dec'])\n",
    "plt.savefig('monthwise_orders.jpg', bbox_inches='tight');"
   ]
  },
  {
   "cell_type": "code",
   "execution_count": 38,
   "id": "bbcefbcb",
   "metadata": {},
   "outputs": [
    {
     "data": {
      "text/html": [
       "<div>\n",
       "<style scoped>\n",
       "    .dataframe tbody tr th:only-of-type {\n",
       "        vertical-align: middle;\n",
       "    }\n",
       "\n",
       "    .dataframe tbody tr th {\n",
       "        vertical-align: top;\n",
       "    }\n",
       "\n",
       "    .dataframe thead th {\n",
       "        text-align: right;\n",
       "    }\n",
       "</style>\n",
       "<table border=\"1\" class=\"dataframe\">\n",
       "  <thead>\n",
       "    <tr style=\"text-align: right;\">\n",
       "      <th></th>\n",
       "      <th>Date</th>\n",
       "      <th>Order_id</th>\n",
       "      <th>Product</th>\n",
       "    </tr>\n",
       "  </thead>\n",
       "  <tbody>\n",
       "    <tr>\n",
       "      <th>0</th>\n",
       "      <td>2018-01-01</td>\n",
       "      <td>1</td>\n",
       "      <td>yogurt</td>\n",
       "    </tr>\n",
       "    <tr>\n",
       "      <th>1</th>\n",
       "      <td>2018-01-01</td>\n",
       "      <td>1</td>\n",
       "      <td>pork</td>\n",
       "    </tr>\n",
       "    <tr>\n",
       "      <th>2</th>\n",
       "      <td>2018-01-01</td>\n",
       "      <td>1</td>\n",
       "      <td>sandwich bags</td>\n",
       "    </tr>\n",
       "    <tr>\n",
       "      <th>3</th>\n",
       "      <td>2018-01-01</td>\n",
       "      <td>1</td>\n",
       "      <td>lunch meat</td>\n",
       "    </tr>\n",
       "    <tr>\n",
       "      <th>4</th>\n",
       "      <td>2018-01-01</td>\n",
       "      <td>1</td>\n",
       "      <td>all- purpose</td>\n",
       "    </tr>\n",
       "  </tbody>\n",
       "</table>\n",
       "</div>"
      ],
      "text/plain": [
       "        Date  Order_id        Product\n",
       "0 2018-01-01         1         yogurt\n",
       "1 2018-01-01         1           pork\n",
       "2 2018-01-01         1  sandwich bags\n",
       "3 2018-01-01         1     lunch meat\n",
       "4 2018-01-01         1   all- purpose"
      ]
     },
     "execution_count": 38,
     "metadata": {},
     "output_type": "execute_result"
    }
   ],
   "source": [
    "df.head()"
   ]
  },
  {
   "cell_type": "code",
   "execution_count": 40,
   "id": "01e5e486",
   "metadata": {},
   "outputs": [
    {
     "data": {
      "text/html": [
       "<div>\n",
       "<style scoped>\n",
       "    .dataframe tbody tr th:only-of-type {\n",
       "        vertical-align: middle;\n",
       "    }\n",
       "\n",
       "    .dataframe tbody tr th {\n",
       "        vertical-align: top;\n",
       "    }\n",
       "\n",
       "    .dataframe thead th {\n",
       "        text-align: right;\n",
       "    }\n",
       "</style>\n",
       "<table border=\"1\" class=\"dataframe\">\n",
       "  <thead>\n",
       "    <tr style=\"text-align: right;\">\n",
       "      <th></th>\n",
       "      <th>Order_id</th>\n",
       "      <th>Product</th>\n",
       "    </tr>\n",
       "    <tr>\n",
       "      <th>Date</th>\n",
       "      <th></th>\n",
       "      <th></th>\n",
       "    </tr>\n",
       "  </thead>\n",
       "  <tbody>\n",
       "    <tr>\n",
       "      <th>2018-01-01</th>\n",
       "      <td>2</td>\n",
       "      <td>39</td>\n",
       "    </tr>\n",
       "    <tr>\n",
       "      <th>2018-01-02</th>\n",
       "      <td>4</td>\n",
       "      <td>80</td>\n",
       "    </tr>\n",
       "    <tr>\n",
       "      <th>2018-01-03</th>\n",
       "      <td>1</td>\n",
       "      <td>22</td>\n",
       "    </tr>\n",
       "    <tr>\n",
       "      <th>2018-01-04</th>\n",
       "      <td>2</td>\n",
       "      <td>13</td>\n",
       "    </tr>\n",
       "    <tr>\n",
       "      <th>2018-01-05</th>\n",
       "      <td>2</td>\n",
       "      <td>60</td>\n",
       "    </tr>\n",
       "  </tbody>\n",
       "</table>\n",
       "</div>"
      ],
      "text/plain": [
       "            Order_id  Product\n",
       "Date                         \n",
       "2018-01-01         2       39\n",
       "2018-01-02         4       80\n",
       "2018-01-03         1       22\n",
       "2018-01-04         2       13\n",
       "2018-01-05         2       60"
      ]
     },
     "execution_count": 40,
     "metadata": {},
     "output_type": "execute_result"
    }
   ],
   "source": [
    "df_grpbydate = pd.DataFrame(df.groupby('Date').agg({'Order_id': 'nunique', 'Product': 'count'}))\n",
    "df_grpbydate.head()"
   ]
  },
  {
   "cell_type": "code",
   "execution_count": 41,
   "id": "d5840fa1",
   "metadata": {},
   "outputs": [
    {
     "name": "stdout",
     "output_type": "stream",
     "text": [
      "Total Num of Orders (Invoices) = 1139\n",
      "Total Num of Products  = 20641\n"
     ]
    }
   ],
   "source": [
    "print('Total Num of Orders (Invoices) =', sum(df_grpbydate['Order_id']))\n",
    "print('Total Num of Products  =', sum(df_grpbydate['Product']))"
   ]
  },
  {
   "cell_type": "code",
   "execution_count": null,
   "id": "fa0cc8de",
   "metadata": {},
   "outputs": [],
   "source": []
  }
 ],
 "metadata": {
  "kernelspec": {
   "display_name": "Python 3 (ipykernel)",
   "language": "python",
   "name": "python3"
  },
  "language_info": {
   "codemirror_mode": {
    "name": "ipython",
    "version": 3
   },
   "file_extension": ".py",
   "mimetype": "text/x-python",
   "name": "python",
   "nbconvert_exporter": "python",
   "pygments_lexer": "ipython3",
   "version": "3.11.4"
  }
 },
 "nbformat": 4,
 "nbformat_minor": 5
}
