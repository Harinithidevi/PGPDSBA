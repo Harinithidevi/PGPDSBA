{
 "cells": [
  {
   "cell_type": "code",
   "execution_count": 102,
   "id": "8eab37d0-450b-4aa9-b5aa-ebf1d5bc2c14",
   "metadata": {},
   "outputs": [],
   "source": [
    "import pandas as pd\n",
    "import numpy as np\n",
    "import matplotlib.pyplot as plt\n",
    "import seaborn as sns\n",
    "from sklearn.preprocessing import MinMaxScaler\n",
    "from sklearn.model_selection import train_test_split\n",
    "from sklearn.feature_selection import RFE\n",
    "from sklearn.ensemble import RandomForestClassifier\n",
    "from feature_engine.selection import RecursiveFeatureElimination\n",
    "from sklearn.ensemble import GradientBoostingRegressor\n",
    "\n",
    "from sklearn.datasets import make_classification\n",
    "from sklearn.model_selection import cross_val_score\n",
    "from sklearn.model_selection import RepeatedStratifiedKFold\n",
    "from sklearn.feature_selection import RFE\n",
    "from sklearn.linear_model import LogisticRegression\n",
    "from sklearn.linear_model import Perceptron\n",
    "from sklearn.tree import DecisionTreeClassifier\n",
    "from sklearn.ensemble import RandomForestClassifier\n",
    "from sklearn.ensemble import GradientBoostingClassifier\n",
    "from sklearn.pipeline import Pipeline\n",
    "scaler = MinMaxScaler()"
   ]
  },
  {
   "cell_type": "code",
   "execution_count": 103,
   "id": "e50fb18a-404d-4c62-97d1-203d744d6a27",
   "metadata": {},
   "outputs": [],
   "source": [
    "df=pd.read_csv('Data.csv')"
   ]
  },
  {
   "cell_type": "code",
   "execution_count": 104,
   "id": "c04073b0-1e86-48f5-8609-94b82785f6f2",
   "metadata": {},
   "outputs": [
    {
     "data": {
      "text/html": [
       "<div>\n",
       "<style scoped>\n",
       "    .dataframe tbody tr th:only-of-type {\n",
       "        vertical-align: middle;\n",
       "    }\n",
       "\n",
       "    .dataframe tbody tr th {\n",
       "        vertical-align: top;\n",
       "    }\n",
       "\n",
       "    .dataframe thead th {\n",
       "        text-align: right;\n",
       "    }\n",
       "</style>\n",
       "<table border=\"1\" class=\"dataframe\">\n",
       "  <thead>\n",
       "    <tr style=\"text-align: right;\">\n",
       "      <th></th>\n",
       "      <th>applicant_id</th>\n",
       "      <th>years_of_insurance_with_us</th>\n",
       "      <th>regular_checkup_lasy_year</th>\n",
       "      <th>adventure_sports</th>\n",
       "      <th>Occupation</th>\n",
       "      <th>visited_doctor_last_1_year</th>\n",
       "      <th>cholesterol_level</th>\n",
       "      <th>daily_avg_steps</th>\n",
       "      <th>age</th>\n",
       "      <th>heart_decs_history</th>\n",
       "      <th>...</th>\n",
       "      <th>smoking_status</th>\n",
       "      <th>Year_last_admitted</th>\n",
       "      <th>Location</th>\n",
       "      <th>weight</th>\n",
       "      <th>covered_by_any_other_company</th>\n",
       "      <th>Alcohol</th>\n",
       "      <th>exercise</th>\n",
       "      <th>weight_change_in_last_one_year</th>\n",
       "      <th>fat_percentage</th>\n",
       "      <th>insurance_cost</th>\n",
       "    </tr>\n",
       "  </thead>\n",
       "  <tbody>\n",
       "    <tr>\n",
       "      <th>0</th>\n",
       "      <td>5000</td>\n",
       "      <td>3</td>\n",
       "      <td>1</td>\n",
       "      <td>1</td>\n",
       "      <td>Salried</td>\n",
       "      <td>2</td>\n",
       "      <td>125 to 150</td>\n",
       "      <td>4866</td>\n",
       "      <td>28</td>\n",
       "      <td>1</td>\n",
       "      <td>...</td>\n",
       "      <td>Unknown</td>\n",
       "      <td>NaN</td>\n",
       "      <td>Chennai</td>\n",
       "      <td>67</td>\n",
       "      <td>N</td>\n",
       "      <td>Rare</td>\n",
       "      <td>Moderate</td>\n",
       "      <td>1</td>\n",
       "      <td>25</td>\n",
       "      <td>20978</td>\n",
       "    </tr>\n",
       "    <tr>\n",
       "      <th>1</th>\n",
       "      <td>5001</td>\n",
       "      <td>0</td>\n",
       "      <td>0</td>\n",
       "      <td>0</td>\n",
       "      <td>Student</td>\n",
       "      <td>4</td>\n",
       "      <td>150 to 175</td>\n",
       "      <td>6411</td>\n",
       "      <td>50</td>\n",
       "      <td>0</td>\n",
       "      <td>...</td>\n",
       "      <td>formerly smoked</td>\n",
       "      <td>NaN</td>\n",
       "      <td>Jaipur</td>\n",
       "      <td>58</td>\n",
       "      <td>N</td>\n",
       "      <td>Rare</td>\n",
       "      <td>Moderate</td>\n",
       "      <td>3</td>\n",
       "      <td>27</td>\n",
       "      <td>6170</td>\n",
       "    </tr>\n",
       "    <tr>\n",
       "      <th>2</th>\n",
       "      <td>5002</td>\n",
       "      <td>1</td>\n",
       "      <td>0</td>\n",
       "      <td>0</td>\n",
       "      <td>Business</td>\n",
       "      <td>4</td>\n",
       "      <td>200 to 225</td>\n",
       "      <td>4509</td>\n",
       "      <td>68</td>\n",
       "      <td>0</td>\n",
       "      <td>...</td>\n",
       "      <td>formerly smoked</td>\n",
       "      <td>NaN</td>\n",
       "      <td>Jaipur</td>\n",
       "      <td>73</td>\n",
       "      <td>N</td>\n",
       "      <td>Daily</td>\n",
       "      <td>Extreme</td>\n",
       "      <td>0</td>\n",
       "      <td>32</td>\n",
       "      <td>28382</td>\n",
       "    </tr>\n",
       "    <tr>\n",
       "      <th>3</th>\n",
       "      <td>5003</td>\n",
       "      <td>7</td>\n",
       "      <td>4</td>\n",
       "      <td>0</td>\n",
       "      <td>Business</td>\n",
       "      <td>2</td>\n",
       "      <td>175 to 200</td>\n",
       "      <td>6214</td>\n",
       "      <td>51</td>\n",
       "      <td>0</td>\n",
       "      <td>...</td>\n",
       "      <td>Unknown</td>\n",
       "      <td>NaN</td>\n",
       "      <td>Chennai</td>\n",
       "      <td>71</td>\n",
       "      <td>Y</td>\n",
       "      <td>Rare</td>\n",
       "      <td>No</td>\n",
       "      <td>3</td>\n",
       "      <td>37</td>\n",
       "      <td>27148</td>\n",
       "    </tr>\n",
       "    <tr>\n",
       "      <th>4</th>\n",
       "      <td>5004</td>\n",
       "      <td>3</td>\n",
       "      <td>1</td>\n",
       "      <td>0</td>\n",
       "      <td>Student</td>\n",
       "      <td>2</td>\n",
       "      <td>150 to 175</td>\n",
       "      <td>4938</td>\n",
       "      <td>44</td>\n",
       "      <td>0</td>\n",
       "      <td>...</td>\n",
       "      <td>never smoked</td>\n",
       "      <td>2004.0</td>\n",
       "      <td>Bangalore</td>\n",
       "      <td>74</td>\n",
       "      <td>N</td>\n",
       "      <td>No</td>\n",
       "      <td>Extreme</td>\n",
       "      <td>0</td>\n",
       "      <td>34</td>\n",
       "      <td>29616</td>\n",
       "    </tr>\n",
       "  </tbody>\n",
       "</table>\n",
       "<p>5 rows × 24 columns</p>\n",
       "</div>"
      ],
      "text/plain": [
       "   applicant_id  years_of_insurance_with_us  regular_checkup_lasy_year  \\\n",
       "0          5000                           3                          1   \n",
       "1          5001                           0                          0   \n",
       "2          5002                           1                          0   \n",
       "3          5003                           7                          4   \n",
       "4          5004                           3                          1   \n",
       "\n",
       "   adventure_sports Occupation  visited_doctor_last_1_year cholesterol_level  \\\n",
       "0                 1    Salried                           2        125 to 150   \n",
       "1                 0    Student                           4        150 to 175   \n",
       "2                 0   Business                           4        200 to 225   \n",
       "3                 0   Business                           2        175 to 200   \n",
       "4                 0    Student                           2        150 to 175   \n",
       "\n",
       "   daily_avg_steps  age  heart_decs_history  ...   smoking_status  \\\n",
       "0             4866   28                   1  ...          Unknown   \n",
       "1             6411   50                   0  ...  formerly smoked   \n",
       "2             4509   68                   0  ...  formerly smoked   \n",
       "3             6214   51                   0  ...          Unknown   \n",
       "4             4938   44                   0  ...     never smoked   \n",
       "\n",
       "  Year_last_admitted   Location  weight covered_by_any_other_company  Alcohol  \\\n",
       "0                NaN    Chennai      67                            N     Rare   \n",
       "1                NaN     Jaipur      58                            N     Rare   \n",
       "2                NaN     Jaipur      73                            N    Daily   \n",
       "3                NaN    Chennai      71                            Y     Rare   \n",
       "4             2004.0  Bangalore      74                            N       No   \n",
       "\n",
       "   exercise  weight_change_in_last_one_year fat_percentage insurance_cost  \n",
       "0  Moderate                               1             25          20978  \n",
       "1  Moderate                               3             27           6170  \n",
       "2   Extreme                               0             32          28382  \n",
       "3        No                               3             37          27148  \n",
       "4   Extreme                               0             34          29616  \n",
       "\n",
       "[5 rows x 24 columns]"
      ]
     },
     "execution_count": 104,
     "metadata": {},
     "output_type": "execute_result"
    }
   ],
   "source": [
    "df.head()"
   ]
  },
  {
   "cell_type": "code",
   "execution_count": 105,
   "id": "c082fbb6-9c66-41fd-8ff6-548629ceaa12",
   "metadata": {},
   "outputs": [
    {
     "name": "stdout",
     "output_type": "stream",
     "text": [
      "<class 'pandas.core.frame.DataFrame'>\n",
      "RangeIndex: 25000 entries, 0 to 24999\n",
      "Data columns (total 24 columns):\n",
      " #   Column                          Non-Null Count  Dtype  \n",
      "---  ------                          --------------  -----  \n",
      " 0   applicant_id                    25000 non-null  int64  \n",
      " 1   years_of_insurance_with_us      25000 non-null  int64  \n",
      " 2   regular_checkup_lasy_year       25000 non-null  int64  \n",
      " 3   adventure_sports                25000 non-null  int64  \n",
      " 4   Occupation                      25000 non-null  object \n",
      " 5   visited_doctor_last_1_year      25000 non-null  int64  \n",
      " 6   cholesterol_level               25000 non-null  object \n",
      " 7   daily_avg_steps                 25000 non-null  int64  \n",
      " 8   age                             25000 non-null  int64  \n",
      " 9   heart_decs_history              25000 non-null  int64  \n",
      " 10  other_major_decs_history        25000 non-null  int64  \n",
      " 11  Gender                          25000 non-null  object \n",
      " 12  avg_glucose_level               25000 non-null  int64  \n",
      " 13  bmi                             24010 non-null  float64\n",
      " 14  smoking_status                  25000 non-null  object \n",
      " 15  Year_last_admitted              13119 non-null  float64\n",
      " 16  Location                        25000 non-null  object \n",
      " 17  weight                          25000 non-null  int64  \n",
      " 18  covered_by_any_other_company    25000 non-null  object \n",
      " 19  Alcohol                         25000 non-null  object \n",
      " 20  exercise                        25000 non-null  object \n",
      " 21  weight_change_in_last_one_year  25000 non-null  int64  \n",
      " 22  fat_percentage                  25000 non-null  int64  \n",
      " 23  insurance_cost                  25000 non-null  int64  \n",
      "dtypes: float64(2), int64(14), object(8)\n",
      "memory usage: 4.6+ MB\n"
     ]
    }
   ],
   "source": [
    "df.info()"
   ]
  },
  {
   "cell_type": "code",
   "execution_count": 106,
   "id": "78a59255-1e6c-42af-a8dd-143e86418a54",
   "metadata": {},
   "outputs": [
    {
     "name": "stdout",
     "output_type": "stream",
     "text": [
      "Number of duplicates rows = 0\n"
     ]
    }
   ],
   "source": [
    "dupes= df.duplicated()\n",
    "print('Number of duplicates rows = %d' % (dupes.sum()))"
   ]
  },
  {
   "cell_type": "code",
   "execution_count": 107,
   "id": "0d2a0bca-6e89-4823-b47e-6b2e0a3e879a",
   "metadata": {},
   "outputs": [],
   "source": [
    "dfModified=df.copy()"
   ]
  },
  {
   "cell_type": "code",
   "execution_count": 108,
   "id": "d416aa23-f30c-429e-9ab9-c15e1144449e",
   "metadata": {},
   "outputs": [],
   "source": [
    "dfModified.drop(['applicant_id'], axis=1, inplace=True)"
   ]
  },
  {
   "cell_type": "code",
   "execution_count": 109,
   "id": "b73a7344-354c-469e-8e13-c80fda5da098",
   "metadata": {},
   "outputs": [],
   "source": [
    "dfModified.drop(['Year_last_admitted'], axis=1, inplace=True)"
   ]
  },
  {
   "cell_type": "code",
   "execution_count": 110,
   "id": "a198f708-9378-4a9c-91ed-88b5580b2486",
   "metadata": {},
   "outputs": [],
   "source": [
    "dfModified = dfModified.dropna()"
   ]
  },
  {
   "cell_type": "code",
   "execution_count": 120,
   "id": "cff18266-d2d4-40ae-a7da-bb682058bdb2",
   "metadata": {},
   "outputs": [
    {
     "name": "stdout",
     "output_type": "stream",
     "text": [
      "<class 'pandas.core.frame.DataFrame'>\n",
      "Index: 24010 entries, 0 to 24999\n",
      "Data columns (total 22 columns):\n",
      " #   Column                          Non-Null Count  Dtype  \n",
      "---  ------                          --------------  -----  \n",
      " 0   years_of_insurance_with_us      24010 non-null  int64  \n",
      " 1   regular_checkup_lasy_year       24010 non-null  int64  \n",
      " 2   adventure_sports                24010 non-null  object \n",
      " 3   Occupation                      24010 non-null  object \n",
      " 4   visited_doctor_last_1_year      24010 non-null  int64  \n",
      " 5   cholesterol_level               24010 non-null  object \n",
      " 6   daily_avg_steps                 24010 non-null  int64  \n",
      " 7   age                             24010 non-null  int64  \n",
      " 8   heart_decs_history              24010 non-null  object \n",
      " 9   other_major_decs_history        24010 non-null  object \n",
      " 10  Gender                          24010 non-null  object \n",
      " 11  avg_glucose_level               24010 non-null  int64  \n",
      " 12  bmi                             24010 non-null  float64\n",
      " 13  smoking_status                  24010 non-null  object \n",
      " 14  Location                        24010 non-null  object \n",
      " 15  weight                          24010 non-null  int64  \n",
      " 16  covered_by_any_other_company    24010 non-null  object \n",
      " 17  Alcohol                         24010 non-null  object \n",
      " 18  exercise                        24010 non-null  object \n",
      " 19  weight_change_in_last_one_year  24010 non-null  object \n",
      " 20  fat_percentage                  24010 non-null  int64  \n",
      " 21  insurance_cost                  24010 non-null  int64  \n",
      "dtypes: float64(1), int64(9), object(12)\n",
      "memory usage: 4.2+ MB\n"
     ]
    }
   ],
   "source": [
    "dfModified.info()"
   ]
  },
  {
   "cell_type": "code",
   "execution_count": 119,
   "id": "dff13177-7d49-437e-afe5-963c296fcf92",
   "metadata": {},
   "outputs": [],
   "source": [
    "dfModified.adventure_sports=dfModified.adventure_sports.astype(str)\n",
    "dfModified.heart_decs_history=dfModified.heart_decs_history.astype(str)\n",
    "dfModified.other_major_decs_history=dfModified.other_major_decs_history.astype(str)\n",
    "dfModified.weight_change_in_last_one_year=dfModified.weight_change_in_last_one_year.astype(str)"
   ]
  },
  {
   "cell_type": "code",
   "execution_count": 121,
   "id": "f22990f8-4ea6-4e1d-9758-3983970842fd",
   "metadata": {},
   "outputs": [],
   "source": [
    "cat=[]\n",
    "num=[]"
   ]
  },
  {
   "cell_type": "code",
   "execution_count": 122,
   "id": "1889f3d2-6637-4c50-a98d-9f0968f3f0ff",
   "metadata": {},
   "outputs": [],
   "source": [
    "for i in dfModified.columns:\n",
    "    if dfModified[i].dtype==\"object\":\n",
    "        cat.append(i)\n",
    "    else:\n",
    "        num.append(i)"
   ]
  },
  {
   "cell_type": "code",
   "execution_count": 123,
   "id": "65bdf305-21aa-440e-83c3-474f23441e9a",
   "metadata": {},
   "outputs": [
    {
     "name": "stdout",
     "output_type": "stream",
     "text": [
      "['years_of_insurance_with_us', 'regular_checkup_lasy_year', 'visited_doctor_last_1_year', 'daily_avg_steps', 'age', 'avg_glucose_level', 'bmi', 'weight', 'fat_percentage', 'insurance_cost']\n"
     ]
    }
   ],
   "source": [
    "print(num)"
   ]
  },
  {
   "cell_type": "code",
   "execution_count": 124,
   "id": "2b44cb27-98dd-4ba1-84cd-f6b7a01eeaac",
   "metadata": {},
   "outputs": [
    {
     "name": "stdout",
     "output_type": "stream",
     "text": [
      "['adventure_sports', 'Occupation', 'cholesterol_level', 'heart_decs_history', 'other_major_decs_history', 'Gender', 'smoking_status', 'Location', 'covered_by_any_other_company', 'Alcohol', 'exercise', 'weight_change_in_last_one_year']\n"
     ]
    }
   ],
   "source": [
    "print(cat)"
   ]
  },
  {
   "cell_type": "code",
   "execution_count": 125,
   "id": "cc1065cb-6ab5-4f2f-b723-2f0df67b5703",
   "metadata": {},
   "outputs": [
    {
     "name": "stdout",
     "output_type": "stream",
     "text": [
      "adventure_sports\n",
      "adventure_sports\n",
      "0    22043\n",
      "1     1967\n",
      "Name: count, dtype: int64\n",
      "\n",
      "\n",
      "Occupation\n",
      "Occupation\n",
      "Student     9748\n",
      "Business    9649\n",
      "Salried     4613\n",
      "Name: count, dtype: int64\n",
      "\n",
      "\n",
      "cholesterol_level\n",
      "cholesterol_level\n",
      "150 to 175    8396\n",
      "125 to 150    8001\n",
      "200 to 225    2862\n",
      "175 to 200    2778\n",
      "225 to 250    1973\n",
      "Name: count, dtype: int64\n",
      "\n",
      "\n",
      "heart_decs_history\n",
      "heart_decs_history\n",
      "0    22804\n",
      "1     1206\n",
      "Name: count, dtype: int64\n",
      "\n",
      "\n",
      "other_major_decs_history\n",
      "other_major_decs_history\n",
      "0    21788\n",
      "1     2222\n",
      "Name: count, dtype: int64\n",
      "\n",
      "\n",
      "Gender\n",
      "Gender\n",
      "Male      15689\n",
      "Female     8321\n",
      "Name: count, dtype: int64\n",
      "\n",
      "\n",
      "smoking_status\n",
      "smoking_status\n",
      "never smoked       9052\n",
      "Unknown            7253\n",
      "formerly smoked    4091\n",
      "smokes             3614\n",
      "Name: count, dtype: int64\n",
      "\n",
      "\n",
      "Location\n",
      "Location\n",
      "Bangalore      1670\n",
      "Jaipur         1640\n",
      "Bhubaneswar    1635\n",
      "Mangalore      1626\n",
      "Delhi          1613\n",
      "Chennai        1612\n",
      "Ahmedabad      1605\n",
      "Guwahati       1598\n",
      "Kanpur         1595\n",
      "Mumbai         1591\n",
      "Nagpur         1584\n",
      "Lucknow        1581\n",
      "Pune           1573\n",
      "Kolkata        1562\n",
      "Surat          1525\n",
      "Name: count, dtype: int64\n",
      "\n",
      "\n",
      "covered_by_any_other_company\n",
      "covered_by_any_other_company\n",
      "N    16740\n",
      "Y     7270\n",
      "Name: count, dtype: int64\n",
      "\n",
      "\n",
      "Alcohol\n",
      "Alcohol\n",
      "Rare     13202\n",
      "No        8202\n",
      "Daily     2606\n",
      "Name: count, dtype: int64\n",
      "\n",
      "\n",
      "exercise\n",
      "exercise\n",
      "Moderate    14103\n",
      "Extreme      5006\n",
      "No           4901\n",
      "Name: count, dtype: int64\n",
      "\n",
      "\n",
      "weight_change_in_last_one_year\n",
      "weight_change_in_last_one_year\n",
      "4    4871\n",
      "3    4807\n",
      "2    3893\n",
      "0    3851\n",
      "1    3761\n",
      "5    1951\n",
      "6     876\n",
      "Name: count, dtype: int64\n",
      "\n",
      "\n"
     ]
    }
   ],
   "source": [
    "for feature in dfModified.columns: \n",
    "    if dfModified[feature].dtype == 'object': \n",
    "        print(feature)\n",
    "        print(dfModified[feature].value_counts())\n",
    "        print('\\n')"
   ]
  },
  {
   "cell_type": "code",
   "execution_count": 126,
   "id": "4ad261a7-653d-44bd-ade0-935e8903ac30",
   "metadata": {},
   "outputs": [],
   "source": [
    "#after Scaling\n",
    "feature_list=num\n",
    "for i in feature_list:\n",
    "    LL, UL = remove_outlier(dfModified[i])\n",
    "    dfModified[i] = np.where(dfModified[i] > UL, UL, dfModified[i])\n",
    "    dfModified[i] = np.where(dfModified[i] < LL, LL, dfModified[i])"
   ]
  },
  {
   "cell_type": "code",
   "execution_count": 127,
   "id": "3550f928-030e-47d4-a5d7-92ce64f4e12b",
   "metadata": {},
   "outputs": [
    {
     "name": "stdout",
     "output_type": "stream",
     "text": [
      "{0: '0', 1: '1'}\n"
     ]
    }
   ],
   "source": [
    "c = dfModified.adventure_sports.astype('category')\n",
    "\n",
    "d = dict(enumerate(c.cat.categories))\n",
    "print (d)"
   ]
  },
  {
   "cell_type": "code",
   "execution_count": 128,
   "id": "1206854b-9379-4d88-9d48-259b5db11676",
   "metadata": {},
   "outputs": [],
   "source": [
    "dfModified['adventure_sports']=dfModified['adventure_sports'].astype('category').cat.codes\n",
    "dfModified['Occupation']=dfModified['Occupation'].astype('category').cat.codes\n",
    "dfModified['cholesterol_level']=dfModified['cholesterol_level'].astype('category').cat.codes\n",
    "dfModified['heart_decs_history']=dfModified['heart_decs_history'].astype('category').cat.codes\n",
    "dfModified['other_major_decs_history']=dfModified['other_major_decs_history'].astype('category').cat.codes\n",
    "\n",
    "dfModified['Gender']=dfModified['Gender'].astype('category').cat.codes\n",
    "dfModified['smoking_status']=dfModified['smoking_status'].astype('category').cat.codes\n",
    "dfModified['Location']=dfModified['Location'].astype('category').cat.codes\n",
    "\n",
    "dfModified['covered_by_any_other_company']=dfModified['covered_by_any_other_company'].astype('category').cat.codes\n",
    "dfModified['Alcohol']=dfModified['Alcohol'].astype('category').cat.codes\n",
    "dfModified['exercise']=dfModified['exercise'].astype('category').cat.codes\n",
    "dfModified['weight_change_in_last_one_year']=dfModified['weight_change_in_last_one_year'].astype('category').cat.codes\n"
   ]
  },
  {
   "cell_type": "code",
   "execution_count": 83,
   "id": "aab921b8-91e3-4316-9eb1-d812e2bc83c8",
   "metadata": {},
   "outputs": [
    {
     "name": "stdout",
     "output_type": "stream",
     "text": [
      "<class 'pandas.core.frame.DataFrame'>\n",
      "Index: 24010 entries, 0 to 24999\n",
      "Data columns (total 22 columns):\n",
      " #   Column                          Non-Null Count  Dtype  \n",
      "---  ------                          --------------  -----  \n",
      " 0   years_of_insurance_with_us      24010 non-null  float64\n",
      " 1   regular_checkup_lasy_year       24010 non-null  float64\n",
      " 2   adventure_sports                24010 non-null  int8   \n",
      " 3   Occupation                      24010 non-null  int8   \n",
      " 4   visited_doctor_last_1_year      24010 non-null  float64\n",
      " 5   cholesterol_level               24010 non-null  int8   \n",
      " 6   daily_avg_steps                 24010 non-null  float64\n",
      " 7   age                             24010 non-null  float64\n",
      " 8   heart_decs_history              24010 non-null  int8   \n",
      " 9   other_major_decs_history        24010 non-null  float64\n",
      " 10  Gender                          24010 non-null  int8   \n",
      " 11  avg_glucose_level               24010 non-null  float64\n",
      " 12  bmi                             24010 non-null  float64\n",
      " 13  smoking_status                  24010 non-null  int8   \n",
      " 14  Location                        24010 non-null  int8   \n",
      " 15  weight                          24010 non-null  float64\n",
      " 16  covered_by_any_other_company    24010 non-null  int8   \n",
      " 17  Alcohol                         24010 non-null  int8   \n",
      " 18  exercise                        24010 non-null  int8   \n",
      " 19  weight_change_in_last_one_year  24010 non-null  int8   \n",
      " 20  fat_percentage                  24010 non-null  float64\n",
      " 21  insurance_cost                  24010 non-null  float64\n",
      "dtypes: float64(11), int8(11)\n",
      "memory usage: 2.5 MB\n"
     ]
    }
   ],
   "source": [
    "dfModified.info()"
   ]
  },
  {
   "cell_type": "code",
   "execution_count": 49,
   "id": "958690b2-33c3-4f61-931b-c764629a0a4f",
   "metadata": {},
   "outputs": [],
   "source": [
    "#Define a function which returns the Upper and Lower limit to detect outliers for each feature\n",
    "def remove_outlier(col):\n",
    "    Q1,Q3=col.quantile([0.25,0.75])\n",
    "    IQR=Q3-Q1\n",
    "    lower_range= Q1-(1.5 * IQR)\n",
    "    upper_range= Q3+(1.5 * IQR)\n",
    "    return lower_range, upper_range  "
   ]
  },
  {
   "cell_type": "code",
   "execution_count": 50,
   "id": "3da5c753-fb99-4e67-85cd-bcac17551875",
   "metadata": {},
   "outputs": [],
   "source": []
  },
  {
   "cell_type": "code",
   "execution_count": 129,
   "id": "643ad841-70d6-4aca-b628-fac70ceca70c",
   "metadata": {},
   "outputs": [
    {
     "data": {
      "image/png": "[encoded data removed]",
      "text/plain": [
       "<Figure size 2000x300 with 1 Axes>"
      ]
     },
     "metadata": {},
     "output_type": "display_data"
    }
   ],
   "source": [
    "dfModified.boxplot(figsize=(20,3))\n",
    "plt.xticks(rotation=90)\n",
    "plt.show()"
   ]
  },
  {
   "cell_type": "code",
   "execution_count": 130,
   "id": "efad30df-09b0-4faa-9249-d27eff834227",
   "metadata": {},
   "outputs": [
    {
     "data": {
      "image/png": "[encoded data removed]",
      "text/plain": [
       "<Figure size 640x480 with 1 Axes>"
      ]
     },
     "metadata": {},
     "output_type": "display_data"
    }
   ],
   "source": [
    "dfModified['daily_avg_steps'].plot(kind='box')\n",
    "plt.show()"
   ]
  },
  {
   "cell_type": "code",
   "execution_count": 86,
   "id": "789c5290-0fb2-4082-a4d9-10f40743ce43",
   "metadata": {},
   "outputs": [],
   "source": [
    "def univariateAnalysis_numeric(column,nbins):\n",
    "    print(\"Description of \" + column)\n",
    "    print(\"----------------------------------------------------------------------------\")\n",
    "    print(dfModified[column].describe(),end=' ')\n",
    "    \n",
    "    \n",
    "    plt.figure()\n",
    "    print(\"Distribution of \" + column)\n",
    "    print(\"----------------------------------------------------------------------------\")\n",
    "    sns.distplot(dfModified[column], kde=False, color='g');\n",
    "    plt.show()\n",
    "    \n",
    "    plt.figure()\n",
    "    print(\"BoxPlot of \" + column)\n",
    "    print(\"----------------------------------------------------------------------------\")\n",
    "    ax = sns.boxplot(x=dfModified[column])\n",
    "    plt.show()"
   ]
  },
  {
   "cell_type": "code",
   "execution_count": 131,
   "id": "e592e188-9bc5-4aca-b5a3-4c4513652dd7",
   "metadata": {},
   "outputs": [
    {
     "name": "stdout",
     "output_type": "stream",
     "text": [
      "Description of adventure_sports\n",
      "----------------------------------------------------------------------------\n",
      "count    25000.000000\n",
      "mean         0.081720\n",
      "std          0.273943\n",
      "min          0.000000\n",
      "25%          0.000000\n",
      "50%          0.000000\n",
      "75%          0.000000\n",
      "max          1.000000\n",
      "Name: adventure_sports, dtype: float64 Distribution of adventure_sports\n",
      "----------------------------------------------------------------------------\n"
     ]
    },
    {
     "name": "stderr",
     "output_type": "stream",
     "text": [
      "C:\\Users\\harikrishnan.m\\AppData\\Local\\Temp\\ipykernel_51232\\1560891040.py:10: UserWarning: \n",
      "\n",
      "`distplot` is a deprecated function and will be removed in seaborn v0.14.0.\n",
      "\n",
      "Please adapt your code to use either `displot` (a figure-level function with\n",
      "similar flexibility) or `histplot` (an axes-level function for histograms).\n",
      "\n",
      "For a guide to updating your code to use the new functions, please see\n",
      "https://gist.github.com/mwaskom/de44147ed2974457ad6372750bbe5751\n",
      "\n",
      "  sns.distplot(df[column], kde=False, color='g');\n"
     ]
    },
    {
     "data": {
      "image/png": "[encoded data removed]",
      "text/plain": [
       "<Figure size 640x480 with 1 Axes>"
      ]
     },
     "metadata": {},
     "output_type": "display_data"
    },
    {
     "name": "stdout",
     "output_type": "stream",
     "text": [
      "BoxPlot of adventure_sports\n",
      "----------------------------------------------------------------------------\n"
     ]
    },
    {
     "data": {
      "image/png": "[encoded data removed]",
      "text/plain": [
       "<Figure size 640x480 with 1 Axes>"
      ]
     },
     "metadata": {},
     "output_type": "display_data"
    }
   ],
   "source": [
    "univariateAnalysis_numeric('adventure_sports',20)"
   ]
  },
  {
   "cell_type": "code",
   "execution_count": 132,
   "id": "525c6682-23c8-4cd1-9220-c9e4d889a176",
   "metadata": {},
   "outputs": [
    {
     "data": {
      "text/html": [
       "<div>\n",
       "<style scoped>\n",
       "    .dataframe tbody tr th:only-of-type {\n",
       "        vertical-align: middle;\n",
       "    }\n",
       "\n",
       "    .dataframe tbody tr th {\n",
       "        vertical-align: top;\n",
       "    }\n",
       "\n",
       "    .dataframe thead th {\n",
       "        text-align: right;\n",
       "    }\n",
       "</style>\n",
       "<table border=\"1\" class=\"dataframe\">\n",
       "  <thead>\n",
       "    <tr style=\"text-align: right;\">\n",
       "      <th></th>\n",
       "      <th>years_of_insurance_with_us</th>\n",
       "      <th>regular_checkup_lasy_year</th>\n",
       "      <th>adventure_sports</th>\n",
       "      <th>Occupation</th>\n",
       "      <th>visited_doctor_last_1_year</th>\n",
       "      <th>cholesterol_level</th>\n",
       "      <th>daily_avg_steps</th>\n",
       "      <th>age</th>\n",
       "      <th>heart_decs_history</th>\n",
       "      <th>other_major_decs_history</th>\n",
       "      <th>...</th>\n",
       "      <th>bmi</th>\n",
       "      <th>smoking_status</th>\n",
       "      <th>Location</th>\n",
       "      <th>weight</th>\n",
       "      <th>covered_by_any_other_company</th>\n",
       "      <th>Alcohol</th>\n",
       "      <th>exercise</th>\n",
       "      <th>weight_change_in_last_one_year</th>\n",
       "      <th>fat_percentage</th>\n",
       "      <th>insurance_cost</th>\n",
       "    </tr>\n",
       "  </thead>\n",
       "  <tbody>\n",
       "    <tr>\n",
       "      <th>0</th>\n",
       "      <td>-0.416131</td>\n",
       "      <td>0.375117</td>\n",
       "      <td>3.347597</td>\n",
       "      <td>-0.004588</td>\n",
       "      <td>-0.980786</td>\n",
       "      <td>-1.003903</td>\n",
       "      <td>-0.333074</td>\n",
       "      <td>-1.051680</td>\n",
       "      <td>4.348424</td>\n",
       "      <td>-0.319347</td>\n",
       "      <td>...</td>\n",
       "      <td>-0.005132</td>\n",
       "      <td>-1.288813</td>\n",
       "      <td>-0.912242</td>\n",
       "      <td>-0.494891</td>\n",
       "      <td>-0.659006</td>\n",
       "      <td>0.820501</td>\n",
       "      <td>0.006808</td>\n",
       "      <td>-0.898319</td>\n",
       "      <td>-0.442882</td>\n",
       "      <td>-0.431395</td>\n",
       "    </tr>\n",
       "    <tr>\n",
       "      <th>1</th>\n",
       "      <td>-1.566540</td>\n",
       "      <td>-0.713882</td>\n",
       "      <td>-0.298722</td>\n",
       "      <td>1.107998</td>\n",
       "      <td>0.801854</td>\n",
       "      <td>-0.211799</td>\n",
       "      <td>1.259849</td>\n",
       "      <td>0.315844</td>\n",
       "      <td>-0.229968</td>\n",
       "      <td>-0.319347</td>\n",
       "      <td>...</td>\n",
       "      <td>0.403450</td>\n",
       "      <td>-0.352154</td>\n",
       "      <td>-0.216808</td>\n",
       "      <td>-1.459130</td>\n",
       "      <td>-0.659006</td>\n",
       "      <td>0.820501</td>\n",
       "      <td>0.006808</td>\n",
       "      <td>0.285048</td>\n",
       "      <td>-0.211244</td>\n",
       "      <td>-1.464626</td>\n",
       "    </tr>\n",
       "    <tr>\n",
       "      <th>2</th>\n",
       "      <td>-1.183071</td>\n",
       "      <td>-0.713882</td>\n",
       "      <td>-0.298722</td>\n",
       "      <td>-1.117173</td>\n",
       "      <td>0.801854</td>\n",
       "      <td>1.372407</td>\n",
       "      <td>-0.701147</td>\n",
       "      <td>1.434727</td>\n",
       "      <td>-0.229968</td>\n",
       "      <td>-0.319347</td>\n",
       "      <td>...</td>\n",
       "      <td>1.247852</td>\n",
       "      <td>-0.352154</td>\n",
       "      <td>-0.216808</td>\n",
       "      <td>0.147936</td>\n",
       "      <td>-0.659006</td>\n",
       "      <td>-2.116764</td>\n",
       "      <td>-1.550000</td>\n",
       "      <td>-1.490002</td>\n",
       "      <td>0.367853</td>\n",
       "      <td>0.085220</td>\n",
       "    </tr>\n",
       "    <tr>\n",
       "      <th>3</th>\n",
       "      <td>1.117748</td>\n",
       "      <td>2.008617</td>\n",
       "      <td>-0.298722</td>\n",
       "      <td>-1.117173</td>\n",
       "      <td>-0.980786</td>\n",
       "      <td>0.580304</td>\n",
       "      <td>1.056739</td>\n",
       "      <td>0.378004</td>\n",
       "      <td>-0.229968</td>\n",
       "      <td>-0.319347</td>\n",
       "      <td>...</td>\n",
       "      <td>-1.135541</td>\n",
       "      <td>-1.288813</td>\n",
       "      <td>-0.912242</td>\n",
       "      <td>-0.066340</td>\n",
       "      <td>1.517436</td>\n",
       "      <td>0.820501</td>\n",
       "      <td>1.563616</td>\n",
       "      <td>0.285048</td>\n",
       "      <td>0.946949</td>\n",
       "      <td>-0.000882</td>\n",
       "    </tr>\n",
       "    <tr>\n",
       "      <th>4</th>\n",
       "      <td>-0.416131</td>\n",
       "      <td>0.375117</td>\n",
       "      <td>-0.298722</td>\n",
       "      <td>1.107998</td>\n",
       "      <td>-0.980786</td>\n",
       "      <td>-0.211799</td>\n",
       "      <td>-0.258841</td>\n",
       "      <td>-0.057117</td>\n",
       "      <td>-0.229968</td>\n",
       "      <td>3.131386</td>\n",
       "      <td>...</td>\n",
       "      <td>-0.645243</td>\n",
       "      <td>0.584505</td>\n",
       "      <td>-1.375865</td>\n",
       "      <td>0.255074</td>\n",
       "      <td>-0.659006</td>\n",
       "      <td>-0.648131</td>\n",
       "      <td>-1.550000</td>\n",
       "      <td>-1.490002</td>\n",
       "      <td>0.599491</td>\n",
       "      <td>0.171323</td>\n",
       "    </tr>\n",
       "  </tbody>\n",
       "</table>\n",
       "<p>5 rows × 22 columns</p>\n",
       "</div>"
      ],
      "text/plain": [
       "   years_of_insurance_with_us  regular_checkup_lasy_year  adventure_sports  \\\n",
       "0                   -0.416131                   0.375117          3.347597   \n",
       "1                   -1.566540                  -0.713882         -0.298722   \n",
       "2                   -1.183071                  -0.713882         -0.298722   \n",
       "3                    1.117748                   2.008617         -0.298722   \n",
       "4                   -0.416131                   0.375117         -0.298722   \n",
       "\n",
       "   Occupation  visited_doctor_last_1_year  cholesterol_level  daily_avg_steps  \\\n",
       "0   -0.004588                   -0.980786          -1.003903        -0.333074   \n",
       "1    1.107998                    0.801854          -0.211799         1.259849   \n",
       "2   -1.117173                    0.801854           1.372407        -0.701147   \n",
       "3   -1.117173                   -0.980786           0.580304         1.056739   \n",
       "4    1.107998                   -0.980786          -0.211799        -0.258841   \n",
       "\n",
       "        age  heart_decs_history  other_major_decs_history  ...       bmi  \\\n",
       "0 -1.051680            4.348424                 -0.319347  ... -0.005132   \n",
       "1  0.315844           -0.229968                 -0.319347  ...  0.403450   \n",
       "2  1.434727           -0.229968                 -0.319347  ...  1.247852   \n",
       "3  0.378004           -0.229968                 -0.319347  ... -1.135541   \n",
       "4 -0.057117           -0.229968                  3.131386  ... -0.645243   \n",
       "\n",
       "   smoking_status  Location    weight  covered_by_any_other_company   Alcohol  \\\n",
       "0       -1.288813 -0.912242 -0.494891                     -0.659006  0.820501   \n",
       "1       -0.352154 -0.216808 -1.459130                     -0.659006  0.820501   \n",
       "2       -0.352154 -0.216808  0.147936                     -0.659006 -2.116764   \n",
       "3       -1.288813 -0.912242 -0.066340                      1.517436  0.820501   \n",
       "4        0.584505 -1.375865  0.255074                     -0.659006 -0.648131   \n",
       "\n",
       "   exercise  weight_change_in_last_one_year  fat_percentage  insurance_cost  \n",
       "0  0.006808                       -0.898319       -0.442882       -0.431395  \n",
       "1  0.006808                        0.285048       -0.211244       -1.464626  \n",
       "2 -1.550000                       -1.490002        0.367853        0.085220  \n",
       "3  1.563616                        0.285048        0.946949       -0.000882  \n",
       "4 -1.550000                       -1.490002        0.599491        0.171323  \n",
       "\n",
       "[5 rows x 22 columns]"
      ]
     },
     "execution_count": 132,
     "metadata": {},
     "output_type": "execute_result"
    }
   ],
   "source": [
    "from scipy.stats import zscore\n",
    "dfModifiedScaled=dfModified.apply(zscore)\n",
    "dfModifiedScaled.head()"
   ]
  },
  {
   "cell_type": "code",
   "execution_count": 133,
   "id": "efbb5b05-a89d-4ac5-97a2-316ed4b4539e",
   "metadata": {},
   "outputs": [
    {
     "data": {
      "image/png": "[encoded data removed]",
      "text/plain": [
       "<Figure size 2000x300 with 1 Axes>"
      ]
     },
     "metadata": {},
     "output_type": "display_data"
    }
   ],
   "source": [
    "dfModifiedScaled.boxplot(figsize=(20,3))\n",
    "plt.xticks(rotation=90)\n",
    "plt.show()"
   ]
  },
  {
   "cell_type": "code",
   "execution_count": 134,
   "id": "4bafb0d8-b28c-4dac-85a6-c58acab42f32",
   "metadata": {},
   "outputs": [
    {
     "data": {
      "text/plain": [
       "years_of_insurance_with_us        0\n",
       "regular_checkup_lasy_year         0\n",
       "adventure_sports                  0\n",
       "Occupation                        0\n",
       "visited_doctor_last_1_year        0\n",
       "cholesterol_level                 0\n",
       "daily_avg_steps                   0\n",
       "age                               0\n",
       "heart_decs_history                0\n",
       "other_major_decs_history          0\n",
       "Gender                            0\n",
       "avg_glucose_level                 0\n",
       "bmi                               0\n",
       "smoking_status                    0\n",
       "Location                          0\n",
       "weight                            0\n",
       "covered_by_any_other_company      0\n",
       "Alcohol                           0\n",
       "exercise                          0\n",
       "weight_change_in_last_one_year    0\n",
       "fat_percentage                    0\n",
       "insurance_cost                    0\n",
       "dtype: int64"
      ]
     },
     "execution_count": 134,
     "metadata": {},
     "output_type": "execute_result"
    }
   ],
   "source": [
    "dfModifiedScaled.isnull().sum()"
   ]
  },
  {
   "cell_type": "code",
   "execution_count": 135,
   "id": "14afdf73-d4ec-4626-8e59-fdc457660b3a",
   "metadata": {},
   "outputs": [
    {
     "data": {
      "text/plain": [
       "0.0"
      ]
     },
     "execution_count": 135,
     "metadata": {},
     "output_type": "execute_result"
    }
   ],
   "source": [
    "from factor_analyzer import calculate_bartlett_sphericity\n",
    "chi_square_value,p_value=calculate_bartlett_sphericity(dfModifiedScaled)\n",
    "p_value"
   ]
  },
  {
   "cell_type": "code",
   "execution_count": 136,
   "id": "3757bd60-c2d5-48c4-9f2a-d32046e86f9a",
   "metadata": {},
   "outputs": [
    {
     "data": {
      "text/plain": [
       "0.5571430695297668"
      ]
     },
     "execution_count": 136,
     "metadata": {},
     "output_type": "execute_result"
    }
   ],
   "source": [
    "from factor_analyzer import calculate_kmo\n",
    "kmo_all,kmo_model=calculate_kmo(dfModifiedScaled)\n",
    "kmo_model"
   ]
  },
  {
   "cell_type": "code",
   "execution_count": 137,
   "id": "4cfa1a3e-07a2-4106-9fb8-6b33f3ef54e3",
   "metadata": {},
   "outputs": [
    {
     "data": {
      "text/plain": [
       "array([[-0.10466487, -2.00360886,  0.72750869, ..., -0.7820643 ,\n",
       "         0.84787872, -2.61866597],\n",
       "       [ 0.714275  ,  0.3743759 , -0.52123482, ...,  0.38973153,\n",
       "        -0.68502664,  1.57285043],\n",
       "       [-0.83038853, -1.03689459,  2.18011799, ...,  1.47402213,\n",
       "         1.71228496,  0.5466477 ],\n",
       "       ...,\n",
       "       [ 1.8787201 ,  0.19816328,  0.14678345, ..., -0.40055254,\n",
       "        -1.14453724,  1.31890625],\n",
       "       [ 3.15344154, -0.49913812,  0.28958432, ...,  0.36438539,\n",
       "         0.87807757, -0.98486158],\n",
       "       [ 2.37784246, -0.02584148, -0.66402237, ..., -1.05175747,\n",
       "        -0.08614651,  3.1665056 ]])"
      ]
     },
     "execution_count": 137,
     "metadata": {},
     "output_type": "execute_result"
    }
   ],
   "source": [
    "# Step 4 Apply PCA for the number of decided components to get the loadings and component output\n",
    "\n",
    "# Using scikit learn PCA here. It does all the above steps and maps data to PCA dimensions in one shot\n",
    "from sklearn.decomposition import PCA\n",
    "# NOTE - we are generating only 8 PCA dimensions (dimensionality reduction from 33 to 8)\n",
    "pca = PCA(n_components=15, random_state=123)\n",
    "df_pca = pca.fit_transform(dfModifiedScaled)\n",
    "df_pca.transpose() # Component output"
   ]
  },
  {
   "cell_type": "code",
   "execution_count": 138,
   "id": "bbacdf2e-b48c-49f1-942a-cc2d63f9b9d8",
   "metadata": {},
   "outputs": [
    {
     "data": {
      "text/plain": [
       "array([[ 0.02015   , -0.16358799,  0.091791  , -0.00437569,  0.01834385,\n",
       "        -0.00451135, -0.01169683,  0.00348019, -0.00549446, -0.01019357,\n",
       "        -0.01652263, -0.00549206, -0.02413688, -0.02016204,  0.00599424,\n",
       "         0.6379033 ,  0.10756144, -0.0045217 , -0.00284468, -0.37085764,\n",
       "        -0.0121965 ,  0.63735186],\n",
       "       [-0.03963992, -0.03553011, -0.00333861,  0.05581819,  0.01115395,\n",
       "        -0.04970975, -0.01663874, -0.01566028,  0.21741671,  0.35785463,\n",
       "         0.56029684, -0.02043464,  0.53468998,  0.46057944,  0.02021305,\n",
       "         0.02628079, -0.01887357,  0.02089549, -0.0086975 ,  0.00333331,\n",
       "        -0.02229755,  0.02718459],\n",
       "       [-0.00890508, -0.00222663, -0.00688035, -0.67157656, -0.04040773,\n",
       "         0.67171158,  0.03974187, -0.00447023,  0.02781785,  0.04172133,\n",
       "         0.03719155, -0.00474363,  0.03626266,  0.03993672,  0.00088545,\n",
       "         0.00142495,  0.01140663, -0.17857681, -0.07110254, -0.00679797,\n",
       "         0.2246403 ,  0.002628  ],\n",
       "       [ 0.47036339,  0.11459308,  0.03745907, -0.02399683,  0.42499399,\n",
       "        -0.02494642, -0.44196488,  0.04643554,  0.01110072,  0.00468336,\n",
       "         0.01911828,  0.03284782,  0.03232928, -0.01405364, -0.04803081,\n",
       "        -0.06142622,  0.47460237, -0.26623311, -0.23924402, -0.02760924,\n",
       "        -0.13923039, -0.04991212],\n",
       "       [-0.51813119, -0.12613012, -0.08785292, -0.02505924,  0.38695221,\n",
       "        -0.00970052, -0.42436514,  0.01743871, -0.01822741,  0.00612649,\n",
       "        -0.03352044,  0.02372238, -0.00485111, -0.04924245,  0.01016575,\n",
       "         0.03076436, -0.485935  , -0.24670754, -0.22589022, -0.00697792,\n",
       "        -0.15223641,  0.01632291],\n",
       "       [-0.13085976,  0.6183655 ,  0.30119794,  0.00192624,  0.03005624,\n",
       "         0.01541965,  0.04158221,  0.08554844,  0.02485328,  0.00070706,\n",
       "         0.04444709,  0.25451578, -0.00756505,  0.01864569, -0.58563016,\n",
       "         0.01138918, -0.10914905,  0.05430383, -0.01236715, -0.2706119 ,\n",
       "         0.00138078, -0.02167485],\n",
       "       [-0.01261824,  0.06218882,  0.30046832,  0.02232504, -0.08726094,\n",
       "        -0.01057838, -0.08681517,  0.35535113,  0.35351071,  0.1798487 ,\n",
       "        -0.04035755, -0.55255337, -0.12257834, -0.14216624,  0.07191295,\n",
       "        -0.01216956, -0.04409713,  0.25462789, -0.41082149,  0.00501564,\n",
       "         0.15203247, -0.01213282],\n",
       "       [ 0.00705594, -0.06322952, -0.04311337,  0.0338745 ,  0.0349143 ,\n",
       "        -0.04522205,  0.02352873, -0.32466166,  0.6512284 ,  0.34956491,\n",
       "        -0.11345099,  0.45776377, -0.1929636 , -0.21557442,  0.06400018,\n",
       "        -0.00259764,  0.02147176, -0.0173916 , -0.03377608,  0.02119926,\n",
       "         0.15760948,  0.00240199]])"
      ]
     },
     "execution_count": 138,
     "metadata": {},
     "output_type": "execute_result"
    }
   ],
   "source": [
    "pca.components_"
   ]
  },
  {
   "cell_type": "code",
   "execution_count": 139,
   "id": "70f397cf-3671-46d7-97e6-d185090b0e70",
   "metadata": {},
   "outputs": [],
   "source": [
    "var_exp = pca.explained_variance_ratio_"
   ]
  },
  {
   "cell_type": "code",
   "execution_count": 142,
   "id": "d66c0a3d-4223-4e48-b6cc-40100042be3c",
   "metadata": {},
   "outputs": [
    {
     "data": {
      "text/plain": [
       "array([0.10210617, 0.07784864, 0.07121647, 0.05789298, 0.05687497,\n",
       "       0.04763629, 0.04598526, 0.04589938])"
      ]
     },
     "execution_count": 142,
     "metadata": {},
     "output_type": "execute_result"
    }
   ],
   "source": [
    "pca.explained_variance_ratio_"
   ]
  },
  {
   "cell_type": "code",
   "execution_count": 143,
   "id": "8632a613-88fc-4b22-914d-8531db043873",
   "metadata": {},
   "outputs": [
    {
     "data": {
      "text/plain": [
       "array([0.10210617, 0.07784864, 0.07121647, 0.05789298, 0.05687497,\n",
       "       0.04763629, 0.04598526, 0.04589938])"
      ]
     },
     "execution_count": 143,
     "metadata": {},
     "output_type": "execute_result"
    }
   ],
   "source": [
    "pca.explained_variance_ratio_"
   ]
  },
  {
   "cell_type": "code",
   "execution_count": 144,
   "id": "b2fd1387-9ff4-4b97-8fc9-2fe6db4ab0c6",
   "metadata": {},
   "outputs": [
    {
     "ename": "ValueError",
     "evalue": "Shape of passed values is (22, 8), indices imply (22, 7)",
     "output_type": "error",
     "traceback": [
      "\u001b[1;31m---------------------------------------------------------------------------\u001b[0m",
      "\u001b[1;31mValueError\u001b[0m                                Traceback (most recent call last)",
      "Cell \u001b[1;32mIn[144], line 1\u001b[0m\n\u001b[1;32m----> 1\u001b[0m df_extracted_loadings \u001b[38;5;241m=\u001b[39m \u001b[43mpd\u001b[49m\u001b[38;5;241;43m.\u001b[39;49m\u001b[43mDataFrame\u001b[49m\u001b[43m(\u001b[49m\u001b[43mpca\u001b[49m\u001b[38;5;241;43m.\u001b[39;49m\u001b[43mcomponents_\u001b[49m\u001b[38;5;241;43m.\u001b[39;49m\u001b[43mT\u001b[49m\u001b[43m,\u001b[49m\u001b[43m \u001b[49m\u001b[43mcolumns\u001b[49m\u001b[43m \u001b[49m\u001b[38;5;241;43m=\u001b[39;49m\u001b[43m \u001b[49m\u001b[43m[\u001b[49m\u001b[38;5;124;43m'\u001b[39;49m\u001b[38;5;124;43mPC1\u001b[39;49m\u001b[38;5;124;43m'\u001b[39;49m\u001b[43m,\u001b[49m\u001b[43m \u001b[49m\u001b[38;5;124;43m'\u001b[39;49m\u001b[38;5;124;43mPC2\u001b[39;49m\u001b[38;5;124;43m'\u001b[39;49m\u001b[43m,\u001b[49m\u001b[43m \u001b[49m\u001b[38;5;124;43m'\u001b[39;49m\u001b[38;5;124;43mPC3\u001b[39;49m\u001b[38;5;124;43m'\u001b[39;49m\u001b[43m,\u001b[49m\u001b[38;5;124;43m'\u001b[39;49m\u001b[38;5;124;43mPC4\u001b[39;49m\u001b[38;5;124;43m'\u001b[39;49m\u001b[43m,\u001b[49m\u001b[43m \u001b[49m\u001b[38;5;124;43m'\u001b[39;49m\u001b[38;5;124;43mPC5\u001b[39;49m\u001b[38;5;124;43m'\u001b[39;49m\u001b[43m,\u001b[49m\u001b[43m \u001b[49m\u001b[38;5;124;43m'\u001b[39;49m\u001b[38;5;124;43mPC6\u001b[39;49m\u001b[38;5;124;43m'\u001b[39;49m\u001b[43m,\u001b[49m\u001b[43m \u001b[49m\n\u001b[0;32m      2\u001b[0m \u001b[43m                                                                   \u001b[49m\u001b[38;5;124;43m'\u001b[39;49m\u001b[38;5;124;43mPC7\u001b[39;49m\u001b[38;5;124;43m'\u001b[39;49m\u001b[43m]\u001b[49m\u001b[43m,\u001b[49m\n\u001b[0;32m      3\u001b[0m \u001b[43m                                     \u001b[49m\u001b[43mindex\u001b[49m\u001b[38;5;241;43m=\u001b[39;49m\u001b[43mdfModifiedScaled\u001b[49m\u001b[38;5;241;43m.\u001b[39;49m\u001b[43mcolumns\u001b[49m\u001b[43m)\u001b[49m\n",
      "File \u001b[1;32m~\\AppData\\Local\\Programs\\Python\\Python311\\Lib\\site-packages\\pandas\\core\\frame.py:782\u001b[0m, in \u001b[0;36mDataFrame.__init__\u001b[1;34m(self, data, index, columns, dtype, copy)\u001b[0m\n\u001b[0;32m    771\u001b[0m         mgr \u001b[38;5;241m=\u001b[39m dict_to_mgr(\n\u001b[0;32m    772\u001b[0m             \u001b[38;5;66;03m# error: Item \"ndarray\" of \"Union[ndarray, Series, Index]\" has no\u001b[39;00m\n\u001b[0;32m    773\u001b[0m             \u001b[38;5;66;03m# attribute \"name\"\u001b[39;00m\n\u001b[1;32m   (...)\u001b[0m\n\u001b[0;32m    779\u001b[0m             copy\u001b[38;5;241m=\u001b[39m_copy,\n\u001b[0;32m    780\u001b[0m         )\n\u001b[0;32m    781\u001b[0m     \u001b[38;5;28;01melse\u001b[39;00m:\n\u001b[1;32m--> 782\u001b[0m         mgr \u001b[38;5;241m=\u001b[39m \u001b[43mndarray_to_mgr\u001b[49m\u001b[43m(\u001b[49m\n\u001b[0;32m    783\u001b[0m \u001b[43m            \u001b[49m\u001b[43mdata\u001b[49m\u001b[43m,\u001b[49m\n\u001b[0;32m    784\u001b[0m \u001b[43m            \u001b[49m\u001b[43mindex\u001b[49m\u001b[43m,\u001b[49m\n\u001b[0;32m    785\u001b[0m \u001b[43m            \u001b[49m\u001b[43mcolumns\u001b[49m\u001b[43m,\u001b[49m\n\u001b[0;32m    786\u001b[0m \u001b[43m            \u001b[49m\u001b[43mdtype\u001b[49m\u001b[38;5;241;43m=\u001b[39;49m\u001b[43mdtype\u001b[49m\u001b[43m,\u001b[49m\n\u001b[0;32m    787\u001b[0m \u001b[43m            \u001b[49m\u001b[43mcopy\u001b[49m\u001b[38;5;241;43m=\u001b[39;49m\u001b[43mcopy\u001b[49m\u001b[43m,\u001b[49m\n\u001b[0;32m    788\u001b[0m \u001b[43m            \u001b[49m\u001b[43mtyp\u001b[49m\u001b[38;5;241;43m=\u001b[39;49m\u001b[43mmanager\u001b[49m\u001b[43m,\u001b[49m\n\u001b[0;32m    789\u001b[0m \u001b[43m        \u001b[49m\u001b[43m)\u001b[49m\n\u001b[0;32m    791\u001b[0m \u001b[38;5;66;03m# For data is list-like, or Iterable (will consume into list)\u001b[39;00m\n\u001b[0;32m    792\u001b[0m \u001b[38;5;28;01melif\u001b[39;00m is_list_like(data):\n",
      "File \u001b[1;32m~\\AppData\\Local\\Programs\\Python\\Python311\\Lib\\site-packages\\pandas\\core\\internals\\construction.py:336\u001b[0m, in \u001b[0;36mndarray_to_mgr\u001b[1;34m(values, index, columns, dtype, copy, typ)\u001b[0m\n\u001b[0;32m    331\u001b[0m \u001b[38;5;66;03m# _prep_ndarraylike ensures that values.ndim == 2 at this point\u001b[39;00m\n\u001b[0;32m    332\u001b[0m index, columns \u001b[38;5;241m=\u001b[39m _get_axes(\n\u001b[0;32m    333\u001b[0m     values\u001b[38;5;241m.\u001b[39mshape[\u001b[38;5;241m0\u001b[39m], values\u001b[38;5;241m.\u001b[39mshape[\u001b[38;5;241m1\u001b[39m], index\u001b[38;5;241m=\u001b[39mindex, columns\u001b[38;5;241m=\u001b[39mcolumns\n\u001b[0;32m    334\u001b[0m )\n\u001b[1;32m--> 336\u001b[0m \u001b[43m_check_values_indices_shape_match\u001b[49m\u001b[43m(\u001b[49m\u001b[43mvalues\u001b[49m\u001b[43m,\u001b[49m\u001b[43m \u001b[49m\u001b[43mindex\u001b[49m\u001b[43m,\u001b[49m\u001b[43m \u001b[49m\u001b[43mcolumns\u001b[49m\u001b[43m)\u001b[49m\n\u001b[0;32m    338\u001b[0m \u001b[38;5;28;01mif\u001b[39;00m typ \u001b[38;5;241m==\u001b[39m \u001b[38;5;124m\"\u001b[39m\u001b[38;5;124marray\u001b[39m\u001b[38;5;124m\"\u001b[39m:\n\u001b[0;32m    339\u001b[0m     \u001b[38;5;28;01mif\u001b[39;00m \u001b[38;5;28missubclass\u001b[39m(values\u001b[38;5;241m.\u001b[39mdtype\u001b[38;5;241m.\u001b[39mtype, \u001b[38;5;28mstr\u001b[39m):\n",
      "File \u001b[1;32m~\\AppData\\Local\\Programs\\Python\\Python311\\Lib\\site-packages\\pandas\\core\\internals\\construction.py:420\u001b[0m, in \u001b[0;36m_check_values_indices_shape_match\u001b[1;34m(values, index, columns)\u001b[0m\n\u001b[0;32m    418\u001b[0m passed \u001b[38;5;241m=\u001b[39m values\u001b[38;5;241m.\u001b[39mshape\n\u001b[0;32m    419\u001b[0m implied \u001b[38;5;241m=\u001b[39m (\u001b[38;5;28mlen\u001b[39m(index), \u001b[38;5;28mlen\u001b[39m(columns))\n\u001b[1;32m--> 420\u001b[0m \u001b[38;5;28;01mraise\u001b[39;00m \u001b[38;5;167;01mValueError\u001b[39;00m(\u001b[38;5;124mf\u001b[39m\u001b[38;5;124m\"\u001b[39m\u001b[38;5;124mShape of passed values is \u001b[39m\u001b[38;5;132;01m{\u001b[39;00mpassed\u001b[38;5;132;01m}\u001b[39;00m\u001b[38;5;124m, indices imply \u001b[39m\u001b[38;5;132;01m{\u001b[39;00mimplied\u001b[38;5;132;01m}\u001b[39;00m\u001b[38;5;124m\"\u001b[39m)\n",
      "\u001b[1;31mValueError\u001b[0m: Shape of passed values is (22, 8), indices imply (22, 7)"
     ]
    }
   ],
   "source": [
    "df_extracted_loadings = pd.DataFrame(pca.components_.T, columns = ['PC1', 'PC2', 'PC3','PC4', 'PC5', 'PC6', \n",
    "                                                                   'PC7', 'PC8'],\n",
    "                                     index=dfModifiedScaled.columns)"
   ]
  },
  {
   "cell_type": "code",
   "execution_count": 140,
   "id": "cb10763c-ec1d-4464-ad1c-adebb24d3f51",
   "metadata": {},
   "outputs": [
    {
     "data": {
      "image/png": "[encoded data removed]",
      "text/plain": [
       "<Figure size 1200x700 with 1 Axes>"
      ]
     },
     "metadata": {},
     "output_type": "display_data"
    }
   ],
   "source": [
    "# Step 3 View Scree Plot to identify the number of components to be built\n",
    "plt.figure(figsize=(12,7))\n",
    "sns.lineplot(y=var_exp,x=range(1,len(var_exp)+1),marker='o')\n",
    "plt.xlabel('Number of Components',fontsize=15)\n",
    "plt.ylabel('Variance Explained',fontsize=15)\n",
    "plt.title('Scree Plot',fontsize=15)\n",
    "plt.grid()\n",
    "plt.show()"
   ]
  },
  {
   "cell_type": "code",
   "execution_count": 141,
   "id": "dc9b0138-b2a0-4513-a8a7-737585755e97",
   "metadata": {},
   "outputs": [
    {
     "data": {
      "text/plain": [
       "(8, 22)"
      ]
     },
     "execution_count": 141,
     "metadata": {},
     "output_type": "execute_result"
    }
   ],
   "source": [
    "df_pca_loading = pd.DataFrame(pca.components_,columns=list(dfModifiedScaled))\n",
    "df_pca_loading.shape"
   ]
  },
  {
   "cell_type": "code",
   "execution_count": null,
   "id": "83e154a9-8e1d-4d5b-a9d4-1a08289fb03b",
   "metadata": {},
   "outputs": [],
   "source": []
  },
  {
   "cell_type": "code",
   "execution_count": 92,
   "id": "2c53a550-9e6f-4a91-bd80-7ed8b6ed9182",
   "metadata": {},
   "outputs": [
    {
     "name": "stdout",
     "output_type": "stream",
     "text": [
      "Collecting factor_analyzer\n",
      "  Downloading factor_analyzer-0.5.0.tar.gz (42 kB)\n",
      "     ---------------------------------------- 0.0/42.5 kB ? eta -:--:--\n",
      "     ---------------------------------------- 42.5/42.5 kB 2.0 MB/s eta 0:00:00\n",
      "  Installing build dependencies: started\n",
      "  Installing build dependencies: finished with status 'done'\n",
      "  Getting requirements to build wheel: started\n",
      "  Getting requirements to build wheel: finished with status 'done'\n",
      "  Preparing metadata (pyproject.toml): started\n",
      "  Preparing metadata (pyproject.toml): finished with status 'done'\n",
      "Requirement already satisfied: pandas in c:\\users\\harikrishnan.m\\appdata\\local\\programs\\python\\python311\\lib\\site-packages (from factor_analyzer) (2.1.2)\n",
      "Requirement already satisfied: scipy in c:\\users\\harikrishnan.m\\appdata\\local\\programs\\python\\python311\\lib\\site-packages (from factor_analyzer) (1.11.3)\n",
      "Requirement already satisfied: numpy in c:\\users\\harikrishnan.m\\appdata\\local\\programs\\python\\python311\\lib\\site-packages (from factor_analyzer) (1.25.2)\n",
      "Requirement already satisfied: scikit-learn in c:\\users\\harikrishnan.m\\appdata\\local\\programs\\python\\python311\\lib\\site-packages (from factor_analyzer) (1.3.2)\n",
      "Collecting pre-commit (from factor_analyzer)\n",
      "  Downloading pre_commit-3.5.0-py2.py3-none-any.whl.metadata (1.3 kB)\n",
      "Requirement already satisfied: python-dateutil>=2.8.2 in c:\\users\\harikrishnan.m\\appdata\\local\\programs\\python\\python311\\lib\\site-packages (from pandas->factor_analyzer) (2.8.2)\n",
      "Requirement already satisfied: pytz>=2020.1 in c:\\users\\harikrishnan.m\\appdata\\local\\programs\\python\\python311\\lib\\site-packages (from pandas->factor_analyzer) (2023.3.post1)\n",
      "Requirement already satisfied: tzdata>=2022.1 in c:\\users\\harikrishnan.m\\appdata\\local\\programs\\python\\python311\\lib\\site-packages (from pandas->factor_analyzer) (2023.3)\n",
      "Collecting cfgv>=2.0.0 (from pre-commit->factor_analyzer)\n",
      "  Downloading cfgv-3.4.0-py2.py3-none-any.whl.metadata (8.5 kB)\n",
      "Collecting identify>=1.0.0 (from pre-commit->factor_analyzer)\n",
      "  Downloading identify-2.5.31-py2.py3-none-any.whl.metadata (4.4 kB)\n",
      "Collecting nodeenv>=0.11.1 (from pre-commit->factor_analyzer)\n",
      "  Downloading nodeenv-1.8.0-py2.py3-none-any.whl.metadata (21 kB)\n",
      "Requirement already satisfied: pyyaml>=5.1 in c:\\users\\harikrishnan.m\\appdata\\local\\programs\\python\\python311\\lib\\site-packages (from pre-commit->factor_analyzer) (6.0.1)\n",
      "Collecting virtualenv>=20.10.0 (from pre-commit->factor_analyzer)\n",
      "  Downloading virtualenv-20.24.6-py3-none-any.whl.metadata (4.5 kB)\n",
      "Requirement already satisfied: joblib>=1.1.1 in c:\\users\\harikrishnan.m\\appdata\\local\\programs\\python\\python311\\lib\\site-packages (from scikit-learn->factor_analyzer) (1.3.2)\n",
      "Requirement already satisfied: threadpoolctl>=2.0.0 in c:\\users\\harikrishnan.m\\appdata\\local\\programs\\python\\python311\\lib\\site-packages (from scikit-learn->factor_analyzer) (3.2.0)\n",
      "Requirement already satisfied: setuptools in c:\\users\\harikrishnan.m\\appdata\\local\\programs\\python\\python311\\lib\\site-packages (from nodeenv>=0.11.1->pre-commit->factor_analyzer) (65.5.0)\n",
      "Requirement already satisfied: six>=1.5 in c:\\users\\harikrishnan.m\\appdata\\local\\programs\\python\\python311\\lib\\site-packages (from python-dateutil>=2.8.2->pandas->factor_analyzer) (1.16.0)\n",
      "Collecting distlib<1,>=0.3.7 (from virtualenv>=20.10.0->pre-commit->factor_analyzer)\n",
      "  Downloading distlib-0.3.7-py2.py3-none-any.whl.metadata (5.1 kB)\n",
      "Collecting filelock<4,>=3.12.2 (from virtualenv>=20.10.0->pre-commit->factor_analyzer)\n",
      "  Downloading filelock-3.13.1-py3-none-any.whl.metadata (2.8 kB)\n",
      "Requirement already satisfied: platformdirs<4,>=3.9.1 in c:\\users\\harikrishnan.m\\appdata\\local\\programs\\python\\python311\\lib\\site-packages (from virtualenv>=20.10.0->pre-commit->factor_analyzer) (3.10.0)\n",
      "Downloading pre_commit-3.5.0-py2.py3-none-any.whl (203 kB)\n",
      "   ---------------------------------------- 0.0/203.7 kB ? eta -:--:--\n",
      "   ---------------------------------------- 203.7/203.7 kB 6.2 MB/s eta 0:00:00\n",
      "Downloading cfgv-3.4.0-py2.py3-none-any.whl (7.2 kB)\n",
      "Downloading identify-2.5.31-py2.py3-none-any.whl (98 kB)\n",
      "   ---------------------------------------- 0.0/98.9 kB ? eta -:--:--\n",
      "   ---------------------------------------- 98.9/98.9 kB 5.5 MB/s eta 0:00:00\n",
      "Downloading nodeenv-1.8.0-py2.py3-none-any.whl (22 kB)\n",
      "Downloading virtualenv-20.24.6-py3-none-any.whl (3.8 MB)\n",
      "   ---------------------------------------- 0.0/3.8 MB ? eta -:--:--\n",
      "   ------------------- -------------------- 1.8/3.8 MB 38.1 MB/s eta 0:00:01\n",
      "   ------------------------------ --------- 2.9/3.8 MB 30.8 MB/s eta 0:00:01\n",
      "   ---------------------------------------  3.8/3.8 MB 30.1 MB/s eta 0:00:01\n",
      "   ---------------------------------------- 3.8/3.8 MB 23.9 MB/s eta 0:00:00\n",
      "Downloading distlib-0.3.7-py2.py3-none-any.whl (468 kB)\n",
      "   ---------------------------------------- 0.0/468.9 kB ? eta -:--:--\n",
      "   --------------------------------------- 468.9/468.9 kB 28.7 MB/s eta 0:00:00\n",
      "Downloading filelock-3.13.1-py3-none-any.whl (11 kB)\n",
      "Building wheels for collected packages: factor_analyzer\n",
      "  Building wheel for factor_analyzer (pyproject.toml): started\n",
      "  Building wheel for factor_analyzer (pyproject.toml): finished with status 'done'\n",
      "  Created wheel for factor_analyzer: filename=factor_analyzer-0.5.0-py2.py3-none-any.whl size=42551 sha256=99027f60628806c726b570c102cc57dc29070cb9ab1d96b86109a5a8cffd0e73\n",
      "  Stored in directory: c:\\users\\harikrishnan.m\\appdata\\local\\pip\\cache\\wheels\\dc\\c3\\8b\\dac097e67e37feffab9ad50a7d36b9a7f7975014e3da088183\n",
      "Successfully built factor_analyzer\n",
      "Installing collected packages: distlib, nodeenv, identify, filelock, cfgv, virtualenv, pre-commit, factor_analyzer\n",
      "Successfully installed cfgv-3.4.0 distlib-0.3.7 factor_analyzer-0.5.0 filelock-3.13.1 identify-2.5.31 nodeenv-1.8.0 pre-commit-3.5.0 virtualenv-20.24.6\n"
     ]
    }
   ],
   "source": [
    "!(pip install factor_analyzer)"
   ]
  },
  {
   "cell_type": "code",
   "execution_count": 15,
   "id": "a3468b2c-471a-4cd1-a8a4-a5b1872b435e",
   "metadata": {},
   "outputs": [
    {
     "data": {
      "text/html": [
       "<div>\n",
       "<style scoped>\n",
       "    .dataframe tbody tr th:only-of-type {\n",
       "        vertical-align: middle;\n",
       "    }\n",
       "\n",
       "    .dataframe tbody tr th {\n",
       "        vertical-align: top;\n",
       "    }\n",
       "\n",
       "    .dataframe thead th {\n",
       "        text-align: right;\n",
       "    }\n",
       "</style>\n",
       "<table border=\"1\" class=\"dataframe\">\n",
       "  <thead>\n",
       "    <tr style=\"text-align: right;\">\n",
       "      <th></th>\n",
       "      <th>years_of_insurance_with_us</th>\n",
       "      <th>regular_checkup_lasy_year</th>\n",
       "      <th>adventure_sports</th>\n",
       "      <th>Occupation</th>\n",
       "      <th>visited_doctor_last_1_year</th>\n",
       "      <th>cholesterol_level</th>\n",
       "      <th>daily_avg_steps</th>\n",
       "      <th>age</th>\n",
       "      <th>heart_decs_history</th>\n",
       "      <th>other_major_decs_history</th>\n",
       "      <th>...</th>\n",
       "      <th>bmi</th>\n",
       "      <th>smoking_status</th>\n",
       "      <th>Location</th>\n",
       "      <th>weight</th>\n",
       "      <th>covered_by_any_other_company</th>\n",
       "      <th>Alcohol</th>\n",
       "      <th>exercise</th>\n",
       "      <th>weight_change_in_last_one_year</th>\n",
       "      <th>fat_percentage</th>\n",
       "      <th>insurance_cost</th>\n",
       "    </tr>\n",
       "  </thead>\n",
       "  <tbody>\n",
       "    <tr>\n",
       "      <th>0</th>\n",
       "      <td>3</td>\n",
       "      <td>1</td>\n",
       "      <td>1</td>\n",
       "      <td>1</td>\n",
       "      <td>2</td>\n",
       "      <td>0</td>\n",
       "      <td>4866</td>\n",
       "      <td>28</td>\n",
       "      <td>1</td>\n",
       "      <td>0</td>\n",
       "      <td>...</td>\n",
       "      <td>31.2</td>\n",
       "      <td>0</td>\n",
       "      <td>3</td>\n",
       "      <td>67</td>\n",
       "      <td>0</td>\n",
       "      <td>2</td>\n",
       "      <td>1</td>\n",
       "      <td>1</td>\n",
       "      <td>25</td>\n",
       "      <td>20978</td>\n",
       "    </tr>\n",
       "    <tr>\n",
       "      <th>1</th>\n",
       "      <td>0</td>\n",
       "      <td>0</td>\n",
       "      <td>0</td>\n",
       "      <td>2</td>\n",
       "      <td>4</td>\n",
       "      <td>1</td>\n",
       "      <td>6411</td>\n",
       "      <td>50</td>\n",
       "      <td>0</td>\n",
       "      <td>0</td>\n",
       "      <td>...</td>\n",
       "      <td>34.2</td>\n",
       "      <td>1</td>\n",
       "      <td>6</td>\n",
       "      <td>58</td>\n",
       "      <td>0</td>\n",
       "      <td>2</td>\n",
       "      <td>1</td>\n",
       "      <td>3</td>\n",
       "      <td>27</td>\n",
       "      <td>6170</td>\n",
       "    </tr>\n",
       "    <tr>\n",
       "      <th>2</th>\n",
       "      <td>1</td>\n",
       "      <td>0</td>\n",
       "      <td>0</td>\n",
       "      <td>0</td>\n",
       "      <td>4</td>\n",
       "      <td>3</td>\n",
       "      <td>4509</td>\n",
       "      <td>68</td>\n",
       "      <td>0</td>\n",
       "      <td>0</td>\n",
       "      <td>...</td>\n",
       "      <td>40.4</td>\n",
       "      <td>1</td>\n",
       "      <td>6</td>\n",
       "      <td>73</td>\n",
       "      <td>0</td>\n",
       "      <td>0</td>\n",
       "      <td>0</td>\n",
       "      <td>0</td>\n",
       "      <td>32</td>\n",
       "      <td>28382</td>\n",
       "    </tr>\n",
       "    <tr>\n",
       "      <th>3</th>\n",
       "      <td>7</td>\n",
       "      <td>4</td>\n",
       "      <td>0</td>\n",
       "      <td>0</td>\n",
       "      <td>2</td>\n",
       "      <td>2</td>\n",
       "      <td>6214</td>\n",
       "      <td>51</td>\n",
       "      <td>0</td>\n",
       "      <td>0</td>\n",
       "      <td>...</td>\n",
       "      <td>22.9</td>\n",
       "      <td>0</td>\n",
       "      <td>3</td>\n",
       "      <td>71</td>\n",
       "      <td>1</td>\n",
       "      <td>2</td>\n",
       "      <td>2</td>\n",
       "      <td>3</td>\n",
       "      <td>37</td>\n",
       "      <td>27148</td>\n",
       "    </tr>\n",
       "    <tr>\n",
       "      <th>4</th>\n",
       "      <td>3</td>\n",
       "      <td>1</td>\n",
       "      <td>0</td>\n",
       "      <td>2</td>\n",
       "      <td>2</td>\n",
       "      <td>1</td>\n",
       "      <td>4938</td>\n",
       "      <td>44</td>\n",
       "      <td>0</td>\n",
       "      <td>1</td>\n",
       "      <td>...</td>\n",
       "      <td>26.5</td>\n",
       "      <td>2</td>\n",
       "      <td>1</td>\n",
       "      <td>74</td>\n",
       "      <td>0</td>\n",
       "      <td>1</td>\n",
       "      <td>0</td>\n",
       "      <td>0</td>\n",
       "      <td>34</td>\n",
       "      <td>29616</td>\n",
       "    </tr>\n",
       "  </tbody>\n",
       "</table>\n",
       "<p>5 rows × 22 columns</p>\n",
       "</div>"
      ],
      "text/plain": [
       "   years_of_insurance_with_us  regular_checkup_lasy_year  adventure_sports  \\\n",
       "0                           3                          1                 1   \n",
       "1                           0                          0                 0   \n",
       "2                           1                          0                 0   \n",
       "3                           7                          4                 0   \n",
       "4                           3                          1                 0   \n",
       "\n",
       "   Occupation  visited_doctor_last_1_year  cholesterol_level  daily_avg_steps  \\\n",
       "0           1                           2                  0             4866   \n",
       "1           2                           4                  1             6411   \n",
       "2           0                           4                  3             4509   \n",
       "3           0                           2                  2             6214   \n",
       "4           2                           2                  1             4938   \n",
       "\n",
       "   age  heart_decs_history  other_major_decs_history  ...   bmi  \\\n",
       "0   28                   1                         0  ...  31.2   \n",
       "1   50                   0                         0  ...  34.2   \n",
       "2   68                   0                         0  ...  40.4   \n",
       "3   51                   0                         0  ...  22.9   \n",
       "4   44                   0                         1  ...  26.5   \n",
       "\n",
       "   smoking_status  Location  weight  covered_by_any_other_company  Alcohol  \\\n",
       "0               0         3      67                             0        2   \n",
       "1               1         6      58                             0        2   \n",
       "2               1         6      73                             0        0   \n",
       "3               0         3      71                             1        2   \n",
       "4               2         1      74                             0        1   \n",
       "\n",
       "   exercise  weight_change_in_last_one_year  fat_percentage  insurance_cost  \n",
       "0         1                               1              25           20978  \n",
       "1         1                               3              27            6170  \n",
       "2         0                               0              32           28382  \n",
       "3         2                               3              37           27148  \n",
       "4         0                               0              34           29616  \n",
       "\n",
       "[5 rows x 22 columns]"
      ]
     },
     "execution_count": 15,
     "metadata": {},
     "output_type": "execute_result"
    }
   ],
   "source": [
    "dfModified.head()"
   ]
  },
  {
   "cell_type": "code",
   "execution_count": 16,
   "id": "f6fb28ed-0c5a-4bfa-ad27-412e27869265",
   "metadata": {},
   "outputs": [],
   "source": [
    "for i in cat:\n",
    "    print(dfModified[i].value_counts())"
   ]
  },
  {
   "cell_type": "code",
   "execution_count": 17,
   "id": "b48b67d5-c40d-4ee0-b9c4-fc23e78ff83c",
   "metadata": {},
   "outputs": [],
   "source": [
    "for i in dfModified.columns:\n",
    "    if dfModified[i].dtype==\"object\":\n",
    "        cat.append(i)\n",
    "    else:\n",
    "        num.append(i)"
   ]
  },
  {
   "cell_type": "code",
   "execution_count": 18,
   "id": "75e2d9b8-08e8-4c7c-88de-35f463dd161c",
   "metadata": {},
   "outputs": [],
   "source": []
  },
  {
   "cell_type": "code",
   "execution_count": 19,
   "id": "cd8e6e5d-b905-4b60-85de-10b43f547ed4",
   "metadata": {},
   "outputs": [],
   "source": []
  },
  {
   "cell_type": "code",
   "execution_count": 20,
   "id": "742beba6-d6d8-4423-9367-fb3437274b33",
   "metadata": {},
   "outputs": [
    {
     "name": "stdout",
     "output_type": "stream",
     "text": [
      "<class 'pandas.core.frame.DataFrame'>\n",
      "Index: 24010 entries, 0 to 24999\n",
      "Data columns (total 22 columns):\n",
      " #   Column                          Non-Null Count  Dtype  \n",
      "---  ------                          --------------  -----  \n",
      " 0   years_of_insurance_with_us      24010 non-null  float64\n",
      " 1   regular_checkup_lasy_year       24010 non-null  float64\n",
      " 2   adventure_sports                24010 non-null  float64\n",
      " 3   Occupation                      24010 non-null  float64\n",
      " 4   visited_doctor_last_1_year      24010 non-null  float64\n",
      " 5   cholesterol_level               24010 non-null  float64\n",
      " 6   daily_avg_steps                 24010 non-null  float64\n",
      " 7   age                             24010 non-null  float64\n",
      " 8   heart_decs_history              24010 non-null  float64\n",
      " 9   other_major_decs_history        24010 non-null  float64\n",
      " 10  Gender                          24010 non-null  float64\n",
      " 11  avg_glucose_level               24010 non-null  float64\n",
      " 12  bmi                             24010 non-null  float64\n",
      " 13  smoking_status                  24010 non-null  float64\n",
      " 14  Location                        24010 non-null  float64\n",
      " 15  weight                          24010 non-null  float64\n",
      " 16  covered_by_any_other_company    24010 non-null  float64\n",
      " 17  Alcohol                         24010 non-null  float64\n",
      " 18  exercise                        24010 non-null  float64\n",
      " 19  weight_change_in_last_one_year  24010 non-null  float64\n",
      " 20  fat_percentage                  24010 non-null  float64\n",
      " 21  insurance_cost                  24010 non-null  float64\n",
      "dtypes: float64(22)\n",
      "memory usage: 4.2 MB\n"
     ]
    }
   ],
   "source": [
    "dfModified.info()"
   ]
  },
  {
   "cell_type": "code",
   "execution_count": 21,
   "id": "644bf8ae-80f0-4a65-8051-33c4fd394075",
   "metadata": {},
   "outputs": [],
   "source": [
    "df_X = dfModified.drop(['insurance_cost'], axis = 1)\n",
    "df_Y = dfModified['insurance_cost']"
   ]
  },
  {
   "cell_type": "code",
   "execution_count": 22,
   "id": "dc6307a1-3b99-46a7-8798-6c53da30212b",
   "metadata": {},
   "outputs": [],
   "source": [
    "X_train, X_test, y_train, y_test = train_test_split(df_X, df_Y, random_state=0)"
   ]
  },
  {
   "cell_type": "code",
   "execution_count": 23,
   "id": "13f1e174-353f-404c-9982-eaefa9ac12f6",
   "metadata": {},
   "outputs": [],
   "source": [
    "rfe_method = RFE(\n",
    "    RandomForestClassifier(n_estimators=10, random_state=10),\n",
    "    n_features_to_select=8,\n",
    "    step=2,\n",
    ")"
   ]
  },
  {
   "cell_type": "code",
   "execution_count": 24,
   "id": "6ef66133-97f9-408a-9c20-47d0c0a70450",
   "metadata": {},
   "outputs": [
    {
     "data": {
      "text/html": [
       "<style>#sk-container-id-1 {color: black;}#sk-container-id-1 pre{padding: 0;}#sk-container-id-1 div.sk-toggleable {background-color: white;}#sk-container-id-1 label.sk-toggleable__label {cursor: pointer;display: block;width: 100%;margin-bottom: 0;padding: 0.3em;box-sizing: border-box;text-align: center;}#sk-container-id-1 label.sk-toggleable__label-arrow:before {content: \"▸\";float: left;margin-right: 0.25em;color: #696969;}#sk-container-id-1 label.sk-toggleable__label-arrow:hover:before {color: black;}#sk-container-id-1 div.sk-estimator:hover label.sk-toggleable__label-arrow:before {color: black;}#sk-container-id-1 div.sk-toggleable__content {max-height: 0;max-width: 0;overflow: hidden;text-align: left;background-color: #f0f8ff;}#sk-container-id-1 div.sk-toggleable__content pre {margin: 0.2em;color: black;border-radius: 0.25em;background-color: #f0f8ff;}#sk-container-id-1 input.sk-toggleable__control:checked~div.sk-toggleable__content {max-height: 200px;max-width: 100%;overflow: auto;}#sk-container-id-1 input.sk-toggleable__control:checked~label.sk-toggleable__label-arrow:before {content: \"▾\";}#sk-container-id-1 div.sk-estimator input.sk-toggleable__control:checked~label.sk-toggleable__label {background-color: #d4ebff;}#sk-container-id-1 div.sk-label input.sk-toggleable__control:checked~label.sk-toggleable__label {background-color: #d4ebff;}#sk-container-id-1 input.sk-hidden--visually {border: 0;clip: rect(1px 1px 1px 1px);clip: rect(1px, 1px, 1px, 1px);height: 1px;margin: -1px;overflow: hidden;padding: 0;position: absolute;width: 1px;}#sk-container-id-1 div.sk-estimator {font-family: monospace;background-color: #f0f8ff;border: 1px dotted black;border-radius: 0.25em;box-sizing: border-box;margin-bottom: 0.5em;}#sk-container-id-1 div.sk-estimator:hover {background-color: #d4ebff;}#sk-container-id-1 div.sk-parallel-item::after {content: \"\";width: 100%;border-bottom: 1px solid gray;flex-grow: 1;}#sk-container-id-1 div.sk-label:hover label.sk-toggleable__label {background-color: #d4ebff;}#sk-container-id-1 div.sk-serial::before {content: \"\";position: absolute;border-left: 1px solid gray;box-sizing: border-box;top: 0;bottom: 0;left: 50%;z-index: 0;}#sk-container-id-1 div.sk-serial {display: flex;flex-direction: column;align-items: center;background-color: white;padding-right: 0.2em;padding-left: 0.2em;position: relative;}#sk-container-id-1 div.sk-item {position: relative;z-index: 1;}#sk-container-id-1 div.sk-parallel {display: flex;align-items: stretch;justify-content: center;background-color: white;position: relative;}#sk-container-id-1 div.sk-item::before, #sk-container-id-1 div.sk-parallel-item::before {content: \"\";position: absolute;border-left: 1px solid gray;box-sizing: border-box;top: 0;bottom: 0;left: 50%;z-index: -1;}#sk-container-id-1 div.sk-parallel-item {display: flex;flex-direction: column;z-index: 1;position: relative;background-color: white;}#sk-container-id-1 div.sk-parallel-item:first-child::after {align-self: flex-end;width: 50%;}#sk-container-id-1 div.sk-parallel-item:last-child::after {align-self: flex-start;width: 50%;}#sk-container-id-1 div.sk-parallel-item:only-child::after {width: 0;}#sk-container-id-1 div.sk-dashed-wrapped {border: 1px dashed gray;margin: 0 0.4em 0.5em 0.4em;box-sizing: border-box;padding-bottom: 0.4em;background-color: white;}#sk-container-id-1 div.sk-label label {font-family: monospace;font-weight: bold;display: inline-block;line-height: 1.2em;}#sk-container-id-1 div.sk-label-container {text-align: center;}#sk-container-id-1 div.sk-container {/* jupyter's `normalize.less` sets `[hidden] { display: none; }` but bootstrap.min.css set `[hidden] { display: none !important; }` so we also need the `!important` here to be able to override the default hidden behavior on the sphinx rendered scikit-learn.org. See: https://github.com/scikit-learn/scikit-learn/issues/21755 */display: inline-block !important;position: relative;}#sk-container-id-1 div.sk-text-repr-fallback {display: none;}</style><div id=\"sk-container-id-1\" class=\"sk-top-container\"><div class=\"sk-text-repr-fallback\"><pre>RFE(estimator=RandomForestClassifier(n_estimators=10, random_state=10),\n",
       "    n_features_to_select=8, step=2)</pre><b>In a Jupyter environment, please rerun this cell to show the HTML representation or trust the notebook. <br />On GitHub, the HTML representation is unable to render, please try loading this page with nbviewer.org.</b></div><div class=\"sk-container\" hidden><div class=\"sk-item sk-dashed-wrapped\"><div class=\"sk-label-container\"><div class=\"sk-label sk-toggleable\"><input class=\"sk-toggleable__control sk-hidden--visually\" id=\"sk-estimator-id-1\" type=\"checkbox\" ><label for=\"sk-estimator-id-1\" class=\"sk-toggleable__label sk-toggleable__label-arrow\">RFE</label><div class=\"sk-toggleable__content\"><pre>RFE(estimator=RandomForestClassifier(n_estimators=10, random_state=10),\n",
       "    n_features_to_select=8, step=2)</pre></div></div></div><div class=\"sk-parallel\"><div class=\"sk-parallel-item\"><div class=\"sk-item\"><div class=\"sk-label-container\"><div class=\"sk-label sk-toggleable\"><input class=\"sk-toggleable__control sk-hidden--visually\" id=\"sk-estimator-id-2\" type=\"checkbox\" ><label for=\"sk-estimator-id-2\" class=\"sk-toggleable__label sk-toggleable__label-arrow\">estimator: RandomForestClassifier</label><div class=\"sk-toggleable__content\"><pre>RandomForestClassifier(n_estimators=10, random_state=10)</pre></div></div></div><div class=\"sk-serial\"><div class=\"sk-item\"><div class=\"sk-estimator sk-toggleable\"><input class=\"sk-toggleable__control sk-hidden--visually\" id=\"sk-estimator-id-3\" type=\"checkbox\" ><label for=\"sk-estimator-id-3\" class=\"sk-toggleable__label sk-toggleable__label-arrow\">RandomForestClassifier</label><div class=\"sk-toggleable__content\"><pre>RandomForestClassifier(n_estimators=10, random_state=10)</pre></div></div></div></div></div></div></div></div></div></div>"
      ],
      "text/plain": [
       "RFE(estimator=RandomForestClassifier(n_estimators=10, random_state=10),\n",
       "    n_features_to_select=8, step=2)"
      ]
     },
     "execution_count": 24,
     "metadata": {},
     "output_type": "execute_result"
    }
   ],
   "source": [
    "rfe_method.fit(X_train, y_train)"
   ]
  },
  {
   "cell_type": "code",
   "execution_count": 25,
   "id": "1ea10ad9-d12f-4bac-b0ef-7e03e2b1f95d",
   "metadata": {},
   "outputs": [],
   "source": [
    "model = GradientBoostingRegressor(\n",
    "    n_estimators=10,\n",
    "    random_state=10,\n",
    ")"
   ]
  },
  {
   "cell_type": "code",
   "execution_count": 26,
   "id": "f8f1c57d-1af4-45ce-a384-f3299c035e60",
   "metadata": {},
   "outputs": [],
   "source": [
    "RFE_model = RecursiveFeatureElimination(\n",
    "    estimator = model, # the ML model\n",
    "    scoring = 'r2', \n",
    "    threshold = 0.001, \n",
    "    cv=2,\n",
    ")"
   ]
  },
  {
   "cell_type": "code",
   "execution_count": 27,
   "id": "2897919c-81cf-46f2-b6e1-45fb639b9870",
   "metadata": {},
   "outputs": [
    {
     "data": {
      "text/html": [
       "<style>#sk-container-id-2 {color: black;}#sk-container-id-2 pre{padding: 0;}#sk-container-id-2 div.sk-toggleable {background-color: white;}#sk-container-id-2 label.sk-toggleable__label {cursor: pointer;display: block;width: 100%;margin-bottom: 0;padding: 0.3em;box-sizing: border-box;text-align: center;}#sk-container-id-2 label.sk-toggleable__label-arrow:before {content: \"▸\";float: left;margin-right: 0.25em;color: #696969;}#sk-container-id-2 label.sk-toggleable__label-arrow:hover:before {color: black;}#sk-container-id-2 div.sk-estimator:hover label.sk-toggleable__label-arrow:before {color: black;}#sk-container-id-2 div.sk-toggleable__content {max-height: 0;max-width: 0;overflow: hidden;text-align: left;background-color: #f0f8ff;}#sk-container-id-2 div.sk-toggleable__content pre {margin: 0.2em;color: black;border-radius: 0.25em;background-color: #f0f8ff;}#sk-container-id-2 input.sk-toggleable__control:checked~div.sk-toggleable__content {max-height: 200px;max-width: 100%;overflow: auto;}#sk-container-id-2 input.sk-toggleable__control:checked~label.sk-toggleable__label-arrow:before {content: \"▾\";}#sk-container-id-2 div.sk-estimator input.sk-toggleable__control:checked~label.sk-toggleable__label {background-color: #d4ebff;}#sk-container-id-2 div.sk-label input.sk-toggleable__control:checked~label.sk-toggleable__label {background-color: #d4ebff;}#sk-container-id-2 input.sk-hidden--visually {border: 0;clip: rect(1px 1px 1px 1px);clip: rect(1px, 1px, 1px, 1px);height: 1px;margin: -1px;overflow: hidden;padding: 0;position: absolute;width: 1px;}#sk-container-id-2 div.sk-estimator {font-family: monospace;background-color: #f0f8ff;border: 1px dotted black;border-radius: 0.25em;box-sizing: border-box;margin-bottom: 0.5em;}#sk-container-id-2 div.sk-estimator:hover {background-color: #d4ebff;}#sk-container-id-2 div.sk-parallel-item::after {content: \"\";width: 100%;border-bottom: 1px solid gray;flex-grow: 1;}#sk-container-id-2 div.sk-label:hover label.sk-toggleable__label {background-color: #d4ebff;}#sk-container-id-2 div.sk-serial::before {content: \"\";position: absolute;border-left: 1px solid gray;box-sizing: border-box;top: 0;bottom: 0;left: 50%;z-index: 0;}#sk-container-id-2 div.sk-serial {display: flex;flex-direction: column;align-items: center;background-color: white;padding-right: 0.2em;padding-left: 0.2em;position: relative;}#sk-container-id-2 div.sk-item {position: relative;z-index: 1;}#sk-container-id-2 div.sk-parallel {display: flex;align-items: stretch;justify-content: center;background-color: white;position: relative;}#sk-container-id-2 div.sk-item::before, #sk-container-id-2 div.sk-parallel-item::before {content: \"\";position: absolute;border-left: 1px solid gray;box-sizing: border-box;top: 0;bottom: 0;left: 50%;z-index: -1;}#sk-container-id-2 div.sk-parallel-item {display: flex;flex-direction: column;z-index: 1;position: relative;background-color: white;}#sk-container-id-2 div.sk-parallel-item:first-child::after {align-self: flex-end;width: 50%;}#sk-container-id-2 div.sk-parallel-item:last-child::after {align-self: flex-start;width: 50%;}#sk-container-id-2 div.sk-parallel-item:only-child::after {width: 0;}#sk-container-id-2 div.sk-dashed-wrapped {border: 1px dashed gray;margin: 0 0.4em 0.5em 0.4em;box-sizing: border-box;padding-bottom: 0.4em;background-color: white;}#sk-container-id-2 div.sk-label label {font-family: monospace;font-weight: bold;display: inline-block;line-height: 1.2em;}#sk-container-id-2 div.sk-label-container {text-align: center;}#sk-container-id-2 div.sk-container {/* jupyter's `normalize.less` sets `[hidden] { display: none; }` but bootstrap.min.css set `[hidden] { display: none !important; }` so we also need the `!important` here to be able to override the default hidden behavior on the sphinx rendered scikit-learn.org. See: https://github.com/scikit-learn/scikit-learn/issues/21755 */display: inline-block !important;position: relative;}#sk-container-id-2 div.sk-text-repr-fallback {display: none;}</style><div id=\"sk-container-id-2\" class=\"sk-top-container\"><div class=\"sk-text-repr-fallback\"><pre>RecursiveFeatureElimination(cv=2,\n",
       "                            estimator=GradientBoostingRegressor(n_estimators=10,\n",
       "                                                                random_state=10),\n",
       "                            scoring=&#x27;r2&#x27;, threshold=0.001)</pre><b>In a Jupyter environment, please rerun this cell to show the HTML representation or trust the notebook. <br />On GitHub, the HTML representation is unable to render, please try loading this page with nbviewer.org.</b></div><div class=\"sk-container\" hidden><div class=\"sk-item sk-dashed-wrapped\"><div class=\"sk-label-container\"><div class=\"sk-label sk-toggleable\"><input class=\"sk-toggleable__control sk-hidden--visually\" id=\"sk-estimator-id-4\" type=\"checkbox\" ><label for=\"sk-estimator-id-4\" class=\"sk-toggleable__label sk-toggleable__label-arrow\">RecursiveFeatureElimination</label><div class=\"sk-toggleable__content\"><pre>RecursiveFeatureElimination(cv=2,\n",
       "                            estimator=GradientBoostingRegressor(n_estimators=10,\n",
       "                                                                random_state=10),\n",
       "                            scoring=&#x27;r2&#x27;, threshold=0.001)</pre></div></div></div><div class=\"sk-parallel\"><div class=\"sk-parallel-item\"><div class=\"sk-item\"><div class=\"sk-label-container\"><div class=\"sk-label sk-toggleable\"><input class=\"sk-toggleable__control sk-hidden--visually\" id=\"sk-estimator-id-5\" type=\"checkbox\" ><label for=\"sk-estimator-id-5\" class=\"sk-toggleable__label sk-toggleable__label-arrow\">estimator: GradientBoostingRegressor</label><div class=\"sk-toggleable__content\"><pre>GradientBoostingRegressor(n_estimators=10, random_state=10)</pre></div></div></div><div class=\"sk-serial\"><div class=\"sk-item\"><div class=\"sk-estimator sk-toggleable\"><input class=\"sk-toggleable__control sk-hidden--visually\" id=\"sk-estimator-id-6\" type=\"checkbox\" ><label for=\"sk-estimator-id-6\" class=\"sk-toggleable__label sk-toggleable__label-arrow\">GradientBoostingRegressor</label><div class=\"sk-toggleable__content\"><pre>GradientBoostingRegressor(n_estimators=10, random_state=10)</pre></div></div></div></div></div></div></div></div></div></div>"
      ],
      "text/plain": [
       "RecursiveFeatureElimination(cv=2,\n",
       "                            estimator=GradientBoostingRegressor(n_estimators=10,\n",
       "                                                                random_state=10),\n",
       "                            scoring='r2', threshold=0.001)"
      ]
     },
     "execution_count": 27,
     "metadata": {},
     "output_type": "execute_result"
    }
   ],
   "source": [
    "RFE_model.fit(X_train, y_train)"
   ]
  },
  {
   "cell_type": "code",
   "execution_count": 28,
   "id": "fb521f18-2907-4473-93bc-9dfe959ac15b",
   "metadata": {},
   "outputs": [
    {
     "data": {
      "text/plain": [
       "0.8298886512361315"
      ]
     },
     "execution_count": 28,
     "metadata": {},
     "output_type": "execute_result"
    }
   ],
   "source": [
    "RFE_model.initial_model_performance_"
   ]
  },
  {
   "cell_type": "code",
   "execution_count": 29,
   "id": "f52e3a05-72a3-4651-ba9f-e9bf400f5669",
   "metadata": {},
   "outputs": [
    {
     "data": {
      "image/png": "[encoded data removed]",
      "text/plain": [
       "<Figure size 1000x500 with 1 Axes>"
      ]
     },
     "metadata": {},
     "output_type": "display_data"
    }
   ],
   "source": [
    "RFE_model.feature_importances_.plot.bar(figsize=(10, 5))\n",
    "plt.ylabel('Feature importance')\n",
    "plt.title('Feature importance derived from the GBM')\n",
    "plt.show()"
   ]
  },
  {
   "cell_type": "code",
   "execution_count": 30,
   "id": "df33c9c5-9ac0-4689-a64d-6bed0bce2e39",
   "metadata": {},
   "outputs": [
    {
     "data": {
      "text/plain": [
       "years_of_insurance_with_us        0.0\n",
       "exercise                          0.0\n",
       "Alcohol                           0.0\n",
       "covered_by_any_other_company      0.0\n",
       "Location                          0.0\n",
       "smoking_status                    0.0\n",
       "bmi                               0.0\n",
       "avg_glucose_level                 0.0\n",
       "weight_change_in_last_one_year    0.0\n",
       "Gender                            0.0\n",
       "heart_decs_history                0.0\n",
       "age                               0.0\n",
       "daily_avg_steps                   0.0\n",
       "cholesterol_level                 0.0\n",
       "visited_doctor_last_1_year        0.0\n",
       "Occupation                        0.0\n",
       "adventure_sports                  0.0\n",
       "regular_checkup_lasy_year         0.0\n",
       "other_major_decs_history          0.0\n",
       "fat_percentage                    0.0\n",
       "weight                            1.0\n",
       "dtype: float64"
      ]
     },
     "execution_count": 30,
     "metadata": {},
     "output_type": "execute_result"
    }
   ],
   "source": [
    "RFE_model.feature_importances_"
   ]
  },
  {
   "cell_type": "code",
   "execution_count": 31,
   "id": "a23333bd-1f3e-441b-90b1-46a81cb4c23f",
   "metadata": {},
   "outputs": [],
   "source": [
    "# evaluate a give model using cross-validation\n",
    "def evaluate_model(model, df_X, df_Y):\n",
    " cv = RepeatedStratifiedKFold(n_splits=10, n_repeats=3, random_state=1)\n",
    " scores = cross_val_score(model, df_X, df_Y, scoring='accuracy', cv=cv, n_jobs=-1)\n",
    " return scores"
   ]
  },
  {
   "cell_type": "code",
   "execution_count": 32,
   "id": "c054a970-b886-4f8d-bb31-9e73301d53e0",
   "metadata": {},
   "outputs": [],
   "source": [
    "def get_models():\n",
    " models = dict()\n",
    " # lr\n",
    " rfe = RFE(estimator=LogisticRegression(), n_features_to_select=5)\n",
    " model = DecisionTreeClassifier()\n",
    " models['lr'] = Pipeline(steps=[('s',rfe),('m',model)])\n",
    " # perceptron\n",
    " rfe = RFE(estimator=Perceptron(), n_features_to_select=5)\n",
    " model = DecisionTreeClassifier()\n",
    " models['per'] = Pipeline(steps=[('s',rfe),('m',model)])\n",
    " # cart\n",
    " rfe = RFE(estimator=DecisionTreeClassifier(), n_features_to_select=5)\n",
    " model = DecisionTreeClassifier()\n",
    " models['cart'] = Pipeline(steps=[('s',rfe),('m',model)])\n",
    " # rf\n",
    " rfe = RFE(estimator=RandomForestClassifier(), n_features_to_select=5)\n",
    " model = DecisionTreeClassifier()\n",
    " models['rf'] = Pipeline(steps=[('s',rfe),('m',model)])\n",
    " # gbm\n",
    " rfe = RFE(estimator=GradientBoostingClassifier(), n_features_to_select=5)\n",
    " model = DecisionTreeClassifier()\n",
    " models['gbm'] = Pipeline(steps=[('s',rfe),('m',model)])\n",
    " return models"
   ]
  },
  {
   "cell_type": "code",
   "execution_count": 34,
   "id": "0ead80fc-c70c-4380-b3c3-80aaa82e1300",
   "metadata": {},
   "outputs": [
    {
     "ename": "KeyboardInterrupt",
     "evalue": "",
     "output_type": "error",
     "traceback": [
      "\u001b[1;31m---------------------------------------------------------------------------\u001b[0m",
      "\u001b[1;31mKeyboardInterrupt\u001b[0m                         Traceback (most recent call last)",
      "Cell \u001b[1;32mIn[34], line 6\u001b[0m\n\u001b[0;32m      4\u001b[0m results, names \u001b[38;5;241m=\u001b[39m \u001b[38;5;28mlist\u001b[39m(), \u001b[38;5;28mlist\u001b[39m()\n\u001b[0;32m      5\u001b[0m \u001b[38;5;28;01mfor\u001b[39;00m name, model \u001b[38;5;129;01min\u001b[39;00m models\u001b[38;5;241m.\u001b[39mitems():\n\u001b[1;32m----> 6\u001b[0m  scores \u001b[38;5;241m=\u001b[39m \u001b[43mevaluate_model\u001b[49m\u001b[43m(\u001b[49m\u001b[43mmodel\u001b[49m\u001b[43m,\u001b[49m\u001b[43m \u001b[49m\u001b[43mdf_X\u001b[49m\u001b[43m,\u001b[49m\u001b[43m \u001b[49m\u001b[43mdf_Y\u001b[49m\u001b[43m)\u001b[49m\n\u001b[0;32m      7\u001b[0m  results\u001b[38;5;241m.\u001b[39mappend(scores)\n\u001b[0;32m      8\u001b[0m  names\u001b[38;5;241m.\u001b[39mappend(name)\n",
      "Cell \u001b[1;32mIn[31], line 4\u001b[0m, in \u001b[0;36mevaluate_model\u001b[1;34m(model, df_X, df_Y)\u001b[0m\n\u001b[0;32m      2\u001b[0m \u001b[38;5;28;01mdef\u001b[39;00m \u001b[38;5;21mevaluate_model\u001b[39m(model, df_X, df_Y):\n\u001b[0;32m      3\u001b[0m  cv \u001b[38;5;241m=\u001b[39m RepeatedStratifiedKFold(n_splits\u001b[38;5;241m=\u001b[39m\u001b[38;5;241m10\u001b[39m, n_repeats\u001b[38;5;241m=\u001b[39m\u001b[38;5;241m3\u001b[39m, random_state\u001b[38;5;241m=\u001b[39m\u001b[38;5;241m1\u001b[39m)\n\u001b[1;32m----> 4\u001b[0m  scores \u001b[38;5;241m=\u001b[39m \u001b[43mcross_val_score\u001b[49m\u001b[43m(\u001b[49m\u001b[43mmodel\u001b[49m\u001b[43m,\u001b[49m\u001b[43m \u001b[49m\u001b[43mdf_X\u001b[49m\u001b[43m,\u001b[49m\u001b[43m \u001b[49m\u001b[43mdf_Y\u001b[49m\u001b[43m,\u001b[49m\u001b[43m \u001b[49m\u001b[43mscoring\u001b[49m\u001b[38;5;241;43m=\u001b[39;49m\u001b[38;5;124;43m'\u001b[39;49m\u001b[38;5;124;43maccuracy\u001b[39;49m\u001b[38;5;124;43m'\u001b[39;49m\u001b[43m,\u001b[49m\u001b[43m \u001b[49m\u001b[43mcv\u001b[49m\u001b[38;5;241;43m=\u001b[39;49m\u001b[43mcv\u001b[49m\u001b[43m,\u001b[49m\u001b[43m \u001b[49m\u001b[43mn_jobs\u001b[49m\u001b[38;5;241;43m=\u001b[39;49m\u001b[38;5;241;43m-\u001b[39;49m\u001b[38;5;241;43m1\u001b[39;49m\u001b[43m)\u001b[49m\n\u001b[0;32m      5\u001b[0m  \u001b[38;5;28;01mreturn\u001b[39;00m scores\n",
      "File \u001b[1;32m~\\AppData\\Local\\Programs\\Python\\Python311\\Lib\\site-packages\\sklearn\\model_selection\\_validation.py:562\u001b[0m, in \u001b[0;36mcross_val_score\u001b[1;34m(estimator, X, y, groups, scoring, cv, n_jobs, verbose, fit_params, pre_dispatch, error_score)\u001b[0m\n\u001b[0;32m    559\u001b[0m \u001b[38;5;66;03m# To ensure multimetric format is not supported\u001b[39;00m\n\u001b[0;32m    560\u001b[0m scorer \u001b[38;5;241m=\u001b[39m check_scoring(estimator, scoring\u001b[38;5;241m=\u001b[39mscoring)\n\u001b[1;32m--> 562\u001b[0m cv_results \u001b[38;5;241m=\u001b[39m \u001b[43mcross_validate\u001b[49m\u001b[43m(\u001b[49m\n\u001b[0;32m    563\u001b[0m \u001b[43m    \u001b[49m\u001b[43mestimator\u001b[49m\u001b[38;5;241;43m=\u001b[39;49m\u001b[43mestimator\u001b[49m\u001b[43m,\u001b[49m\n\u001b[0;32m    564\u001b[0m \u001b[43m    \u001b[49m\u001b[43mX\u001b[49m\u001b[38;5;241;43m=\u001b[39;49m\u001b[43mX\u001b[49m\u001b[43m,\u001b[49m\n\u001b[0;32m    565\u001b[0m \u001b[43m    \u001b[49m\u001b[43my\u001b[49m\u001b[38;5;241;43m=\u001b[39;49m\u001b[43my\u001b[49m\u001b[43m,\u001b[49m\n\u001b[0;32m    566\u001b[0m \u001b[43m    \u001b[49m\u001b[43mgroups\u001b[49m\u001b[38;5;241;43m=\u001b[39;49m\u001b[43mgroups\u001b[49m\u001b[43m,\u001b[49m\n\u001b[0;32m    567\u001b[0m \u001b[43m    \u001b[49m\u001b[43mscoring\u001b[49m\u001b[38;5;241;43m=\u001b[39;49m\u001b[43m{\u001b[49m\u001b[38;5;124;43m\"\u001b[39;49m\u001b[38;5;124;43mscore\u001b[39;49m\u001b[38;5;124;43m\"\u001b[39;49m\u001b[43m:\u001b[49m\u001b[43m \u001b[49m\u001b[43mscorer\u001b[49m\u001b[43m}\u001b[49m\u001b[43m,\u001b[49m\n\u001b[0;32m    568\u001b[0m \u001b[43m    \u001b[49m\u001b[43mcv\u001b[49m\u001b[38;5;241;43m=\u001b[39;49m\u001b[43mcv\u001b[49m\u001b[43m,\u001b[49m\n\u001b[0;32m    569\u001b[0m \u001b[43m    \u001b[49m\u001b[43mn_jobs\u001b[49m\u001b[38;5;241;43m=\u001b[39;49m\u001b[43mn_jobs\u001b[49m\u001b[43m,\u001b[49m\n\u001b[0;32m    570\u001b[0m \u001b[43m    \u001b[49m\u001b[43mverbose\u001b[49m\u001b[38;5;241;43m=\u001b[39;49m\u001b[43mverbose\u001b[49m\u001b[43m,\u001b[49m\n\u001b[0;32m    571\u001b[0m \u001b[43m    \u001b[49m\u001b[43mfit_params\u001b[49m\u001b[38;5;241;43m=\u001b[39;49m\u001b[43mfit_params\u001b[49m\u001b[43m,\u001b[49m\n\u001b[0;32m    572\u001b[0m \u001b[43m    \u001b[49m\u001b[43mpre_dispatch\u001b[49m\u001b[38;5;241;43m=\u001b[39;49m\u001b[43mpre_dispatch\u001b[49m\u001b[43m,\u001b[49m\n\u001b[0;32m    573\u001b[0m \u001b[43m    \u001b[49m\u001b[43merror_score\u001b[49m\u001b[38;5;241;43m=\u001b[39;49m\u001b[43merror_score\u001b[49m\u001b[43m,\u001b[49m\n\u001b[0;32m    574\u001b[0m \u001b[43m\u001b[49m\u001b[43m)\u001b[49m\n\u001b[0;32m    575\u001b[0m \u001b[38;5;28;01mreturn\u001b[39;00m cv_results[\u001b[38;5;124m\"\u001b[39m\u001b[38;5;124mtest_score\u001b[39m\u001b[38;5;124m\"\u001b[39m]\n",
      "File \u001b[1;32m~\\AppData\\Local\\Programs\\Python\\Python311\\Lib\\site-packages\\sklearn\\utils\\_param_validation.py:214\u001b[0m, in \u001b[0;36mvalidate_params.<locals>.decorator.<locals>.wrapper\u001b[1;34m(*args, **kwargs)\u001b[0m\n\u001b[0;32m    208\u001b[0m \u001b[38;5;28;01mtry\u001b[39;00m:\n\u001b[0;32m    209\u001b[0m     \u001b[38;5;28;01mwith\u001b[39;00m config_context(\n\u001b[0;32m    210\u001b[0m         skip_parameter_validation\u001b[38;5;241m=\u001b[39m(\n\u001b[0;32m    211\u001b[0m             prefer_skip_nested_validation \u001b[38;5;129;01mor\u001b[39;00m global_skip_validation\n\u001b[0;32m    212\u001b[0m         )\n\u001b[0;32m    213\u001b[0m     ):\n\u001b[1;32m--> 214\u001b[0m         \u001b[38;5;28;01mreturn\u001b[39;00m \u001b[43mfunc\u001b[49m\u001b[43m(\u001b[49m\u001b[38;5;241;43m*\u001b[39;49m\u001b[43margs\u001b[49m\u001b[43m,\u001b[49m\u001b[43m \u001b[49m\u001b[38;5;241;43m*\u001b[39;49m\u001b[38;5;241;43m*\u001b[39;49m\u001b[43mkwargs\u001b[49m\u001b[43m)\u001b[49m\n\u001b[0;32m    215\u001b[0m \u001b[38;5;28;01mexcept\u001b[39;00m InvalidParameterError \u001b[38;5;28;01mas\u001b[39;00m e:\n\u001b[0;32m    216\u001b[0m     \u001b[38;5;66;03m# When the function is just a wrapper around an estimator, we allow\u001b[39;00m\n\u001b[0;32m    217\u001b[0m     \u001b[38;5;66;03m# the function to delegate validation to the estimator, but we replace\u001b[39;00m\n\u001b[0;32m    218\u001b[0m     \u001b[38;5;66;03m# the name of the estimator by the name of the function in the error\u001b[39;00m\n\u001b[0;32m    219\u001b[0m     \u001b[38;5;66;03m# message to avoid confusion.\u001b[39;00m\n\u001b[0;32m    220\u001b[0m     msg \u001b[38;5;241m=\u001b[39m re\u001b[38;5;241m.\u001b[39msub(\n\u001b[0;32m    221\u001b[0m         \u001b[38;5;124mr\u001b[39m\u001b[38;5;124m\"\u001b[39m\u001b[38;5;124mparameter of \u001b[39m\u001b[38;5;124m\\\u001b[39m\u001b[38;5;124mw+ must be\u001b[39m\u001b[38;5;124m\"\u001b[39m,\n\u001b[0;32m    222\u001b[0m         \u001b[38;5;124mf\u001b[39m\u001b[38;5;124m\"\u001b[39m\u001b[38;5;124mparameter of \u001b[39m\u001b[38;5;132;01m{\u001b[39;00mfunc\u001b[38;5;241m.\u001b[39m\u001b[38;5;18m__qualname__\u001b[39m\u001b[38;5;132;01m}\u001b[39;00m\u001b[38;5;124m must be\u001b[39m\u001b[38;5;124m\"\u001b[39m,\n\u001b[0;32m    223\u001b[0m         \u001b[38;5;28mstr\u001b[39m(e),\n\u001b[0;32m    224\u001b[0m     )\n",
      "File \u001b[1;32m~\\AppData\\Local\\Programs\\Python\\Python311\\Lib\\site-packages\\sklearn\\model_selection\\_validation.py:309\u001b[0m, in \u001b[0;36mcross_validate\u001b[1;34m(estimator, X, y, groups, scoring, cv, n_jobs, verbose, fit_params, pre_dispatch, return_train_score, return_estimator, return_indices, error_score)\u001b[0m\n\u001b[0;32m    306\u001b[0m \u001b[38;5;66;03m# We clone the estimator to make sure that all the folds are\u001b[39;00m\n\u001b[0;32m    307\u001b[0m \u001b[38;5;66;03m# independent, and that it is pickle-able.\u001b[39;00m\n\u001b[0;32m    308\u001b[0m parallel \u001b[38;5;241m=\u001b[39m Parallel(n_jobs\u001b[38;5;241m=\u001b[39mn_jobs, verbose\u001b[38;5;241m=\u001b[39mverbose, pre_dispatch\u001b[38;5;241m=\u001b[39mpre_dispatch)\n\u001b[1;32m--> 309\u001b[0m results \u001b[38;5;241m=\u001b[39m \u001b[43mparallel\u001b[49m\u001b[43m(\u001b[49m\n\u001b[0;32m    310\u001b[0m \u001b[43m    \u001b[49m\u001b[43mdelayed\u001b[49m\u001b[43m(\u001b[49m\u001b[43m_fit_and_score\u001b[49m\u001b[43m)\u001b[49m\u001b[43m(\u001b[49m\n\u001b[0;32m    311\u001b[0m \u001b[43m        \u001b[49m\u001b[43mclone\u001b[49m\u001b[43m(\u001b[49m\u001b[43mestimator\u001b[49m\u001b[43m)\u001b[49m\u001b[43m,\u001b[49m\n\u001b[0;32m    312\u001b[0m \u001b[43m        \u001b[49m\u001b[43mX\u001b[49m\u001b[43m,\u001b[49m\n\u001b[0;32m    313\u001b[0m \u001b[43m        \u001b[49m\u001b[43my\u001b[49m\u001b[43m,\u001b[49m\n\u001b[0;32m    314\u001b[0m \u001b[43m        \u001b[49m\u001b[43mscorers\u001b[49m\u001b[43m,\u001b[49m\n\u001b[0;32m    315\u001b[0m \u001b[43m        \u001b[49m\u001b[43mtrain\u001b[49m\u001b[43m,\u001b[49m\n\u001b[0;32m    316\u001b[0m \u001b[43m        \u001b[49m\u001b[43mtest\u001b[49m\u001b[43m,\u001b[49m\n\u001b[0;32m    317\u001b[0m \u001b[43m        \u001b[49m\u001b[43mverbose\u001b[49m\u001b[43m,\u001b[49m\n\u001b[0;32m    318\u001b[0m \u001b[43m        \u001b[49m\u001b[38;5;28;43;01mNone\u001b[39;49;00m\u001b[43m,\u001b[49m\n\u001b[0;32m    319\u001b[0m \u001b[43m        \u001b[49m\u001b[43mfit_params\u001b[49m\u001b[43m,\u001b[49m\n\u001b[0;32m    320\u001b[0m \u001b[43m        \u001b[49m\u001b[43mreturn_train_score\u001b[49m\u001b[38;5;241;43m=\u001b[39;49m\u001b[43mreturn_train_score\u001b[49m\u001b[43m,\u001b[49m\n\u001b[0;32m    321\u001b[0m \u001b[43m        \u001b[49m\u001b[43mreturn_times\u001b[49m\u001b[38;5;241;43m=\u001b[39;49m\u001b[38;5;28;43;01mTrue\u001b[39;49;00m\u001b[43m,\u001b[49m\n\u001b[0;32m    322\u001b[0m \u001b[43m        \u001b[49m\u001b[43mreturn_estimator\u001b[49m\u001b[38;5;241;43m=\u001b[39;49m\u001b[43mreturn_estimator\u001b[49m\u001b[43m,\u001b[49m\n\u001b[0;32m    323\u001b[0m \u001b[43m        \u001b[49m\u001b[43merror_score\u001b[49m\u001b[38;5;241;43m=\u001b[39;49m\u001b[43merror_score\u001b[49m\u001b[43m,\u001b[49m\n\u001b[0;32m    324\u001b[0m \u001b[43m    \u001b[49m\u001b[43m)\u001b[49m\n\u001b[0;32m    325\u001b[0m \u001b[43m    \u001b[49m\u001b[38;5;28;43;01mfor\u001b[39;49;00m\u001b[43m \u001b[49m\u001b[43mtrain\u001b[49m\u001b[43m,\u001b[49m\u001b[43m \u001b[49m\u001b[43mtest\u001b[49m\u001b[43m \u001b[49m\u001b[38;5;129;43;01min\u001b[39;49;00m\u001b[43m \u001b[49m\u001b[43mindices\u001b[49m\n\u001b[0;32m    326\u001b[0m \u001b[43m\u001b[49m\u001b[43m)\u001b[49m\n\u001b[0;32m    328\u001b[0m _warn_or_raise_about_fit_failures(results, error_score)\n\u001b[0;32m    330\u001b[0m \u001b[38;5;66;03m# For callable scoring, the return type is only know after calling. If the\u001b[39;00m\n\u001b[0;32m    331\u001b[0m \u001b[38;5;66;03m# return type is a dictionary, the error scores can now be inserted with\u001b[39;00m\n\u001b[0;32m    332\u001b[0m \u001b[38;5;66;03m# the correct key.\u001b[39;00m\n",
      "File \u001b[1;32m~\\AppData\\Local\\Programs\\Python\\Python311\\Lib\\site-packages\\sklearn\\utils\\parallel.py:65\u001b[0m, in \u001b[0;36mParallel.__call__\u001b[1;34m(self, iterable)\u001b[0m\n\u001b[0;32m     60\u001b[0m config \u001b[38;5;241m=\u001b[39m get_config()\n\u001b[0;32m     61\u001b[0m iterable_with_config \u001b[38;5;241m=\u001b[39m (\n\u001b[0;32m     62\u001b[0m     (_with_config(delayed_func, config), args, kwargs)\n\u001b[0;32m     63\u001b[0m     \u001b[38;5;28;01mfor\u001b[39;00m delayed_func, args, kwargs \u001b[38;5;129;01min\u001b[39;00m iterable\n\u001b[0;32m     64\u001b[0m )\n\u001b[1;32m---> 65\u001b[0m \u001b[38;5;28;01mreturn\u001b[39;00m \u001b[38;5;28;43msuper\u001b[39;49m\u001b[43m(\u001b[49m\u001b[43m)\u001b[49m\u001b[38;5;241;43m.\u001b[39;49m\u001b[38;5;21;43m__call__\u001b[39;49m\u001b[43m(\u001b[49m\u001b[43miterable_with_config\u001b[49m\u001b[43m)\u001b[49m\n",
      "File \u001b[1;32m~\\AppData\\Local\\Programs\\Python\\Python311\\Lib\\site-packages\\joblib\\parallel.py:1952\u001b[0m, in \u001b[0;36mParallel.__call__\u001b[1;34m(self, iterable)\u001b[0m\n\u001b[0;32m   1946\u001b[0m \u001b[38;5;66;03m# The first item from the output is blank, but it makes the interpreter\u001b[39;00m\n\u001b[0;32m   1947\u001b[0m \u001b[38;5;66;03m# progress until it enters the Try/Except block of the generator and\u001b[39;00m\n\u001b[0;32m   1948\u001b[0m \u001b[38;5;66;03m# reach the first `yield` statement. This starts the aynchronous\u001b[39;00m\n\u001b[0;32m   1949\u001b[0m \u001b[38;5;66;03m# dispatch of the tasks to the workers.\u001b[39;00m\n\u001b[0;32m   1950\u001b[0m \u001b[38;5;28mnext\u001b[39m(output)\n\u001b[1;32m-> 1952\u001b[0m \u001b[38;5;28;01mreturn\u001b[39;00m output \u001b[38;5;28;01mif\u001b[39;00m \u001b[38;5;28mself\u001b[39m\u001b[38;5;241m.\u001b[39mreturn_generator \u001b[38;5;28;01melse\u001b[39;00m \u001b[38;5;28mlist\u001b[39m(output)\n",
      "File \u001b[1;32m~\\AppData\\Local\\Programs\\Python\\Python311\\Lib\\site-packages\\joblib\\parallel.py:1595\u001b[0m, in \u001b[0;36mParallel._get_outputs\u001b[1;34m(self, iterator, pre_dispatch)\u001b[0m\n\u001b[0;32m   1592\u001b[0m     \u001b[38;5;28;01myield\u001b[39;00m\n\u001b[0;32m   1594\u001b[0m     \u001b[38;5;28;01mwith\u001b[39;00m \u001b[38;5;28mself\u001b[39m\u001b[38;5;241m.\u001b[39m_backend\u001b[38;5;241m.\u001b[39mretrieval_context():\n\u001b[1;32m-> 1595\u001b[0m         \u001b[38;5;28;01myield from\u001b[39;00m \u001b[38;5;28mself\u001b[39m\u001b[38;5;241m.\u001b[39m_retrieve()\n\u001b[0;32m   1597\u001b[0m \u001b[38;5;28;01mexcept\u001b[39;00m \u001b[38;5;167;01mGeneratorExit\u001b[39;00m:\n\u001b[0;32m   1598\u001b[0m     \u001b[38;5;66;03m# The generator has been garbage collected before being fully\u001b[39;00m\n\u001b[0;32m   1599\u001b[0m     \u001b[38;5;66;03m# consumed. This aborts the remaining tasks if possible and warn\u001b[39;00m\n\u001b[0;32m   1600\u001b[0m     \u001b[38;5;66;03m# the user if necessary.\u001b[39;00m\n\u001b[0;32m   1601\u001b[0m     \u001b[38;5;28mself\u001b[39m\u001b[38;5;241m.\u001b[39m_exception \u001b[38;5;241m=\u001b[39m \u001b[38;5;28;01mTrue\u001b[39;00m\n",
      "File \u001b[1;32m~\\AppData\\Local\\Programs\\Python\\Python311\\Lib\\site-packages\\joblib\\parallel.py:1707\u001b[0m, in \u001b[0;36mParallel._retrieve\u001b[1;34m(self)\u001b[0m\n\u001b[0;32m   1702\u001b[0m \u001b[38;5;66;03m# If the next job is not ready for retrieval yet, we just wait for\u001b[39;00m\n\u001b[0;32m   1703\u001b[0m \u001b[38;5;66;03m# async callbacks to progress.\u001b[39;00m\n\u001b[0;32m   1704\u001b[0m \u001b[38;5;28;01mif\u001b[39;00m ((\u001b[38;5;28mlen\u001b[39m(\u001b[38;5;28mself\u001b[39m\u001b[38;5;241m.\u001b[39m_jobs) \u001b[38;5;241m==\u001b[39m \u001b[38;5;241m0\u001b[39m) \u001b[38;5;129;01mor\u001b[39;00m\n\u001b[0;32m   1705\u001b[0m     (\u001b[38;5;28mself\u001b[39m\u001b[38;5;241m.\u001b[39m_jobs[\u001b[38;5;241m0\u001b[39m]\u001b[38;5;241m.\u001b[39mget_status(\n\u001b[0;32m   1706\u001b[0m         timeout\u001b[38;5;241m=\u001b[39m\u001b[38;5;28mself\u001b[39m\u001b[38;5;241m.\u001b[39mtimeout) \u001b[38;5;241m==\u001b[39m TASK_PENDING)):\n\u001b[1;32m-> 1707\u001b[0m     time\u001b[38;5;241m.\u001b[39msleep(\u001b[38;5;241m0.01\u001b[39m)\n\u001b[0;32m   1708\u001b[0m     \u001b[38;5;28;01mcontinue\u001b[39;00m\n\u001b[0;32m   1710\u001b[0m \u001b[38;5;66;03m# We need to be careful: the job list can be filling up as\u001b[39;00m\n\u001b[0;32m   1711\u001b[0m \u001b[38;5;66;03m# we empty it and Python list are not thread-safe by\u001b[39;00m\n\u001b[0;32m   1712\u001b[0m \u001b[38;5;66;03m# default hence the use of the lock\u001b[39;00m\n",
      "\u001b[1;31mKeyboardInterrupt\u001b[0m: "
     ]
    }
   ],
   "source": [
    "# get the models to evaluate\n",
    "models = get_models()\n",
    "# evaluate the models and store results\n",
    "results, names = list(), list()\n",
    "for name, model in models.items():\n",
    " scores = evaluate_model(model, df_X, df_Y)\n",
    " results.append(scores)\n",
    " names.append(name)\n",
    " print('>%s %.3f (%.3f)' % (name, mean(scores), std(scores)))\n",
    "# plot model performance for comparison\n",
    "pyplot.boxplot(results, labels=names, showmeans=True)\n",
    "pyplot.show()"
   ]
  },
  {
   "cell_type": "code",
   "execution_count": 36,
   "id": "83a7f681-025a-4db7-8b3b-f4995f21bd12",
   "metadata": {},
   "outputs": [],
   "source": [
    "from sklearn.datasets import make_regression\n",
    "from sklearn.model_selection import cross_val_score\n",
    "from sklearn.model_selection import RepeatedKFold\n",
    "from sklearn.feature_selection import RFE\n",
    "from sklearn.tree import DecisionTreeRegressor\n",
    "from sklearn.pipeline import Pipeline"
   ]
  },
  {
   "cell_type": "code",
   "execution_count": 37,
   "id": "8194d737-6fcf-4e46-b2c1-0efea5298321",
   "metadata": {},
   "outputs": [],
   "source": [
    "rfe = RFE(estimator=DecisionTreeRegressor(), n_features_to_select=5)"
   ]
  },
  {
   "cell_type": "code",
   "execution_count": 38,
   "id": "2512489d-c553-44b8-9975-4cd684e04c0b",
   "metadata": {},
   "outputs": [],
   "source": [
    "model = DecisionTreeRegressor()\n",
    "pipeline = Pipeline(steps=[('s',rfe),('m',model)])"
   ]
  },
  {
   "cell_type": "code",
   "execution_count": 39,
   "id": "db113041-2fa0-4044-9069-fcc531ccf440",
   "metadata": {},
   "outputs": [],
   "source": [
    "\n",
    "# explore the number of selected features for RFE\n",
    "from numpy import mean\n",
    "from numpy import std"
   ]
  },
  {
   "cell_type": "code",
   "execution_count": 40,
   "id": "a4c0109c-a707-4067-b31a-f572006fd9fe",
   "metadata": {},
   "outputs": [
    {
     "name": "stdout",
     "output_type": "stream",
     "text": [
      "Accuracy: -3576.835 (43.772)\n"
     ]
    }
   ],
   "source": [
    "cv = RepeatedKFold(n_splits=10, n_repeats=3, random_state=1)\n",
    "n_scores = cross_val_score(pipeline, df_X, df_Y, scoring='neg_mean_absolute_error', cv=cv, n_jobs=-1, error_score='raise')\n",
    "# report performance\n",
    "print('Accuracy: %.3f (%.3f)' % (mean(n_scores), std(n_scores)))"
   ]
  },
  {
   "cell_type": "code",
   "execution_count": 41,
   "id": "be61978e-35cb-4a36-9e41-2c3e648af4b3",
   "metadata": {},
   "outputs": [
    {
     "data": {
      "text/html": [
       "<style>#sk-container-id-3 {color: black;}#sk-container-id-3 pre{padding: 0;}#sk-container-id-3 div.sk-toggleable {background-color: white;}#sk-container-id-3 label.sk-toggleable__label {cursor: pointer;display: block;width: 100%;margin-bottom: 0;padding: 0.3em;box-sizing: border-box;text-align: center;}#sk-container-id-3 label.sk-toggleable__label-arrow:before {content: \"▸\";float: left;margin-right: 0.25em;color: #696969;}#sk-container-id-3 label.sk-toggleable__label-arrow:hover:before {color: black;}#sk-container-id-3 div.sk-estimator:hover label.sk-toggleable__label-arrow:before {color: black;}#sk-container-id-3 div.sk-toggleable__content {max-height: 0;max-width: 0;overflow: hidden;text-align: left;background-color: #f0f8ff;}#sk-container-id-3 div.sk-toggleable__content pre {margin: 0.2em;color: black;border-radius: 0.25em;background-color: #f0f8ff;}#sk-container-id-3 input.sk-toggleable__control:checked~div.sk-toggleable__content {max-height: 200px;max-width: 100%;overflow: auto;}#sk-container-id-3 input.sk-toggleable__control:checked~label.sk-toggleable__label-arrow:before {content: \"▾\";}#sk-container-id-3 div.sk-estimator input.sk-toggleable__control:checked~label.sk-toggleable__label {background-color: #d4ebff;}#sk-container-id-3 div.sk-label input.sk-toggleable__control:checked~label.sk-toggleable__label {background-color: #d4ebff;}#sk-container-id-3 input.sk-hidden--visually {border: 0;clip: rect(1px 1px 1px 1px);clip: rect(1px, 1px, 1px, 1px);height: 1px;margin: -1px;overflow: hidden;padding: 0;position: absolute;width: 1px;}#sk-container-id-3 div.sk-estimator {font-family: monospace;background-color: #f0f8ff;border: 1px dotted black;border-radius: 0.25em;box-sizing: border-box;margin-bottom: 0.5em;}#sk-container-id-3 div.sk-estimator:hover {background-color: #d4ebff;}#sk-container-id-3 div.sk-parallel-item::after {content: \"\";width: 100%;border-bottom: 1px solid gray;flex-grow: 1;}#sk-container-id-3 div.sk-label:hover label.sk-toggleable__label {background-color: #d4ebff;}#sk-container-id-3 div.sk-serial::before {content: \"\";position: absolute;border-left: 1px solid gray;box-sizing: border-box;top: 0;bottom: 0;left: 50%;z-index: 0;}#sk-container-id-3 div.sk-serial {display: flex;flex-direction: column;align-items: center;background-color: white;padding-right: 0.2em;padding-left: 0.2em;position: relative;}#sk-container-id-3 div.sk-item {position: relative;z-index: 1;}#sk-container-id-3 div.sk-parallel {display: flex;align-items: stretch;justify-content: center;background-color: white;position: relative;}#sk-container-id-3 div.sk-item::before, #sk-container-id-3 div.sk-parallel-item::before {content: \"\";position: absolute;border-left: 1px solid gray;box-sizing: border-box;top: 0;bottom: 0;left: 50%;z-index: -1;}#sk-container-id-3 div.sk-parallel-item {display: flex;flex-direction: column;z-index: 1;position: relative;background-color: white;}#sk-container-id-3 div.sk-parallel-item:first-child::after {align-self: flex-end;width: 50%;}#sk-container-id-3 div.sk-parallel-item:last-child::after {align-self: flex-start;width: 50%;}#sk-container-id-3 div.sk-parallel-item:only-child::after {width: 0;}#sk-container-id-3 div.sk-dashed-wrapped {border: 1px dashed gray;margin: 0 0.4em 0.5em 0.4em;box-sizing: border-box;padding-bottom: 0.4em;background-color: white;}#sk-container-id-3 div.sk-label label {font-family: monospace;font-weight: bold;display: inline-block;line-height: 1.2em;}#sk-container-id-3 div.sk-label-container {text-align: center;}#sk-container-id-3 div.sk-container {/* jupyter's `normalize.less` sets `[hidden] { display: none; }` but bootstrap.min.css set `[hidden] { display: none !important; }` so we also need the `!important` here to be able to override the default hidden behavior on the sphinx rendered scikit-learn.org. See: https://github.com/scikit-learn/scikit-learn/issues/21755 */display: inline-block !important;position: relative;}#sk-container-id-3 div.sk-text-repr-fallback {display: none;}</style><div id=\"sk-container-id-3\" class=\"sk-top-container\"><div class=\"sk-text-repr-fallback\"><pre>Pipeline(steps=[(&#x27;s&#x27;,\n",
       "                 RFE(estimator=DecisionTreeRegressor(),\n",
       "                     n_features_to_select=5)),\n",
       "                (&#x27;m&#x27;, DecisionTreeRegressor())])</pre><b>In a Jupyter environment, please rerun this cell to show the HTML representation or trust the notebook. <br />On GitHub, the HTML representation is unable to render, please try loading this page with nbviewer.org.</b></div><div class=\"sk-container\" hidden><div class=\"sk-item sk-dashed-wrapped\"><div class=\"sk-label-container\"><div class=\"sk-label sk-toggleable\"><input class=\"sk-toggleable__control sk-hidden--visually\" id=\"sk-estimator-id-7\" type=\"checkbox\" ><label for=\"sk-estimator-id-7\" class=\"sk-toggleable__label sk-toggleable__label-arrow\">Pipeline</label><div class=\"sk-toggleable__content\"><pre>Pipeline(steps=[(&#x27;s&#x27;,\n",
       "                 RFE(estimator=DecisionTreeRegressor(),\n",
       "                     n_features_to_select=5)),\n",
       "                (&#x27;m&#x27;, DecisionTreeRegressor())])</pre></div></div></div><div class=\"sk-serial\"><div class=\"sk-item sk-dashed-wrapped\"><div class=\"sk-label-container\"><div class=\"sk-label sk-toggleable\"><input class=\"sk-toggleable__control sk-hidden--visually\" id=\"sk-estimator-id-8\" type=\"checkbox\" ><label for=\"sk-estimator-id-8\" class=\"sk-toggleable__label sk-toggleable__label-arrow\">s: RFE</label><div class=\"sk-toggleable__content\"><pre>RFE(estimator=DecisionTreeRegressor(), n_features_to_select=5)</pre></div></div></div><div class=\"sk-parallel\"><div class=\"sk-parallel-item\"><div class=\"sk-item\"><div class=\"sk-label-container\"><div class=\"sk-label sk-toggleable\"><input class=\"sk-toggleable__control sk-hidden--visually\" id=\"sk-estimator-id-9\" type=\"checkbox\" ><label for=\"sk-estimator-id-9\" class=\"sk-toggleable__label sk-toggleable__label-arrow\">estimator: DecisionTreeRegressor</label><div class=\"sk-toggleable__content\"><pre>DecisionTreeRegressor()</pre></div></div></div><div class=\"sk-serial\"><div class=\"sk-item\"><div class=\"sk-estimator sk-toggleable\"><input class=\"sk-toggleable__control sk-hidden--visually\" id=\"sk-estimator-id-10\" type=\"checkbox\" ><label for=\"sk-estimator-id-10\" class=\"sk-toggleable__label sk-toggleable__label-arrow\">DecisionTreeRegressor</label><div class=\"sk-toggleable__content\"><pre>DecisionTreeRegressor()</pre></div></div></div></div></div></div></div></div><div class=\"sk-item\"><div class=\"sk-estimator sk-toggleable\"><input class=\"sk-toggleable__control sk-hidden--visually\" id=\"sk-estimator-id-11\" type=\"checkbox\" ><label for=\"sk-estimator-id-11\" class=\"sk-toggleable__label sk-toggleable__label-arrow\">DecisionTreeRegressor</label><div class=\"sk-toggleable__content\"><pre>DecisionTreeRegressor()</pre></div></div></div></div></div></div></div>"
      ],
      "text/plain": [
       "Pipeline(steps=[('s',\n",
       "                 RFE(estimator=DecisionTreeRegressor(),\n",
       "                     n_features_to_select=5)),\n",
       "                ('m', DecisionTreeRegressor())])"
      ]
     },
     "execution_count": 41,
     "metadata": {},
     "output_type": "execute_result"
    }
   ],
   "source": [
    "pipeline.fit(df_X, df_Y)"
   ]
  },
  {
   "cell_type": "code",
   "execution_count": 42,
   "id": "722408ed-91b0-4e4b-a55c-6d719783995c",
   "metadata": {},
   "outputs": [
    {
     "data": {
      "text/plain": [
       "array(['years_of_insurance_with_us', 'regular_checkup_lasy_year',\n",
       "       'adventure_sports', 'Occupation', 'visited_doctor_last_1_year',\n",
       "       'cholesterol_level', 'daily_avg_steps', 'age',\n",
       "       'heart_decs_history', 'other_major_decs_history', 'Gender',\n",
       "       'avg_glucose_level', 'bmi', 'smoking_status', 'Location', 'weight',\n",
       "       'covered_by_any_other_company', 'Alcohol', 'exercise',\n",
       "       'weight_change_in_last_one_year', 'fat_percentage'], dtype=object)"
      ]
     },
     "execution_count": 42,
     "metadata": {},
     "output_type": "execute_result"
    }
   ],
   "source": [
    "pipeline.feature_names_in_"
   ]
  },
  {
   "cell_type": "code",
   "execution_count": 43,
   "id": "efee7b08-227f-4d17-8851-47ca219e3fd3",
   "metadata": {},
   "outputs": [
    {
     "data": {
      "text/plain": [
       "<bound method Pipeline.get_feature_names_out of Pipeline(steps=[('s',\n",
       "                 RFE(estimator=DecisionTreeRegressor(),\n",
       "                     n_features_to_select=5)),\n",
       "                ('m', DecisionTreeRegressor())])>"
      ]
     },
     "execution_count": 43,
     "metadata": {},
     "output_type": "execute_result"
    }
   ],
   "source": [
    "pipeline.get_feature_names_out"
   ]
  },
  {
   "cell_type": "code",
   "execution_count": null,
   "id": "e4a7dc7b-2fbe-4892-a8d5-5a5f6e4864fb",
   "metadata": {},
   "outputs": [],
   "source": [
    "df_X.info()"
   ]
  },
  {
   "cell_type": "code",
   "execution_count": null,
   "id": "db337cd0-60ee-4962-ac6e-c25c852835ff",
   "metadata": {},
   "outputs": [],
   "source": [
    "df_Y.info()"
   ]
  },
  {
   "cell_type": "code",
   "execution_count": 45,
   "id": "890b95f7-c88f-44c3-bb7c-96ebbb61de47",
   "metadata": {},
   "outputs": [],
   "source": [
    "from sklearn.ensemble import RandomForestRegressor\n",
    "from sklearn.feature_selection import RFE\n",
    "regressor = RandomForestRegressor(n_estimators=100, max_depth=10)"
   ]
  },
  {
   "cell_type": "code",
   "execution_count": 46,
   "id": "edbb5b37-e651-4c13-9b9b-f90a09b0e6f1",
   "metadata": {},
   "outputs": [
    {
     "data": {
      "text/html": [
       "<style>#sk-container-id-4 {color: black;}#sk-container-id-4 pre{padding: 0;}#sk-container-id-4 div.sk-toggleable {background-color: white;}#sk-container-id-4 label.sk-toggleable__label {cursor: pointer;display: block;width: 100%;margin-bottom: 0;padding: 0.3em;box-sizing: border-box;text-align: center;}#sk-container-id-4 label.sk-toggleable__label-arrow:before {content: \"▸\";float: left;margin-right: 0.25em;color: #696969;}#sk-container-id-4 label.sk-toggleable__label-arrow:hover:before {color: black;}#sk-container-id-4 div.sk-estimator:hover label.sk-toggleable__label-arrow:before {color: black;}#sk-container-id-4 div.sk-toggleable__content {max-height: 0;max-width: 0;overflow: hidden;text-align: left;background-color: #f0f8ff;}#sk-container-id-4 div.sk-toggleable__content pre {margin: 0.2em;color: black;border-radius: 0.25em;background-color: #f0f8ff;}#sk-container-id-4 input.sk-toggleable__control:checked~div.sk-toggleable__content {max-height: 200px;max-width: 100%;overflow: auto;}#sk-container-id-4 input.sk-toggleable__control:checked~label.sk-toggleable__label-arrow:before {content: \"▾\";}#sk-container-id-4 div.sk-estimator input.sk-toggleable__control:checked~label.sk-toggleable__label {background-color: #d4ebff;}#sk-container-id-4 div.sk-label input.sk-toggleable__control:checked~label.sk-toggleable__label {background-color: #d4ebff;}#sk-container-id-4 input.sk-hidden--visually {border: 0;clip: rect(1px 1px 1px 1px);clip: rect(1px, 1px, 1px, 1px);height: 1px;margin: -1px;overflow: hidden;padding: 0;position: absolute;width: 1px;}#sk-container-id-4 div.sk-estimator {font-family: monospace;background-color: #f0f8ff;border: 1px dotted black;border-radius: 0.25em;box-sizing: border-box;margin-bottom: 0.5em;}#sk-container-id-4 div.sk-estimator:hover {background-color: #d4ebff;}#sk-container-id-4 div.sk-parallel-item::after {content: \"\";width: 100%;border-bottom: 1px solid gray;flex-grow: 1;}#sk-container-id-4 div.sk-label:hover label.sk-toggleable__label {background-color: #d4ebff;}#sk-container-id-4 div.sk-serial::before {content: \"\";position: absolute;border-left: 1px solid gray;box-sizing: border-box;top: 0;bottom: 0;left: 50%;z-index: 0;}#sk-container-id-4 div.sk-serial {display: flex;flex-direction: column;align-items: center;background-color: white;padding-right: 0.2em;padding-left: 0.2em;position: relative;}#sk-container-id-4 div.sk-item {position: relative;z-index: 1;}#sk-container-id-4 div.sk-parallel {display: flex;align-items: stretch;justify-content: center;background-color: white;position: relative;}#sk-container-id-4 div.sk-item::before, #sk-container-id-4 div.sk-parallel-item::before {content: \"\";position: absolute;border-left: 1px solid gray;box-sizing: border-box;top: 0;bottom: 0;left: 50%;z-index: -1;}#sk-container-id-4 div.sk-parallel-item {display: flex;flex-direction: column;z-index: 1;position: relative;background-color: white;}#sk-container-id-4 div.sk-parallel-item:first-child::after {align-self: flex-end;width: 50%;}#sk-container-id-4 div.sk-parallel-item:last-child::after {align-self: flex-start;width: 50%;}#sk-container-id-4 div.sk-parallel-item:only-child::after {width: 0;}#sk-container-id-4 div.sk-dashed-wrapped {border: 1px dashed gray;margin: 0 0.4em 0.5em 0.4em;box-sizing: border-box;padding-bottom: 0.4em;background-color: white;}#sk-container-id-4 div.sk-label label {font-family: monospace;font-weight: bold;display: inline-block;line-height: 1.2em;}#sk-container-id-4 div.sk-label-container {text-align: center;}#sk-container-id-4 div.sk-container {/* jupyter's `normalize.less` sets `[hidden] { display: none; }` but bootstrap.min.css set `[hidden] { display: none !important; }` so we also need the `!important` here to be able to override the default hidden behavior on the sphinx rendered scikit-learn.org. See: https://github.com/scikit-learn/scikit-learn/issues/21755 */display: inline-block !important;position: relative;}#sk-container-id-4 div.sk-text-repr-fallback {display: none;}</style><div id=\"sk-container-id-4\" class=\"sk-top-container\"><div class=\"sk-text-repr-fallback\"><pre>RFE(estimator=RandomForestRegressor(max_depth=10), n_features_to_select=1)</pre><b>In a Jupyter environment, please rerun this cell to show the HTML representation or trust the notebook. <br />On GitHub, the HTML representation is unable to render, please try loading this page with nbviewer.org.</b></div><div class=\"sk-container\" hidden><div class=\"sk-item sk-dashed-wrapped\"><div class=\"sk-label-container\"><div class=\"sk-label sk-toggleable\"><input class=\"sk-toggleable__control sk-hidden--visually\" id=\"sk-estimator-id-12\" type=\"checkbox\" ><label for=\"sk-estimator-id-12\" class=\"sk-toggleable__label sk-toggleable__label-arrow\">RFE</label><div class=\"sk-toggleable__content\"><pre>RFE(estimator=RandomForestRegressor(max_depth=10), n_features_to_select=1)</pre></div></div></div><div class=\"sk-parallel\"><div class=\"sk-parallel-item\"><div class=\"sk-item\"><div class=\"sk-label-container\"><div class=\"sk-label sk-toggleable\"><input class=\"sk-toggleable__control sk-hidden--visually\" id=\"sk-estimator-id-13\" type=\"checkbox\" ><label for=\"sk-estimator-id-13\" class=\"sk-toggleable__label sk-toggleable__label-arrow\">estimator: RandomForestRegressor</label><div class=\"sk-toggleable__content\"><pre>RandomForestRegressor(max_depth=10)</pre></div></div></div><div class=\"sk-serial\"><div class=\"sk-item\"><div class=\"sk-estimator sk-toggleable\"><input class=\"sk-toggleable__control sk-hidden--visually\" id=\"sk-estimator-id-14\" type=\"checkbox\" ><label for=\"sk-estimator-id-14\" class=\"sk-toggleable__label sk-toggleable__label-arrow\">RandomForestRegressor</label><div class=\"sk-toggleable__content\"><pre>RandomForestRegressor(max_depth=10)</pre></div></div></div></div></div></div></div></div></div></div>"
      ],
      "text/plain": [
       "RFE(estimator=RandomForestRegressor(max_depth=10), n_features_to_select=1)"
      ]
     },
     "execution_count": 46,
     "metadata": {},
     "output_type": "execute_result"
    }
   ],
   "source": [
    "n_features_to_select = 1\n",
    "rfe = RFE(regressor, n_features_to_select=n_features_to_select)\n",
    "rfe.fit(X_train, y_train)"
   ]
  },
  {
   "cell_type": "code",
   "execution_count": 47,
   "id": "412ff445-0575-4b06-b016-7cd796cd7bfa",
   "metadata": {},
   "outputs": [
    {
     "name": "stdout",
     "output_type": "stream",
     "text": [
      "1 weight\n",
      "2 daily_avg_steps\n",
      "3 avg_glucose_level\n",
      "4 bmi\n",
      "5 age\n",
      "6 covered_by_any_other_company\n",
      "7 regular_checkup_lasy_year\n",
      "8 fat_percentage\n",
      "9 Location\n",
      "10 years_of_insurance_with_us\n",
      "11 weight_change_in_last_one_year\n",
      "12 visited_doctor_last_1_year\n",
      "13 cholesterol_level\n",
      "14 smoking_status\n",
      "15 Alcohol\n",
      "16 Occupation\n",
      "17 Gender\n",
      "18 heart_decs_history\n",
      "19 adventure_sports\n",
      "20 other_major_decs_history\n",
      "21 exercise\n"
     ]
    }
   ],
   "source": [
    "from operator import itemgetter\n",
    "features = X_train.columns.to_list()\n",
    "for x, y in (sorted(zip(rfe.ranking_ , features), key=itemgetter(0))):\n",
    "    print(x, y)"
   ]
  },
  {
   "cell_type": "code",
   "execution_count": 48,
   "id": "f8be0ec7-9304-453c-b325-dd4aa87b7ff5",
   "metadata": {},
   "outputs": [
    {
     "data": {
      "text/html": [
       "<style>#sk-container-id-5 {color: black;}#sk-container-id-5 pre{padding: 0;}#sk-container-id-5 div.sk-toggleable {background-color: white;}#sk-container-id-5 label.sk-toggleable__label {cursor: pointer;display: block;width: 100%;margin-bottom: 0;padding: 0.3em;box-sizing: border-box;text-align: center;}#sk-container-id-5 label.sk-toggleable__label-arrow:before {content: \"▸\";float: left;margin-right: 0.25em;color: #696969;}#sk-container-id-5 label.sk-toggleable__label-arrow:hover:before {color: black;}#sk-container-id-5 div.sk-estimator:hover label.sk-toggleable__label-arrow:before {color: black;}#sk-container-id-5 div.sk-toggleable__content {max-height: 0;max-width: 0;overflow: hidden;text-align: left;background-color: #f0f8ff;}#sk-container-id-5 div.sk-toggleable__content pre {margin: 0.2em;color: black;border-radius: 0.25em;background-color: #f0f8ff;}#sk-container-id-5 input.sk-toggleable__control:checked~div.sk-toggleable__content {max-height: 200px;max-width: 100%;overflow: auto;}#sk-container-id-5 input.sk-toggleable__control:checked~label.sk-toggleable__label-arrow:before {content: \"▾\";}#sk-container-id-5 div.sk-estimator input.sk-toggleable__control:checked~label.sk-toggleable__label {background-color: #d4ebff;}#sk-container-id-5 div.sk-label input.sk-toggleable__control:checked~label.sk-toggleable__label {background-color: #d4ebff;}#sk-container-id-5 input.sk-hidden--visually {border: 0;clip: rect(1px 1px 1px 1px);clip: rect(1px, 1px, 1px, 1px);height: 1px;margin: -1px;overflow: hidden;padding: 0;position: absolute;width: 1px;}#sk-container-id-5 div.sk-estimator {font-family: monospace;background-color: #f0f8ff;border: 1px dotted black;border-radius: 0.25em;box-sizing: border-box;margin-bottom: 0.5em;}#sk-container-id-5 div.sk-estimator:hover {background-color: #d4ebff;}#sk-container-id-5 div.sk-parallel-item::after {content: \"\";width: 100%;border-bottom: 1px solid gray;flex-grow: 1;}#sk-container-id-5 div.sk-label:hover label.sk-toggleable__label {background-color: #d4ebff;}#sk-container-id-5 div.sk-serial::before {content: \"\";position: absolute;border-left: 1px solid gray;box-sizing: border-box;top: 0;bottom: 0;left: 50%;z-index: 0;}#sk-container-id-5 div.sk-serial {display: flex;flex-direction: column;align-items: center;background-color: white;padding-right: 0.2em;padding-left: 0.2em;position: relative;}#sk-container-id-5 div.sk-item {position: relative;z-index: 1;}#sk-container-id-5 div.sk-parallel {display: flex;align-items: stretch;justify-content: center;background-color: white;position: relative;}#sk-container-id-5 div.sk-item::before, #sk-container-id-5 div.sk-parallel-item::before {content: \"\";position: absolute;border-left: 1px solid gray;box-sizing: border-box;top: 0;bottom: 0;left: 50%;z-index: -1;}#sk-container-id-5 div.sk-parallel-item {display: flex;flex-direction: column;z-index: 1;position: relative;background-color: white;}#sk-container-id-5 div.sk-parallel-item:first-child::after {align-self: flex-end;width: 50%;}#sk-container-id-5 div.sk-parallel-item:last-child::after {align-self: flex-start;width: 50%;}#sk-container-id-5 div.sk-parallel-item:only-child::after {width: 0;}#sk-container-id-5 div.sk-dashed-wrapped {border: 1px dashed gray;margin: 0 0.4em 0.5em 0.4em;box-sizing: border-box;padding-bottom: 0.4em;background-color: white;}#sk-container-id-5 div.sk-label label {font-family: monospace;font-weight: bold;display: inline-block;line-height: 1.2em;}#sk-container-id-5 div.sk-label-container {text-align: center;}#sk-container-id-5 div.sk-container {/* jupyter's `normalize.less` sets `[hidden] { display: none; }` but bootstrap.min.css set `[hidden] { display: none !important; }` so we also need the `!important` here to be able to override the default hidden behavior on the sphinx rendered scikit-learn.org. See: https://github.com/scikit-learn/scikit-learn/issues/21755 */display: inline-block !important;position: relative;}#sk-container-id-5 div.sk-text-repr-fallback {display: none;}</style><div id=\"sk-container-id-5\" class=\"sk-top-container\"><div class=\"sk-text-repr-fallback\"><pre>RFE(estimator=RandomForestRegressor(max_depth=10), n_features_to_select=10)</pre><b>In a Jupyter environment, please rerun this cell to show the HTML representation or trust the notebook. <br />On GitHub, the HTML representation is unable to render, please try loading this page with nbviewer.org.</b></div><div class=\"sk-container\" hidden><div class=\"sk-item sk-dashed-wrapped\"><div class=\"sk-label-container\"><div class=\"sk-label sk-toggleable\"><input class=\"sk-toggleable__control sk-hidden--visually\" id=\"sk-estimator-id-15\" type=\"checkbox\" ><label for=\"sk-estimator-id-15\" class=\"sk-toggleable__label sk-toggleable__label-arrow\">RFE</label><div class=\"sk-toggleable__content\"><pre>RFE(estimator=RandomForestRegressor(max_depth=10), n_features_to_select=10)</pre></div></div></div><div class=\"sk-parallel\"><div class=\"sk-parallel-item\"><div class=\"sk-item\"><div class=\"sk-label-container\"><div class=\"sk-label sk-toggleable\"><input class=\"sk-toggleable__control sk-hidden--visually\" id=\"sk-estimator-id-16\" type=\"checkbox\" ><label for=\"sk-estimator-id-16\" class=\"sk-toggleable__label sk-toggleable__label-arrow\">estimator: RandomForestRegressor</label><div class=\"sk-toggleable__content\"><pre>RandomForestRegressor(max_depth=10)</pre></div></div></div><div class=\"sk-serial\"><div class=\"sk-item\"><div class=\"sk-estimator sk-toggleable\"><input class=\"sk-toggleable__control sk-hidden--visually\" id=\"sk-estimator-id-17\" type=\"checkbox\" ><label for=\"sk-estimator-id-17\" class=\"sk-toggleable__label sk-toggleable__label-arrow\">RandomForestRegressor</label><div class=\"sk-toggleable__content\"><pre>RandomForestRegressor(max_depth=10)</pre></div></div></div></div></div></div></div></div></div></div>"
      ],
      "text/plain": [
       "RFE(estimator=RandomForestRegressor(max_depth=10), n_features_to_select=10)"
      ]
     },
     "execution_count": 48,
     "metadata": {},
     "output_type": "execute_result"
    }
   ],
   "source": [
    "n_features_to_select = 10\n",
    "rfe = RFE(regressor, n_features_to_select=n_features_to_select)\n",
    "rfe.fit(X_train, y_train)"
   ]
  },
  {
   "cell_type": "code",
   "execution_count": 49,
   "id": "00c35be6-b60d-4a74-b70f-dbe561a6bac9",
   "metadata": {},
   "outputs": [],
   "source": [
    "predictions = rfe.predict(X_test)"
   ]
  },
  {
   "cell_type": "code",
   "execution_count": 52,
   "id": "1828ceb6-c9e7-467e-9d7c-54c653ea7db2",
   "metadata": {},
   "outputs": [
    {
     "name": "stdout",
     "output_type": "stream",
     "text": [
      "[27476.62717892  4776.15765501 18354.89068514 ... 30096.38185892\n",
      " 41685.25630163 22872.56049169]\n"
     ]
    }
   ],
   "source": [
    "print(predictions)"
   ]
  },
  {
   "cell_type": "code",
   "execution_count": 55,
   "id": "e15c7102-5215-472f-85ee-9e7549e463c5",
   "metadata": {},
   "outputs": [
    {
     "name": "stdout",
     "output_type": "stream",
     "text": [
      "1 years_of_insurance_with_us\n",
      "1 regular_checkup_lasy_year\n",
      "1 daily_avg_steps\n",
      "1 age\n",
      "1 avg_glucose_level\n",
      "1 bmi\n",
      "1 Location\n",
      "1 weight\n",
      "1 covered_by_any_other_company\n",
      "1 fat_percentage\n",
      "2 weight_change_in_last_one_year\n",
      "3 visited_doctor_last_1_year\n",
      "4 cholesterol_level\n",
      "5 smoking_status\n",
      "6 Alcohol\n",
      "7 Occupation\n",
      "8 Gender\n",
      "9 heart_decs_history\n",
      "10 adventure_sports\n",
      "11 other_major_decs_history\n",
      "12 exercise\n"
     ]
    }
   ],
   "source": [
    "features = X_train.columns.to_list()\n",
    "for x, y in (sorted(zip(rfe.ranking_ , features), key=itemgetter(0))):\n",
    "    print(x, y)"
   ]
  },
  {
   "cell_type": "code",
   "execution_count": 57,
   "id": "e7a54468-2ef5-48cf-ba4d-f6862fb6e40c",
   "metadata": {},
   "outputs": [
    {
     "name": "stderr",
     "output_type": "stream",
     "text": [
      "C:\\Users\\harikrishnan.m\\AppData\\Local\\Programs\\Python\\Python311\\Lib\\site-packages\\sklearn\\cluster\\_kmeans.py:1416: FutureWarning: The default value of `n_init` will change from 10 to 'auto' in 1.4. Set the value of `n_init` explicitly to suppress the warning\n",
      "  super()._check_params_vs_input(X, default_n_init=10)\n"
     ]
    },
    {
     "data": {
      "text/html": [
       "<style>#sk-container-id-6 {color: black;}#sk-container-id-6 pre{padding: 0;}#sk-container-id-6 div.sk-toggleable {background-color: white;}#sk-container-id-6 label.sk-toggleable__label {cursor: pointer;display: block;width: 100%;margin-bottom: 0;padding: 0.3em;box-sizing: border-box;text-align: center;}#sk-container-id-6 label.sk-toggleable__label-arrow:before {content: \"▸\";float: left;margin-right: 0.25em;color: #696969;}#sk-container-id-6 label.sk-toggleable__label-arrow:hover:before {color: black;}#sk-container-id-6 div.sk-estimator:hover label.sk-toggleable__label-arrow:before {color: black;}#sk-container-id-6 div.sk-toggleable__content {max-height: 0;max-width: 0;overflow: hidden;text-align: left;background-color: #f0f8ff;}#sk-container-id-6 div.sk-toggleable__content pre {margin: 0.2em;color: black;border-radius: 0.25em;background-color: #f0f8ff;}#sk-container-id-6 input.sk-toggleable__control:checked~div.sk-toggleable__content {max-height: 200px;max-width: 100%;overflow: auto;}#sk-container-id-6 input.sk-toggleable__control:checked~label.sk-toggleable__label-arrow:before {content: \"▾\";}#sk-container-id-6 div.sk-estimator input.sk-toggleable__control:checked~label.sk-toggleable__label {background-color: #d4ebff;}#sk-container-id-6 div.sk-label input.sk-toggleable__control:checked~label.sk-toggleable__label {background-color: #d4ebff;}#sk-container-id-6 input.sk-hidden--visually {border: 0;clip: rect(1px 1px 1px 1px);clip: rect(1px, 1px, 1px, 1px);height: 1px;margin: -1px;overflow: hidden;padding: 0;position: absolute;width: 1px;}#sk-container-id-6 div.sk-estimator {font-family: monospace;background-color: #f0f8ff;border: 1px dotted black;border-radius: 0.25em;box-sizing: border-box;margin-bottom: 0.5em;}#sk-container-id-6 div.sk-estimator:hover {background-color: #d4ebff;}#sk-container-id-6 div.sk-parallel-item::after {content: \"\";width: 100%;border-bottom: 1px solid gray;flex-grow: 1;}#sk-container-id-6 div.sk-label:hover label.sk-toggleable__label {background-color: #d4ebff;}#sk-container-id-6 div.sk-serial::before {content: \"\";position: absolute;border-left: 1px solid gray;box-sizing: border-box;top: 0;bottom: 0;left: 50%;z-index: 0;}#sk-container-id-6 div.sk-serial {display: flex;flex-direction: column;align-items: center;background-color: white;padding-right: 0.2em;padding-left: 0.2em;position: relative;}#sk-container-id-6 div.sk-item {position: relative;z-index: 1;}#sk-container-id-6 div.sk-parallel {display: flex;align-items: stretch;justify-content: center;background-color: white;position: relative;}#sk-container-id-6 div.sk-item::before, #sk-container-id-6 div.sk-parallel-item::before {content: \"\";position: absolute;border-left: 1px solid gray;box-sizing: border-box;top: 0;bottom: 0;left: 50%;z-index: -1;}#sk-container-id-6 div.sk-parallel-item {display: flex;flex-direction: column;z-index: 1;position: relative;background-color: white;}#sk-container-id-6 div.sk-parallel-item:first-child::after {align-self: flex-end;width: 50%;}#sk-container-id-6 div.sk-parallel-item:last-child::after {align-self: flex-start;width: 50%;}#sk-container-id-6 div.sk-parallel-item:only-child::after {width: 0;}#sk-container-id-6 div.sk-dashed-wrapped {border: 1px dashed gray;margin: 0 0.4em 0.5em 0.4em;box-sizing: border-box;padding-bottom: 0.4em;background-color: white;}#sk-container-id-6 div.sk-label label {font-family: monospace;font-weight: bold;display: inline-block;line-height: 1.2em;}#sk-container-id-6 div.sk-label-container {text-align: center;}#sk-container-id-6 div.sk-container {/* jupyter's `normalize.less` sets `[hidden] { display: none; }` but bootstrap.min.css set `[hidden] { display: none !important; }` so we also need the `!important` here to be able to override the default hidden behavior on the sphinx rendered scikit-learn.org. See: https://github.com/scikit-learn/scikit-learn/issues/21755 */display: inline-block !important;position: relative;}#sk-container-id-6 div.sk-text-repr-fallback {display: none;}</style><div id=\"sk-container-id-6\" class=\"sk-top-container\"><div class=\"sk-text-repr-fallback\"><pre>KMeans(n_clusters=2, random_state=0)</pre><b>In a Jupyter environment, please rerun this cell to show the HTML representation or trust the notebook. <br />On GitHub, the HTML representation is unable to render, please try loading this page with nbviewer.org.</b></div><div class=\"sk-container\" hidden><div class=\"sk-item\"><div class=\"sk-estimator sk-toggleable\"><input class=\"sk-toggleable__control sk-hidden--visually\" id=\"sk-estimator-id-18\" type=\"checkbox\" checked><label for=\"sk-estimator-id-18\" class=\"sk-toggleable__label sk-toggleable__label-arrow\">KMeans</label><div class=\"sk-toggleable__content\"><pre>KMeans(n_clusters=2, random_state=0)</pre></div></div></div></div></div>"
      ],
      "text/plain": [
       "KMeans(n_clusters=2, random_state=0)"
      ]
     },
     "execution_count": 57,
     "metadata": {},
     "output_type": "execute_result"
    }
   ],
   "source": [
    "from sklearn.cluster import KMeans\n",
    "\n",
    "kmeans = KMeans(n_clusters=2, random_state=0) \n",
    "\n",
    "kmeans.fit(df_X)"
   ]
  },
  {
   "cell_type": "code",
   "execution_count": 65,
   "id": "de470eae-3aab-4378-838b-31bf6be76516",
   "metadata": {},
   "outputs": [],
   "source": [
    "from sklearn.preprocessing import LabelEncoder\n",
    "le = LabelEncoder()"
   ]
  },
  {
   "cell_type": "code",
   "execution_count": 58,
   "id": "d2db1262-6f5b-46ca-97fa-2b031c259ca4",
   "metadata": {},
   "outputs": [
    {
     "data": {
      "text/plain": [
       "array([[4.10231362e+00, 6.56908740e-01, 0.00000000e+00, 1.01985861e+00,\n",
       "        3.22146530e+00, 1.24922879e+00, 4.62278894e+03, 4.49020566e+01,\n",
       "        0.00000000e+00, 0.00000000e+00, 6.56298201e-01, 1.67470116e+02,\n",
       "        3.12578117e+01, 1.37005141e+00, 6.93714653e+00, 7.16733290e+01,\n",
       "        3.03856041e-01, 1.41086118e+00, 1.00000000e+00, 2.50475578e+00,\n",
       "        2.85197943e+01],\n",
       "       [4.05360947e+00, 6.53017751e-01, 0.00000000e+00, 9.75147929e-01,\n",
       "        2.87739645e+00, 1.30082840e+00, 6.23178393e+03, 4.49498225e+01,\n",
       "        0.00000000e+00, 0.00000000e+00, 6.48165680e-01, 1.67653373e+02,\n",
       "        3.12006036e+01, 1.38686391e+00, 6.93183432e+00, 7.15195266e+01,\n",
       "        3.00828402e-01, 1.49739645e+00, 1.00000000e+00, 2.54307692e+00,\n",
       "        2.93839053e+01]])"
      ]
     },
     "execution_count": 58,
     "metadata": {},
     "output_type": "execute_result"
    }
   ],
   "source": [
    "kmeans.cluster_centers_"
   ]
  },
  {
   "cell_type": "code",
   "execution_count": 59,
   "id": "68d991b4-1b78-4cca-a19c-bb1b9d874ef8",
   "metadata": {},
   "outputs": [
    {
     "data": {
      "text/plain": [
       "8516751046.799782"
      ]
     },
     "execution_count": 59,
     "metadata": {},
     "output_type": "execute_result"
    }
   ],
   "source": [
    "kmeans.inertia_"
   ]
  },
  {
   "cell_type": "code",
   "execution_count": 66,
   "id": "5dd65d97-6950-4f55-82fc-7a54bf6516d7",
   "metadata": {},
   "outputs": [
    {
     "ename": "NotFittedError",
     "evalue": "This LabelEncoder instance is not fitted yet. Call 'fit' with appropriate arguments before using this estimator.",
     "output_type": "error",
     "traceback": [
      "\u001b[1;31m---------------------------------------------------------------------------\u001b[0m",
      "\u001b[1;31mNotFittedError\u001b[0m                            Traceback (most recent call last)",
      "Cell \u001b[1;32mIn[66], line 1\u001b[0m\n\u001b[1;32m----> 1\u001b[0m y \u001b[38;5;241m=\u001b[39m \u001b[43mle\u001b[49m\u001b[38;5;241;43m.\u001b[39;49m\u001b[43mtransform\u001b[49m\u001b[43m(\u001b[49m\u001b[43mdf_Y\u001b[49m\u001b[43m)\u001b[49m\n",
      "File \u001b[1;32m~\\AppData\\Local\\Programs\\Python\\Python311\\Lib\\site-packages\\sklearn\\preprocessing\\_label.py:131\u001b[0m, in \u001b[0;36mLabelEncoder.transform\u001b[1;34m(self, y)\u001b[0m\n\u001b[0;32m    118\u001b[0m \u001b[38;5;28;01mdef\u001b[39;00m \u001b[38;5;21mtransform\u001b[39m(\u001b[38;5;28mself\u001b[39m, y):\n\u001b[0;32m    119\u001b[0m \u001b[38;5;250m    \u001b[39m\u001b[38;5;124;03m\"\"\"Transform labels to normalized encoding.\u001b[39;00m\n\u001b[0;32m    120\u001b[0m \n\u001b[0;32m    121\u001b[0m \u001b[38;5;124;03m    Parameters\u001b[39;00m\n\u001b[1;32m   (...)\u001b[0m\n\u001b[0;32m    129\u001b[0m \u001b[38;5;124;03m        Labels as normalized encodings.\u001b[39;00m\n\u001b[0;32m    130\u001b[0m \u001b[38;5;124;03m    \"\"\"\u001b[39;00m\n\u001b[1;32m--> 131\u001b[0m     \u001b[43mcheck_is_fitted\u001b[49m\u001b[43m(\u001b[49m\u001b[38;5;28;43mself\u001b[39;49m\u001b[43m)\u001b[49m\n\u001b[0;32m    132\u001b[0m     y \u001b[38;5;241m=\u001b[39m column_or_1d(y, dtype\u001b[38;5;241m=\u001b[39m\u001b[38;5;28mself\u001b[39m\u001b[38;5;241m.\u001b[39mclasses_\u001b[38;5;241m.\u001b[39mdtype, warn\u001b[38;5;241m=\u001b[39m\u001b[38;5;28;01mTrue\u001b[39;00m)\n\u001b[0;32m    133\u001b[0m     \u001b[38;5;66;03m# transform of empty array is empty array\u001b[39;00m\n",
      "File \u001b[1;32m~\\AppData\\Local\\Programs\\Python\\Python311\\Lib\\site-packages\\sklearn\\utils\\validation.py:1461\u001b[0m, in \u001b[0;36mcheck_is_fitted\u001b[1;34m(estimator, attributes, msg, all_or_any)\u001b[0m\n\u001b[0;32m   1458\u001b[0m     \u001b[38;5;28;01mraise\u001b[39;00m \u001b[38;5;167;01mTypeError\u001b[39;00m(\u001b[38;5;124m\"\u001b[39m\u001b[38;5;132;01m%s\u001b[39;00m\u001b[38;5;124m is not an estimator instance.\u001b[39m\u001b[38;5;124m\"\u001b[39m \u001b[38;5;241m%\u001b[39m (estimator))\n\u001b[0;32m   1460\u001b[0m \u001b[38;5;28;01mif\u001b[39;00m \u001b[38;5;129;01mnot\u001b[39;00m _is_fitted(estimator, attributes, all_or_any):\n\u001b[1;32m-> 1461\u001b[0m     \u001b[38;5;28;01mraise\u001b[39;00m NotFittedError(msg \u001b[38;5;241m%\u001b[39m {\u001b[38;5;124m\"\u001b[39m\u001b[38;5;124mname\u001b[39m\u001b[38;5;124m\"\u001b[39m: \u001b[38;5;28mtype\u001b[39m(estimator)\u001b[38;5;241m.\u001b[39m\u001b[38;5;18m__name__\u001b[39m})\n",
      "\u001b[1;31mNotFittedError\u001b[0m: This LabelEncoder instance is not fitted yet. Call 'fit' with appropriate arguments before using this estimator."
     ]
    }
   ],
   "source": [
    "y = le.transform(df_Y)"
   ]
  },
  {
   "cell_type": "code",
   "execution_count": 62,
   "id": "8330849c-17ee-4bf2-92b2-8b8d364a415c",
   "metadata": {},
   "outputs": [
    {
     "ename": "AttributeError",
     "evalue": "'str' object has no attribute 'size'",
     "output_type": "error",
     "traceback": [
      "\u001b[1;31m---------------------------------------------------------------------------\u001b[0m",
      "\u001b[1;31mAttributeError\u001b[0m                            Traceback (most recent call last)",
      "Cell \u001b[1;32mIn[62], line 6\u001b[0m\n\u001b[0;32m      3\u001b[0m \u001b[38;5;66;03m# check how many of the samples were correctly labeled\u001b[39;00m\n\u001b[0;32m      4\u001b[0m correct_labels \u001b[38;5;241m=\u001b[39m \u001b[38;5;28msum\u001b[39m(y \u001b[38;5;241m==\u001b[39m labels)\n\u001b[1;32m----> 6\u001b[0m \u001b[38;5;28mprint\u001b[39m(\u001b[38;5;124m\"\u001b[39m\u001b[38;5;124mResult: \u001b[39m\u001b[38;5;132;01m%d\u001b[39;00m\u001b[38;5;124m out of \u001b[39m\u001b[38;5;132;01m%d\u001b[39;00m\u001b[38;5;124m samples were correctly labeled.\u001b[39m\u001b[38;5;124m\"\u001b[39m \u001b[38;5;241m%\u001b[39m (correct_labels, \u001b[43my\u001b[49m\u001b[38;5;241;43m.\u001b[39;49m\u001b[43msize\u001b[49m))\n",
      "\u001b[1;31mAttributeError\u001b[0m: 'str' object has no attribute 'size'"
     ]
    }
   ],
   "source": [
    "labels = kmeans.labels_\n",
    "\n",
    "# check how many of the samples were correctly labeled\n",
    "correct_labels = sum(y == labels)\n",
    "\n",
    "print(\"Result: %d out of %d samples were correctly labeled.\" % (correct_labels, y.size))"
   ]
  },
  {
   "cell_type": "code",
   "execution_count": 61,
   "id": "b619e3e0-9021-4ff0-ab16-dc5a1901224d",
   "metadata": {},
   "outputs": [
    {
     "data": {
      "text/plain": [
       "array([0, 1, 0, ..., 0, 1, 1])"
      ]
     },
     "execution_count": 61,
     "metadata": {},
     "output_type": "execute_result"
    }
   ],
   "source": [
    "kmeans.labels_"
   ]
  },
  {
   "cell_type": "code",
   "execution_count": 67,
   "id": "63ef7571-11ee-4007-86ea-100f404c663f",
   "metadata": {},
   "outputs": [
    {
     "data": {
      "image/png": "[encoded data removed]",
      "text/plain": [
       "<Figure size 640x480 with 1 Axes>"
      ]
     },
     "metadata": {},
     "output_type": "display_data"
    }
   ],
   "source": [
    "from sklearn.cluster import KMeans\n",
    "cs = []\n",
    "for i in range(1, 11):\n",
    "    kmeans = KMeans(n_clusters = i, init = 'k-means++', max_iter = 300, n_init = 10, random_state = 0)\n",
    "    kmeans.fit(df_X)\n",
    "    cs.append(kmeans.inertia_)\n",
    "plt.plot(range(1, 11), cs)\n",
    "plt.title('The Elbow Method')\n",
    "plt.xlabel('Number of clusters')\n",
    "plt.ylabel('CS')\n",
    "plt.show()"
   ]
  },
  {
   "cell_type": "code",
   "execution_count": null,
   "id": "55d5d45a-ac34-46f2-8152-e019246cc62c",
   "metadata": {},
   "outputs": [],
   "source": []
  }
 ],
 "metadata": {
  "kernelspec": {
   "display_name": "Python 3 (ipykernel)",
   "language": "python",
   "name": "python3"
  },
  "language_info": {
   "codemirror_mode": {
    "name": "ipython",
    "version": 3
   },
   "file_extension": ".py",
   "mimetype": "text/x-python",
   "name": "python",
   "nbconvert_exporter": "python",
   "pygments_lexer": "ipython3",
   "version": "3.11.3"
  }
 },
 "nbformat": 4,
 "nbformat_minor": 5
}
