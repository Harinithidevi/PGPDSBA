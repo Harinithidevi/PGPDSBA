{
 "cells": [
  {
   "cell_type": "code",
   "execution_count": 1,
   "id": "e359ba0b-3602-407d-9e38-d9b495fbb8c0",
   "metadata": {},
   "outputs": [],
   "source": [
    "import pandas as pd\n",
    "import numpy as np\n"
   ]
  },
  {
   "cell_type": "code",
   "execution_count": 2,
   "id": "e8d2ce9b-076c-4de3-967f-267b272015ed",
   "metadata": {},
   "outputs": [],
   "source": [
    "df=pd.read_csv('Data.csv')"
   ]
  },
  {
   "cell_type": "code",
   "execution_count": 3,
   "id": "d404ad2d-aaa2-4963-894b-2cc4977ffab5",
   "metadata": {},
   "outputs": [
    {
     "data": {
      "text/html": [
       "<div>\n",
       "<style scoped>\n",
       "    .dataframe tbody tr th:only-of-type {\n",
       "        vertical-align: middle;\n",
       "    }\n",
       "\n",
       "    .dataframe tbody tr th {\n",
       "        vertical-align: top;\n",
       "    }\n",
       "\n",
       "    .dataframe thead th {\n",
       "        text-align: right;\n",
       "    }\n",
       "</style>\n",
       "<table border=\"1\" class=\"dataframe\">\n",
       "  <thead>\n",
       "    <tr style=\"text-align: right;\">\n",
       "      <th></th>\n",
       "      <th>applicant_id</th>\n",
       "      <th>years_of_insurance_with_us</th>\n",
       "      <th>regular_checkup_lasy_year</th>\n",
       "      <th>adventure_sports</th>\n",
       "      <th>Occupation</th>\n",
       "      <th>visited_doctor_last_1_year</th>\n",
       "      <th>cholesterol_level</th>\n",
       "      <th>daily_avg_steps</th>\n",
       "      <th>age</th>\n",
       "      <th>heart_decs_history</th>\n",
       "      <th>...</th>\n",
       "      <th>smoking_status</th>\n",
       "      <th>Year_last_admitted</th>\n",
       "      <th>Location</th>\n",
       "      <th>weight</th>\n",
       "      <th>covered_by_any_other_company</th>\n",
       "      <th>Alcohol</th>\n",
       "      <th>exercise</th>\n",
       "      <th>weight_change_in_last_one_year</th>\n",
       "      <th>fat_percentage</th>\n",
       "      <th>insurance_cost</th>\n",
       "    </tr>\n",
       "  </thead>\n",
       "  <tbody>\n",
       "    <tr>\n",
       "      <th>0</th>\n",
       "      <td>5000</td>\n",
       "      <td>3</td>\n",
       "      <td>1</td>\n",
       "      <td>1</td>\n",
       "      <td>Salried</td>\n",
       "      <td>2</td>\n",
       "      <td>125 to 150</td>\n",
       "      <td>4866</td>\n",
       "      <td>28</td>\n",
       "      <td>1</td>\n",
       "      <td>...</td>\n",
       "      <td>Unknown</td>\n",
       "      <td>NaN</td>\n",
       "      <td>Chennai</td>\n",
       "      <td>67</td>\n",
       "      <td>N</td>\n",
       "      <td>Rare</td>\n",
       "      <td>Moderate</td>\n",
       "      <td>1</td>\n",
       "      <td>25</td>\n",
       "      <td>20978</td>\n",
       "    </tr>\n",
       "    <tr>\n",
       "      <th>1</th>\n",
       "      <td>5001</td>\n",
       "      <td>0</td>\n",
       "      <td>0</td>\n",
       "      <td>0</td>\n",
       "      <td>Student</td>\n",
       "      <td>4</td>\n",
       "      <td>150 to 175</td>\n",
       "      <td>6411</td>\n",
       "      <td>50</td>\n",
       "      <td>0</td>\n",
       "      <td>...</td>\n",
       "      <td>formerly smoked</td>\n",
       "      <td>NaN</td>\n",
       "      <td>Jaipur</td>\n",
       "      <td>58</td>\n",
       "      <td>N</td>\n",
       "      <td>Rare</td>\n",
       "      <td>Moderate</td>\n",
       "      <td>3</td>\n",
       "      <td>27</td>\n",
       "      <td>6170</td>\n",
       "    </tr>\n",
       "    <tr>\n",
       "      <th>2</th>\n",
       "      <td>5002</td>\n",
       "      <td>1</td>\n",
       "      <td>0</td>\n",
       "      <td>0</td>\n",
       "      <td>Business</td>\n",
       "      <td>4</td>\n",
       "      <td>200 to 225</td>\n",
       "      <td>4509</td>\n",
       "      <td>68</td>\n",
       "      <td>0</td>\n",
       "      <td>...</td>\n",
       "      <td>formerly smoked</td>\n",
       "      <td>NaN</td>\n",
       "      <td>Jaipur</td>\n",
       "      <td>73</td>\n",
       "      <td>N</td>\n",
       "      <td>Daily</td>\n",
       "      <td>Extreme</td>\n",
       "      <td>0</td>\n",
       "      <td>32</td>\n",
       "      <td>28382</td>\n",
       "    </tr>\n",
       "    <tr>\n",
       "      <th>3</th>\n",
       "      <td>5003</td>\n",
       "      <td>7</td>\n",
       "      <td>4</td>\n",
       "      <td>0</td>\n",
       "      <td>Business</td>\n",
       "      <td>2</td>\n",
       "      <td>175 to 200</td>\n",
       "      <td>6214</td>\n",
       "      <td>51</td>\n",
       "      <td>0</td>\n",
       "      <td>...</td>\n",
       "      <td>Unknown</td>\n",
       "      <td>NaN</td>\n",
       "      <td>Chennai</td>\n",
       "      <td>71</td>\n",
       "      <td>Y</td>\n",
       "      <td>Rare</td>\n",
       "      <td>No</td>\n",
       "      <td>3</td>\n",
       "      <td>37</td>\n",
       "      <td>27148</td>\n",
       "    </tr>\n",
       "    <tr>\n",
       "      <th>4</th>\n",
       "      <td>5004</td>\n",
       "      <td>3</td>\n",
       "      <td>1</td>\n",
       "      <td>0</td>\n",
       "      <td>Student</td>\n",
       "      <td>2</td>\n",
       "      <td>150 to 175</td>\n",
       "      <td>4938</td>\n",
       "      <td>44</td>\n",
       "      <td>0</td>\n",
       "      <td>...</td>\n",
       "      <td>never smoked</td>\n",
       "      <td>2004.0</td>\n",
       "      <td>Bangalore</td>\n",
       "      <td>74</td>\n",
       "      <td>N</td>\n",
       "      <td>No</td>\n",
       "      <td>Extreme</td>\n",
       "      <td>0</td>\n",
       "      <td>34</td>\n",
       "      <td>29616</td>\n",
       "    </tr>\n",
       "  </tbody>\n",
       "</table>\n",
       "<p>5 rows × 24 columns</p>\n",
       "</div>"
      ],
      "text/plain": [
       "   applicant_id  years_of_insurance_with_us  regular_checkup_lasy_year  \\\n",
       "0          5000                           3                          1   \n",
       "1          5001                           0                          0   \n",
       "2          5002                           1                          0   \n",
       "3          5003                           7                          4   \n",
       "4          5004                           3                          1   \n",
       "\n",
       "   adventure_sports Occupation  visited_doctor_last_1_year cholesterol_level  \\\n",
       "0                 1    Salried                           2        125 to 150   \n",
       "1                 0    Student                           4        150 to 175   \n",
       "2                 0   Business                           4        200 to 225   \n",
       "3                 0   Business                           2        175 to 200   \n",
       "4                 0    Student                           2        150 to 175   \n",
       "\n",
       "   daily_avg_steps  age  heart_decs_history  ...   smoking_status  \\\n",
       "0             4866   28                   1  ...          Unknown   \n",
       "1             6411   50                   0  ...  formerly smoked   \n",
       "2             4509   68                   0  ...  formerly smoked   \n",
       "3             6214   51                   0  ...          Unknown   \n",
       "4             4938   44                   0  ...     never smoked   \n",
       "\n",
       "  Year_last_admitted   Location  weight covered_by_any_other_company  Alcohol  \\\n",
       "0                NaN    Chennai      67                            N     Rare   \n",
       "1                NaN     Jaipur      58                            N     Rare   \n",
       "2                NaN     Jaipur      73                            N    Daily   \n",
       "3                NaN    Chennai      71                            Y     Rare   \n",
       "4             2004.0  Bangalore      74                            N       No   \n",
       "\n",
       "   exercise  weight_change_in_last_one_year fat_percentage insurance_cost  \n",
       "0  Moderate                               1             25          20978  \n",
       "1  Moderate                               3             27           6170  \n",
       "2   Extreme                               0             32          28382  \n",
       "3        No                               3             37          27148  \n",
       "4   Extreme                               0             34          29616  \n",
       "\n",
       "[5 rows x 24 columns]"
      ]
     },
     "execution_count": 3,
     "metadata": {},
     "output_type": "execute_result"
    }
   ],
   "source": [
    "df.head()"
   ]
  },
  {
   "cell_type": "code",
   "execution_count": 4,
   "id": "a0f46ae3-dddd-45de-91eb-2740473d2e07",
   "metadata": {},
   "outputs": [
    {
     "name": "stdout",
     "output_type": "stream",
     "text": [
      "<class 'pandas.core.frame.DataFrame'>\n",
      "RangeIndex: 25000 entries, 0 to 24999\n",
      "Data columns (total 24 columns):\n",
      " #   Column                          Non-Null Count  Dtype  \n",
      "---  ------                          --------------  -----  \n",
      " 0   applicant_id                    25000 non-null  int64  \n",
      " 1   years_of_insurance_with_us      25000 non-null  int64  \n",
      " 2   regular_checkup_lasy_year       25000 non-null  int64  \n",
      " 3   adventure_sports                25000 non-null  int64  \n",
      " 4   Occupation                      25000 non-null  object \n",
      " 5   visited_doctor_last_1_year      25000 non-null  int64  \n",
      " 6   cholesterol_level               25000 non-null  object \n",
      " 7   daily_avg_steps                 25000 non-null  int64  \n",
      " 8   age                             25000 non-null  int64  \n",
      " 9   heart_decs_history              25000 non-null  int64  \n",
      " 10  other_major_decs_history        25000 non-null  int64  \n",
      " 11  Gender                          25000 non-null  object \n",
      " 12  avg_glucose_level               25000 non-null  int64  \n",
      " 13  bmi                             24010 non-null  float64\n",
      " 14  smoking_status                  25000 non-null  object \n",
      " 15  Year_last_admitted              13119 non-null  float64\n",
      " 16  Location                        25000 non-null  object \n",
      " 17  weight                          25000 non-null  int64  \n",
      " 18  covered_by_any_other_company    25000 non-null  object \n",
      " 19  Alcohol                         25000 non-null  object \n",
      " 20  exercise                        25000 non-null  object \n",
      " 21  weight_change_in_last_one_year  25000 non-null  int64  \n",
      " 22  fat_percentage                  25000 non-null  int64  \n",
      " 23  insurance_cost                  25000 non-null  int64  \n",
      "dtypes: float64(2), int64(14), object(8)\n",
      "memory usage: 4.6+ MB\n"
     ]
    }
   ],
   "source": [
    "df.info()"
   ]
  },
  {
   "cell_type": "code",
   "execution_count": 5,
   "id": "88baa893-32a7-43b7-b186-ab84b3aaa5db",
   "metadata": {},
   "outputs": [
    {
     "data": {
      "text/html": [
       "<div>\n",
       "<style scoped>\n",
       "    .dataframe tbody tr th:only-of-type {\n",
       "        vertical-align: middle;\n",
       "    }\n",
       "\n",
       "    .dataframe tbody tr th {\n",
       "        vertical-align: top;\n",
       "    }\n",
       "\n",
       "    .dataframe thead th {\n",
       "        text-align: right;\n",
       "    }\n",
       "</style>\n",
       "<table border=\"1\" class=\"dataframe\">\n",
       "  <thead>\n",
       "    <tr style=\"text-align: right;\">\n",
       "      <th></th>\n",
       "      <th>count</th>\n",
       "      <th>mean</th>\n",
       "      <th>std</th>\n",
       "      <th>min</th>\n",
       "      <th>25%</th>\n",
       "      <th>50%</th>\n",
       "      <th>75%</th>\n",
       "      <th>max</th>\n",
       "    </tr>\n",
       "  </thead>\n",
       "  <tbody>\n",
       "    <tr>\n",
       "      <th>applicant_id</th>\n",
       "      <td>25000.0</td>\n",
       "      <td>17499.500000</td>\n",
       "      <td>7217.022701</td>\n",
       "      <td>5000.0</td>\n",
       "      <td>11249.75</td>\n",
       "      <td>17499.5</td>\n",
       "      <td>23749.25</td>\n",
       "      <td>29999.0</td>\n",
       "    </tr>\n",
       "    <tr>\n",
       "      <th>years_of_insurance_with_us</th>\n",
       "      <td>25000.0</td>\n",
       "      <td>4.089040</td>\n",
       "      <td>2.606612</td>\n",
       "      <td>0.0</td>\n",
       "      <td>2.00</td>\n",
       "      <td>4.0</td>\n",
       "      <td>6.00</td>\n",
       "      <td>8.0</td>\n",
       "    </tr>\n",
       "    <tr>\n",
       "      <th>regular_checkup_lasy_year</th>\n",
       "      <td>25000.0</td>\n",
       "      <td>0.773680</td>\n",
       "      <td>1.199449</td>\n",
       "      <td>0.0</td>\n",
       "      <td>0.00</td>\n",
       "      <td>0.0</td>\n",
       "      <td>1.00</td>\n",
       "      <td>5.0</td>\n",
       "    </tr>\n",
       "    <tr>\n",
       "      <th>adventure_sports</th>\n",
       "      <td>25000.0</td>\n",
       "      <td>0.081720</td>\n",
       "      <td>0.273943</td>\n",
       "      <td>0.0</td>\n",
       "      <td>0.00</td>\n",
       "      <td>0.0</td>\n",
       "      <td>0.00</td>\n",
       "      <td>1.0</td>\n",
       "    </tr>\n",
       "    <tr>\n",
       "      <th>visited_doctor_last_1_year</th>\n",
       "      <td>25000.0</td>\n",
       "      <td>3.104200</td>\n",
       "      <td>1.141663</td>\n",
       "      <td>0.0</td>\n",
       "      <td>2.00</td>\n",
       "      <td>3.0</td>\n",
       "      <td>4.00</td>\n",
       "      <td>12.0</td>\n",
       "    </tr>\n",
       "    <tr>\n",
       "      <th>daily_avg_steps</th>\n",
       "      <td>25000.0</td>\n",
       "      <td>5215.889320</td>\n",
       "      <td>1053.179748</td>\n",
       "      <td>2034.0</td>\n",
       "      <td>4543.00</td>\n",
       "      <td>5089.0</td>\n",
       "      <td>5730.00</td>\n",
       "      <td>11255.0</td>\n",
       "    </tr>\n",
       "    <tr>\n",
       "      <th>age</th>\n",
       "      <td>25000.0</td>\n",
       "      <td>44.918320</td>\n",
       "      <td>16.107492</td>\n",
       "      <td>16.0</td>\n",
       "      <td>31.00</td>\n",
       "      <td>45.0</td>\n",
       "      <td>59.00</td>\n",
       "      <td>74.0</td>\n",
       "    </tr>\n",
       "    <tr>\n",
       "      <th>heart_decs_history</th>\n",
       "      <td>25000.0</td>\n",
       "      <td>0.054640</td>\n",
       "      <td>0.227281</td>\n",
       "      <td>0.0</td>\n",
       "      <td>0.00</td>\n",
       "      <td>0.0</td>\n",
       "      <td>0.00</td>\n",
       "      <td>1.0</td>\n",
       "    </tr>\n",
       "    <tr>\n",
       "      <th>other_major_decs_history</th>\n",
       "      <td>25000.0</td>\n",
       "      <td>0.098160</td>\n",
       "      <td>0.297537</td>\n",
       "      <td>0.0</td>\n",
       "      <td>0.00</td>\n",
       "      <td>0.0</td>\n",
       "      <td>0.00</td>\n",
       "      <td>1.0</td>\n",
       "    </tr>\n",
       "    <tr>\n",
       "      <th>avg_glucose_level</th>\n",
       "      <td>25000.0</td>\n",
       "      <td>167.530000</td>\n",
       "      <td>62.729712</td>\n",
       "      <td>57.0</td>\n",
       "      <td>113.00</td>\n",
       "      <td>168.0</td>\n",
       "      <td>222.00</td>\n",
       "      <td>277.0</td>\n",
       "    </tr>\n",
       "    <tr>\n",
       "      <th>bmi</th>\n",
       "      <td>24010.0</td>\n",
       "      <td>31.393328</td>\n",
       "      <td>7.876535</td>\n",
       "      <td>12.3</td>\n",
       "      <td>26.10</td>\n",
       "      <td>30.5</td>\n",
       "      <td>35.60</td>\n",
       "      <td>100.6</td>\n",
       "    </tr>\n",
       "    <tr>\n",
       "      <th>Year_last_admitted</th>\n",
       "      <td>13119.0</td>\n",
       "      <td>2003.892217</td>\n",
       "      <td>7.581521</td>\n",
       "      <td>1990.0</td>\n",
       "      <td>1997.00</td>\n",
       "      <td>2004.0</td>\n",
       "      <td>2010.00</td>\n",
       "      <td>2018.0</td>\n",
       "    </tr>\n",
       "    <tr>\n",
       "      <th>weight</th>\n",
       "      <td>25000.0</td>\n",
       "      <td>71.610480</td>\n",
       "      <td>9.325183</td>\n",
       "      <td>52.0</td>\n",
       "      <td>64.00</td>\n",
       "      <td>72.0</td>\n",
       "      <td>78.00</td>\n",
       "      <td>96.0</td>\n",
       "    </tr>\n",
       "    <tr>\n",
       "      <th>weight_change_in_last_one_year</th>\n",
       "      <td>25000.0</td>\n",
       "      <td>2.517960</td>\n",
       "      <td>1.690335</td>\n",
       "      <td>0.0</td>\n",
       "      <td>1.00</td>\n",
       "      <td>3.0</td>\n",
       "      <td>4.00</td>\n",
       "      <td>6.0</td>\n",
       "    </tr>\n",
       "    <tr>\n",
       "      <th>fat_percentage</th>\n",
       "      <td>25000.0</td>\n",
       "      <td>28.812280</td>\n",
       "      <td>8.632382</td>\n",
       "      <td>11.0</td>\n",
       "      <td>21.00</td>\n",
       "      <td>31.0</td>\n",
       "      <td>36.00</td>\n",
       "      <td>42.0</td>\n",
       "    </tr>\n",
       "    <tr>\n",
       "      <th>insurance_cost</th>\n",
       "      <td>25000.0</td>\n",
       "      <td>27147.407680</td>\n",
       "      <td>14323.691832</td>\n",
       "      <td>2468.0</td>\n",
       "      <td>16042.00</td>\n",
       "      <td>27148.0</td>\n",
       "      <td>37020.00</td>\n",
       "      <td>67870.0</td>\n",
       "    </tr>\n",
       "  </tbody>\n",
       "</table>\n",
       "</div>"
      ],
      "text/plain": [
       "                                  count          mean           std     min  \\\n",
       "applicant_id                    25000.0  17499.500000   7217.022701  5000.0   \n",
       "years_of_insurance_with_us      25000.0      4.089040      2.606612     0.0   \n",
       "regular_checkup_lasy_year       25000.0      0.773680      1.199449     0.0   \n",
       "adventure_sports                25000.0      0.081720      0.273943     0.0   \n",
       "visited_doctor_last_1_year      25000.0      3.104200      1.141663     0.0   \n",
       "daily_avg_steps                 25000.0   5215.889320   1053.179748  2034.0   \n",
       "age                             25000.0     44.918320     16.107492    16.0   \n",
       "heart_decs_history              25000.0      0.054640      0.227281     0.0   \n",
       "other_major_decs_history        25000.0      0.098160      0.297537     0.0   \n",
       "avg_glucose_level               25000.0    167.530000     62.729712    57.0   \n",
       "bmi                             24010.0     31.393328      7.876535    12.3   \n",
       "Year_last_admitted              13119.0   2003.892217      7.581521  1990.0   \n",
       "weight                          25000.0     71.610480      9.325183    52.0   \n",
       "weight_change_in_last_one_year  25000.0      2.517960      1.690335     0.0   \n",
       "fat_percentage                  25000.0     28.812280      8.632382    11.0   \n",
       "insurance_cost                  25000.0  27147.407680  14323.691832  2468.0   \n",
       "\n",
       "                                     25%      50%       75%      max  \n",
       "applicant_id                    11249.75  17499.5  23749.25  29999.0  \n",
       "years_of_insurance_with_us          2.00      4.0      6.00      8.0  \n",
       "regular_checkup_lasy_year           0.00      0.0      1.00      5.0  \n",
       "adventure_sports                    0.00      0.0      0.00      1.0  \n",
       "visited_doctor_last_1_year          2.00      3.0      4.00     12.0  \n",
       "daily_avg_steps                  4543.00   5089.0   5730.00  11255.0  \n",
       "age                                31.00     45.0     59.00     74.0  \n",
       "heart_decs_history                  0.00      0.0      0.00      1.0  \n",
       "other_major_decs_history            0.00      0.0      0.00      1.0  \n",
       "avg_glucose_level                 113.00    168.0    222.00    277.0  \n",
       "bmi                                26.10     30.5     35.60    100.6  \n",
       "Year_last_admitted               1997.00   2004.0   2010.00   2018.0  \n",
       "weight                             64.00     72.0     78.00     96.0  \n",
       "weight_change_in_last_one_year      1.00      3.0      4.00      6.0  \n",
       "fat_percentage                     21.00     31.0     36.00     42.0  \n",
       "insurance_cost                  16042.00  27148.0  37020.00  67870.0  "
      ]
     },
     "execution_count": 5,
     "metadata": {},
     "output_type": "execute_result"
    }
   ],
   "source": [
    "df.describe().T"
   ]
  },
  {
   "cell_type": "code",
   "execution_count": 6,
   "id": "86e4764a-fda3-4173-b375-94721caa0d28",
   "metadata": {},
   "outputs": [
    {
     "data": {
      "text/plain": [
       "years_of_insurance_with_us\n",
       "3    2990\n",
       "8    2970\n",
       "5    2941\n",
       "0    2912\n",
       "7    2873\n",
       "1    2856\n",
       "4    2846\n",
       "6    2804\n",
       "2    1808\n",
       "Name: count, dtype: int64"
      ]
     },
     "execution_count": 6,
     "metadata": {},
     "output_type": "execute_result"
    }
   ],
   "source": [
    "df.years_of_insurance_with_us.value_counts()"
   ]
  },
  {
   "cell_type": "code",
   "execution_count": 7,
   "id": "96c98267-2277-4199-9385-389941c43878",
   "metadata": {},
   "outputs": [
    {
     "data": {
      "text/plain": [
       "regular_checkup_lasy_year\n",
       "0    15215\n",
       "1     4644\n",
       "2     2198\n",
       "3     1818\n",
       "4      777\n",
       "5      348\n",
       "Name: count, dtype: int64"
      ]
     },
     "execution_count": 7,
     "metadata": {},
     "output_type": "execute_result"
    }
   ],
   "source": [
    "df.regular_checkup_lasy_year.value_counts()"
   ]
  },
  {
   "cell_type": "code",
   "execution_count": 8,
   "id": "7e5e09d0-484f-4d5f-9daa-e4c193fd1487",
   "metadata": {},
   "outputs": [
    {
     "data": {
      "text/plain": [
       "adventure_sports\n",
       "0    22957\n",
       "1     2043\n",
       "Name: count, dtype: int64"
      ]
     },
     "execution_count": 8,
     "metadata": {},
     "output_type": "execute_result"
    }
   ],
   "source": [
    "df.adventure_sports.value_counts()"
   ]
  },
  {
   "cell_type": "code",
   "execution_count": 9,
   "id": "f4704e2b-7e7f-459e-b047-b3cadb4b07cd",
   "metadata": {},
   "outputs": [
    {
     "data": {
      "text/plain": [
       "Occupation\n",
       "Student     10169\n",
       "Business    10020\n",
       "Salried      4811\n",
       "Name: count, dtype: int64"
      ]
     },
     "execution_count": 9,
     "metadata": {},
     "output_type": "execute_result"
    }
   ],
   "source": [
    "df.Occupation.value_counts()"
   ]
  },
  {
   "cell_type": "code",
   "execution_count": 10,
   "id": "5efe5ad2-cebd-4a4f-84b6-95c8c88aca79",
   "metadata": {},
   "outputs": [
    {
     "data": {
      "text/plain": [
       "visited_doctor_last_1_year\n",
       "2     8669\n",
       "3     7094\n",
       "4     6708\n",
       "5     1265\n",
       "6      546\n",
       "1      432\n",
       "7      189\n",
       "8       76\n",
       "9       13\n",
       "10       6\n",
       "12       1\n",
       "0        1\n",
       "Name: count, dtype: int64"
      ]
     },
     "execution_count": 10,
     "metadata": {},
     "output_type": "execute_result"
    }
   ],
   "source": [
    "df.visited_doctor_last_1_year.value_counts()"
   ]
  },
  {
   "cell_type": "code",
   "execution_count": 11,
   "id": "82c27dbd-22d8-450f-80bd-ddb68e9eaff3",
   "metadata": {},
   "outputs": [
    {
     "data": {
      "text/plain": [
       "cholesterol_level\n",
       "150 to 175    8763\n",
       "125 to 150    8339\n",
       "200 to 225    2963\n",
       "175 to 200    2881\n",
       "225 to 250    2054\n",
       "Name: count, dtype: int64"
      ]
     },
     "execution_count": 11,
     "metadata": {},
     "output_type": "execute_result"
    }
   ],
   "source": [
    "df.cholesterol_level.value_counts()"
   ]
  },
  {
   "cell_type": "code",
   "execution_count": 12,
   "id": "9b3aa6d9-797f-4be3-b26c-95d727268563",
   "metadata": {},
   "outputs": [
    {
     "data": {
      "text/plain": [
       "daily_avg_steps\n",
       "4870     25\n",
       "4993     23\n",
       "5051     22\n",
       "5124     21\n",
       "5017     21\n",
       "         ..\n",
       "2755      1\n",
       "8193      1\n",
       "9565      1\n",
       "7855      1\n",
       "10777     1\n",
       "Name: count, Length: 4914, dtype: int64"
      ]
     },
     "execution_count": 12,
     "metadata": {},
     "output_type": "execute_result"
    }
   ],
   "source": [
    "df.daily_avg_steps.value_counts()"
   ]
  },
  {
   "cell_type": "code",
   "execution_count": 13,
   "id": "dad886a0-894e-4dc7-a0a9-741370f4591d",
   "metadata": {},
   "outputs": [
    {
     "data": {
      "text/plain": [
       "heart_decs_history\n",
       "0    23634\n",
       "1     1366\n",
       "Name: count, dtype: int64"
      ]
     },
     "execution_count": 13,
     "metadata": {},
     "output_type": "execute_result"
    }
   ],
   "source": [
    "df.heart_decs_history.value_counts()"
   ]
  },
  {
   "cell_type": "code",
   "execution_count": 14,
   "id": "c52f4af9-ecdb-432d-b3fb-7df08865c045",
   "metadata": {},
   "outputs": [
    {
     "data": {
      "text/plain": [
       "other_major_decs_history\n",
       "0    22546\n",
       "1     2454\n",
       "Name: count, dtype: int64"
      ]
     },
     "execution_count": 14,
     "metadata": {},
     "output_type": "execute_result"
    }
   ],
   "source": [
    "df.other_major_decs_history.value_counts()"
   ]
  },
  {
   "cell_type": "code",
   "execution_count": 15,
   "id": "bc768175-b793-4b32-be9c-24bc7fbedd12",
   "metadata": {},
   "outputs": [
    {
     "data": {
      "text/plain": [
       "avg_glucose_level\n",
       "243    143\n",
       "138    140\n",
       "88     135\n",
       "273    135\n",
       "97     134\n",
       "      ... \n",
       "275     72\n",
       "276     46\n",
       "58      38\n",
       "277     26\n",
       "57      19\n",
       "Name: count, Length: 221, dtype: int64"
      ]
     },
     "execution_count": 15,
     "metadata": {},
     "output_type": "execute_result"
    }
   ],
   "source": [
    "df.avg_glucose_level.value_counts()"
   ]
  },
  {
   "cell_type": "code",
   "execution_count": 16,
   "id": "e4ca4d25-1699-4d1d-8f32-2ed36d396555",
   "metadata": {},
   "outputs": [
    {
     "data": {
      "text/plain": [
       "bmi\n",
       "29.7    189\n",
       "30.7    186\n",
       "28.1    181\n",
       "30.6    171\n",
       "29.6    164\n",
       "       ... \n",
       "15.3      1\n",
       "52.1      1\n",
       "50.7      1\n",
       "59.5      1\n",
       "64.2      1\n",
       "Name: count, Length: 465, dtype: int64"
      ]
     },
     "execution_count": 16,
     "metadata": {},
     "output_type": "execute_result"
    }
   ],
   "source": [
    "df.bmi.value_counts()"
   ]
  },
  {
   "cell_type": "code",
   "execution_count": 17,
   "id": "e434d11e-9d91-41a3-8f9d-f61dc1c199fa",
   "metadata": {},
   "outputs": [
    {
     "data": {
      "text/plain": [
       "smoking_status\n",
       "never smoked       9249\n",
       "Unknown            7555\n",
       "formerly smoked    4329\n",
       "smokes             3867\n",
       "Name: count, dtype: int64"
      ]
     },
     "execution_count": 17,
     "metadata": {},
     "output_type": "execute_result"
    }
   ],
   "source": [
    "df.smoking_status.value_counts()"
   ]
  },
  {
   "cell_type": "code",
   "execution_count": 18,
   "id": "efc5b2d4-bafc-47a5-b735-480b5574bf5e",
   "metadata": {},
   "outputs": [
    {
     "data": {
      "text/plain": [
       "Year_last_admitted\n",
       "2010.0    557\n",
       "1995.0    538\n",
       "2007.0    532\n",
       "2002.0    520\n",
       "2000.0    516\n",
       "2013.0    516\n",
       "1994.0    514\n",
       "1998.0    514\n",
       "1997.0    513\n",
       "2009.0    512\n",
       "1993.0    508\n",
       "2001.0    507\n",
       "2003.0    504\n",
       "2008.0    503\n",
       "1999.0    498\n",
       "2014.0    496\n",
       "2005.0    491\n",
       "1996.0    487\n",
       "2012.0    483\n",
       "2004.0    481\n",
       "2011.0    475\n",
       "2006.0    472\n",
       "2015.0    449\n",
       "1992.0    382\n",
       "2016.0    370\n",
       "1991.0    276\n",
       "2017.0    253\n",
       "2018.0    130\n",
       "1990.0    122\n",
       "Name: count, dtype: int64"
      ]
     },
     "execution_count": 18,
     "metadata": {},
     "output_type": "execute_result"
    }
   ],
   "source": [
    "df.Year_last_admitted.value_counts()"
   ]
  },
  {
   "cell_type": "code",
   "execution_count": 19,
   "id": "8c286722-a4fe-4d36-a27e-ad991986052c",
   "metadata": {},
   "outputs": [
    {
     "data": {
      "text/plain": [
       "covered_by_any_other_company\n",
       "N    17418\n",
       "Y     7582\n",
       "Name: count, dtype: int64"
      ]
     },
     "execution_count": 19,
     "metadata": {},
     "output_type": "execute_result"
    }
   ],
   "source": [
    "df.covered_by_any_other_company.value_counts()"
   ]
  },
  {
   "cell_type": "code",
   "execution_count": 20,
   "id": "3e424e25-a15e-4107-9043-d1dffd53da5e",
   "metadata": {},
   "outputs": [
    {
     "data": {
      "text/plain": [
       "Alcohol\n",
       "Rare     13752\n",
       "No        8541\n",
       "Daily     2707\n",
       "Name: count, dtype: int64"
      ]
     },
     "execution_count": 20,
     "metadata": {},
     "output_type": "execute_result"
    }
   ],
   "source": [
    "df.Alcohol.value_counts()"
   ]
  },
  {
   "cell_type": "code",
   "execution_count": 21,
   "id": "a1336c80-5a42-441b-bec5-5569dc9e1fd2",
   "metadata": {},
   "outputs": [
    {
     "data": {
      "text/plain": [
       "exercise\n",
       "Moderate    14638\n",
       "Extreme      5248\n",
       "No           5114\n",
       "Name: count, dtype: int64"
      ]
     },
     "execution_count": 21,
     "metadata": {},
     "output_type": "execute_result"
    }
   ],
   "source": [
    "df.exercise.value_counts()"
   ]
  },
  {
   "cell_type": "code",
   "execution_count": 22,
   "id": "78a27428-d0e9-4c94-9329-614f590f1826",
   "metadata": {},
   "outputs": [
    {
     "data": {
      "text/plain": [
       "weight_change_in_last_one_year\n",
       "4    5076\n",
       "3    5006\n",
       "2    4037\n",
       "0    4012\n",
       "1    3925\n",
       "5    2036\n",
       "6     908\n",
       "Name: count, dtype: int64"
      ]
     },
     "execution_count": 22,
     "metadata": {},
     "output_type": "execute_result"
    }
   ],
   "source": [
    "df.weight_change_in_last_one_year.value_counts()"
   ]
  },
  {
   "cell_type": "code",
   "execution_count": 23,
   "id": "ae67212d-448a-49bc-8077-bc56b15ed900",
   "metadata": {},
   "outputs": [
    {
     "data": {
      "text/plain": [
       "fat_percentage\n",
       "36    2908\n",
       "33    1828\n",
       "29    1604\n",
       "38    1465\n",
       "24    1429\n",
       "37    1277\n",
       "16    1224\n",
       "21    1160\n",
       "22     947\n",
       "42     940\n",
       "19     932\n",
       "39     901\n",
       "20     899\n",
       "35     884\n",
       "25     689\n",
       "31     649\n",
       "34     628\n",
       "11     550\n",
       "27     497\n",
       "13     438\n",
       "12     431\n",
       "23     429\n",
       "40     404\n",
       "41     362\n",
       "32     309\n",
       "18     276\n",
       "15     250\n",
       "28     217\n",
       "26     201\n",
       "30     108\n",
       "14      99\n",
       "17      65\n",
       "Name: count, dtype: int64"
      ]
     },
     "execution_count": 23,
     "metadata": {},
     "output_type": "execute_result"
    }
   ],
   "source": [
    "df.fat_percentage.value_counts()"
   ]
  },
  {
   "cell_type": "code",
   "execution_count": 24,
   "id": "2d2f0228-1205-46a4-82ac-c7e5b47be91c",
   "metadata": {},
   "outputs": [],
   "source": [
    "df_Mod=df.copy()"
   ]
  },
  {
   "cell_type": "code",
   "execution_count": 25,
   "id": "a50b9c13-5acb-40d8-a00a-c35168b471c9",
   "metadata": {},
   "outputs": [
    {
     "data": {
      "text/html": [
       "<div>\n",
       "<style scoped>\n",
       "    .dataframe tbody tr th:only-of-type {\n",
       "        vertical-align: middle;\n",
       "    }\n",
       "\n",
       "    .dataframe tbody tr th {\n",
       "        vertical-align: top;\n",
       "    }\n",
       "\n",
       "    .dataframe thead th {\n",
       "        text-align: right;\n",
       "    }\n",
       "</style>\n",
       "<table border=\"1\" class=\"dataframe\">\n",
       "  <thead>\n",
       "    <tr style=\"text-align: right;\">\n",
       "      <th></th>\n",
       "      <th>applicant_id</th>\n",
       "      <th>years_of_insurance_with_us</th>\n",
       "      <th>regular_checkup_lasy_year</th>\n",
       "      <th>adventure_sports</th>\n",
       "      <th>Occupation</th>\n",
       "      <th>visited_doctor_last_1_year</th>\n",
       "      <th>cholesterol_level</th>\n",
       "      <th>daily_avg_steps</th>\n",
       "      <th>age</th>\n",
       "      <th>heart_decs_history</th>\n",
       "      <th>...</th>\n",
       "      <th>smoking_status</th>\n",
       "      <th>Year_last_admitted</th>\n",
       "      <th>Location</th>\n",
       "      <th>weight</th>\n",
       "      <th>covered_by_any_other_company</th>\n",
       "      <th>Alcohol</th>\n",
       "      <th>exercise</th>\n",
       "      <th>weight_change_in_last_one_year</th>\n",
       "      <th>fat_percentage</th>\n",
       "      <th>insurance_cost</th>\n",
       "    </tr>\n",
       "  </thead>\n",
       "  <tbody>\n",
       "    <tr>\n",
       "      <th>0</th>\n",
       "      <td>5000</td>\n",
       "      <td>3</td>\n",
       "      <td>1</td>\n",
       "      <td>1</td>\n",
       "      <td>Salried</td>\n",
       "      <td>2</td>\n",
       "      <td>125 to 150</td>\n",
       "      <td>4866</td>\n",
       "      <td>28</td>\n",
       "      <td>1</td>\n",
       "      <td>...</td>\n",
       "      <td>Unknown</td>\n",
       "      <td>NaN</td>\n",
       "      <td>Chennai</td>\n",
       "      <td>67</td>\n",
       "      <td>N</td>\n",
       "      <td>Rare</td>\n",
       "      <td>Moderate</td>\n",
       "      <td>1</td>\n",
       "      <td>25</td>\n",
       "      <td>20978</td>\n",
       "    </tr>\n",
       "    <tr>\n",
       "      <th>1</th>\n",
       "      <td>5001</td>\n",
       "      <td>0</td>\n",
       "      <td>0</td>\n",
       "      <td>0</td>\n",
       "      <td>Student</td>\n",
       "      <td>4</td>\n",
       "      <td>150 to 175</td>\n",
       "      <td>6411</td>\n",
       "      <td>50</td>\n",
       "      <td>0</td>\n",
       "      <td>...</td>\n",
       "      <td>formerly smoked</td>\n",
       "      <td>NaN</td>\n",
       "      <td>Jaipur</td>\n",
       "      <td>58</td>\n",
       "      <td>N</td>\n",
       "      <td>Rare</td>\n",
       "      <td>Moderate</td>\n",
       "      <td>3</td>\n",
       "      <td>27</td>\n",
       "      <td>6170</td>\n",
       "    </tr>\n",
       "    <tr>\n",
       "      <th>2</th>\n",
       "      <td>5002</td>\n",
       "      <td>1</td>\n",
       "      <td>0</td>\n",
       "      <td>0</td>\n",
       "      <td>Business</td>\n",
       "      <td>4</td>\n",
       "      <td>200 to 225</td>\n",
       "      <td>4509</td>\n",
       "      <td>68</td>\n",
       "      <td>0</td>\n",
       "      <td>...</td>\n",
       "      <td>formerly smoked</td>\n",
       "      <td>NaN</td>\n",
       "      <td>Jaipur</td>\n",
       "      <td>73</td>\n",
       "      <td>N</td>\n",
       "      <td>Daily</td>\n",
       "      <td>Extreme</td>\n",
       "      <td>0</td>\n",
       "      <td>32</td>\n",
       "      <td>28382</td>\n",
       "    </tr>\n",
       "    <tr>\n",
       "      <th>3</th>\n",
       "      <td>5003</td>\n",
       "      <td>7</td>\n",
       "      <td>4</td>\n",
       "      <td>0</td>\n",
       "      <td>Business</td>\n",
       "      <td>2</td>\n",
       "      <td>175 to 200</td>\n",
       "      <td>6214</td>\n",
       "      <td>51</td>\n",
       "      <td>0</td>\n",
       "      <td>...</td>\n",
       "      <td>Unknown</td>\n",
       "      <td>NaN</td>\n",
       "      <td>Chennai</td>\n",
       "      <td>71</td>\n",
       "      <td>Y</td>\n",
       "      <td>Rare</td>\n",
       "      <td>No</td>\n",
       "      <td>3</td>\n",
       "      <td>37</td>\n",
       "      <td>27148</td>\n",
       "    </tr>\n",
       "    <tr>\n",
       "      <th>4</th>\n",
       "      <td>5004</td>\n",
       "      <td>3</td>\n",
       "      <td>1</td>\n",
       "      <td>0</td>\n",
       "      <td>Student</td>\n",
       "      <td>2</td>\n",
       "      <td>150 to 175</td>\n",
       "      <td>4938</td>\n",
       "      <td>44</td>\n",
       "      <td>0</td>\n",
       "      <td>...</td>\n",
       "      <td>never smoked</td>\n",
       "      <td>2004.0</td>\n",
       "      <td>Bangalore</td>\n",
       "      <td>74</td>\n",
       "      <td>N</td>\n",
       "      <td>No</td>\n",
       "      <td>Extreme</td>\n",
       "      <td>0</td>\n",
       "      <td>34</td>\n",
       "      <td>29616</td>\n",
       "    </tr>\n",
       "  </tbody>\n",
       "</table>\n",
       "<p>5 rows × 24 columns</p>\n",
       "</div>"
      ],
      "text/plain": [
       "   applicant_id  years_of_insurance_with_us  regular_checkup_lasy_year  \\\n",
       "0          5000                           3                          1   \n",
       "1          5001                           0                          0   \n",
       "2          5002                           1                          0   \n",
       "3          5003                           7                          4   \n",
       "4          5004                           3                          1   \n",
       "\n",
       "   adventure_sports Occupation  visited_doctor_last_1_year cholesterol_level  \\\n",
       "0                 1    Salried                           2        125 to 150   \n",
       "1                 0    Student                           4        150 to 175   \n",
       "2                 0   Business                           4        200 to 225   \n",
       "3                 0   Business                           2        175 to 200   \n",
       "4                 0    Student                           2        150 to 175   \n",
       "\n",
       "   daily_avg_steps  age  heart_decs_history  ...   smoking_status  \\\n",
       "0             4866   28                   1  ...          Unknown   \n",
       "1             6411   50                   0  ...  formerly smoked   \n",
       "2             4509   68                   0  ...  formerly smoked   \n",
       "3             6214   51                   0  ...          Unknown   \n",
       "4             4938   44                   0  ...     never smoked   \n",
       "\n",
       "  Year_last_admitted   Location  weight covered_by_any_other_company  Alcohol  \\\n",
       "0                NaN    Chennai      67                            N     Rare   \n",
       "1                NaN     Jaipur      58                            N     Rare   \n",
       "2                NaN     Jaipur      73                            N    Daily   \n",
       "3                NaN    Chennai      71                            Y     Rare   \n",
       "4             2004.0  Bangalore      74                            N       No   \n",
       "\n",
       "   exercise  weight_change_in_last_one_year fat_percentage insurance_cost  \n",
       "0  Moderate                               1             25          20978  \n",
       "1  Moderate                               3             27           6170  \n",
       "2   Extreme                               0             32          28382  \n",
       "3        No                               3             37          27148  \n",
       "4   Extreme                               0             34          29616  \n",
       "\n",
       "[5 rows x 24 columns]"
      ]
     },
     "execution_count": 25,
     "metadata": {},
     "output_type": "execute_result"
    }
   ],
   "source": [
    "df_Mod.head()"
   ]
  },
  {
   "cell_type": "code",
   "execution_count": 26,
   "id": "72a0217f-40d2-46ce-a0d9-5fa3b2e79daf",
   "metadata": {},
   "outputs": [
    {
     "data": {
      "text/html": [
       "<div>\n",
       "<style scoped>\n",
       "    .dataframe tbody tr th:only-of-type {\n",
       "        vertical-align: middle;\n",
       "    }\n",
       "\n",
       "    .dataframe tbody tr th {\n",
       "        vertical-align: top;\n",
       "    }\n",
       "\n",
       "    .dataframe thead th {\n",
       "        text-align: right;\n",
       "    }\n",
       "</style>\n",
       "<table border=\"1\" class=\"dataframe\">\n",
       "  <thead>\n",
       "    <tr style=\"text-align: right;\">\n",
       "      <th></th>\n",
       "      <th>applicant_id</th>\n",
       "      <th>years_of_insurance_with_us</th>\n",
       "      <th>regular_checkup_lasy_year</th>\n",
       "      <th>adventure_sports</th>\n",
       "      <th>visited_doctor_last_1_year</th>\n",
       "      <th>daily_avg_steps</th>\n",
       "      <th>age</th>\n",
       "      <th>heart_decs_history</th>\n",
       "      <th>other_major_decs_history</th>\n",
       "      <th>avg_glucose_level</th>\n",
       "      <th>bmi</th>\n",
       "      <th>Year_last_admitted</th>\n",
       "      <th>weight</th>\n",
       "      <th>weight_change_in_last_one_year</th>\n",
       "      <th>fat_percentage</th>\n",
       "      <th>insurance_cost</th>\n",
       "    </tr>\n",
       "  </thead>\n",
       "  <tbody>\n",
       "    <tr>\n",
       "      <th>count</th>\n",
       "      <td>25000.000000</td>\n",
       "      <td>25000.000000</td>\n",
       "      <td>25000.000000</td>\n",
       "      <td>25000.000000</td>\n",
       "      <td>25000.000000</td>\n",
       "      <td>25000.000000</td>\n",
       "      <td>25000.000000</td>\n",
       "      <td>25000.000000</td>\n",
       "      <td>25000.000000</td>\n",
       "      <td>25000.000000</td>\n",
       "      <td>24010.000000</td>\n",
       "      <td>13119.000000</td>\n",
       "      <td>25000.000000</td>\n",
       "      <td>25000.000000</td>\n",
       "      <td>25000.000000</td>\n",
       "      <td>25000.000000</td>\n",
       "    </tr>\n",
       "    <tr>\n",
       "      <th>mean</th>\n",
       "      <td>17499.500000</td>\n",
       "      <td>4.089040</td>\n",
       "      <td>0.773680</td>\n",
       "      <td>0.081720</td>\n",
       "      <td>3.104200</td>\n",
       "      <td>5215.889320</td>\n",
       "      <td>44.918320</td>\n",
       "      <td>0.054640</td>\n",
       "      <td>0.098160</td>\n",
       "      <td>167.530000</td>\n",
       "      <td>31.393328</td>\n",
       "      <td>2003.892217</td>\n",
       "      <td>71.610480</td>\n",
       "      <td>2.517960</td>\n",
       "      <td>28.812280</td>\n",
       "      <td>27147.407680</td>\n",
       "    </tr>\n",
       "    <tr>\n",
       "      <th>std</th>\n",
       "      <td>7217.022701</td>\n",
       "      <td>2.606612</td>\n",
       "      <td>1.199449</td>\n",
       "      <td>0.273943</td>\n",
       "      <td>1.141663</td>\n",
       "      <td>1053.179748</td>\n",
       "      <td>16.107492</td>\n",
       "      <td>0.227281</td>\n",
       "      <td>0.297537</td>\n",
       "      <td>62.729712</td>\n",
       "      <td>7.876535</td>\n",
       "      <td>7.581521</td>\n",
       "      <td>9.325183</td>\n",
       "      <td>1.690335</td>\n",
       "      <td>8.632382</td>\n",
       "      <td>14323.691832</td>\n",
       "    </tr>\n",
       "    <tr>\n",
       "      <th>min</th>\n",
       "      <td>5000.000000</td>\n",
       "      <td>0.000000</td>\n",
       "      <td>0.000000</td>\n",
       "      <td>0.000000</td>\n",
       "      <td>0.000000</td>\n",
       "      <td>2034.000000</td>\n",
       "      <td>16.000000</td>\n",
       "      <td>0.000000</td>\n",
       "      <td>0.000000</td>\n",
       "      <td>57.000000</td>\n",
       "      <td>12.300000</td>\n",
       "      <td>1990.000000</td>\n",
       "      <td>52.000000</td>\n",
       "      <td>0.000000</td>\n",
       "      <td>11.000000</td>\n",
       "      <td>2468.000000</td>\n",
       "    </tr>\n",
       "    <tr>\n",
       "      <th>25%</th>\n",
       "      <td>11249.750000</td>\n",
       "      <td>2.000000</td>\n",
       "      <td>0.000000</td>\n",
       "      <td>0.000000</td>\n",
       "      <td>2.000000</td>\n",
       "      <td>4543.000000</td>\n",
       "      <td>31.000000</td>\n",
       "      <td>0.000000</td>\n",
       "      <td>0.000000</td>\n",
       "      <td>113.000000</td>\n",
       "      <td>26.100000</td>\n",
       "      <td>1997.000000</td>\n",
       "      <td>64.000000</td>\n",
       "      <td>1.000000</td>\n",
       "      <td>21.000000</td>\n",
       "      <td>16042.000000</td>\n",
       "    </tr>\n",
       "    <tr>\n",
       "      <th>50%</th>\n",
       "      <td>17499.500000</td>\n",
       "      <td>4.000000</td>\n",
       "      <td>0.000000</td>\n",
       "      <td>0.000000</td>\n",
       "      <td>3.000000</td>\n",
       "      <td>5089.000000</td>\n",
       "      <td>45.000000</td>\n",
       "      <td>0.000000</td>\n",
       "      <td>0.000000</td>\n",
       "      <td>168.000000</td>\n",
       "      <td>30.500000</td>\n",
       "      <td>2004.000000</td>\n",
       "      <td>72.000000</td>\n",
       "      <td>3.000000</td>\n",
       "      <td>31.000000</td>\n",
       "      <td>27148.000000</td>\n",
       "    </tr>\n",
       "    <tr>\n",
       "      <th>75%</th>\n",
       "      <td>23749.250000</td>\n",
       "      <td>6.000000</td>\n",
       "      <td>1.000000</td>\n",
       "      <td>0.000000</td>\n",
       "      <td>4.000000</td>\n",
       "      <td>5730.000000</td>\n",
       "      <td>59.000000</td>\n",
       "      <td>0.000000</td>\n",
       "      <td>0.000000</td>\n",
       "      <td>222.000000</td>\n",
       "      <td>35.600000</td>\n",
       "      <td>2010.000000</td>\n",
       "      <td>78.000000</td>\n",
       "      <td>4.000000</td>\n",
       "      <td>36.000000</td>\n",
       "      <td>37020.000000</td>\n",
       "    </tr>\n",
       "    <tr>\n",
       "      <th>max</th>\n",
       "      <td>29999.000000</td>\n",
       "      <td>8.000000</td>\n",
       "      <td>5.000000</td>\n",
       "      <td>1.000000</td>\n",
       "      <td>12.000000</td>\n",
       "      <td>11255.000000</td>\n",
       "      <td>74.000000</td>\n",
       "      <td>1.000000</td>\n",
       "      <td>1.000000</td>\n",
       "      <td>277.000000</td>\n",
       "      <td>100.600000</td>\n",
       "      <td>2018.000000</td>\n",
       "      <td>96.000000</td>\n",
       "      <td>6.000000</td>\n",
       "      <td>42.000000</td>\n",
       "      <td>67870.000000</td>\n",
       "    </tr>\n",
       "  </tbody>\n",
       "</table>\n",
       "</div>"
      ],
      "text/plain": [
       "       applicant_id  years_of_insurance_with_us  regular_checkup_lasy_year  \\\n",
       "count  25000.000000                25000.000000               25000.000000   \n",
       "mean   17499.500000                    4.089040                   0.773680   \n",
       "std     7217.022701                    2.606612                   1.199449   \n",
       "min     5000.000000                    0.000000                   0.000000   \n",
       "25%    11249.750000                    2.000000                   0.000000   \n",
       "50%    17499.500000                    4.000000                   0.000000   \n",
       "75%    23749.250000                    6.000000                   1.000000   \n",
       "max    29999.000000                    8.000000                   5.000000   \n",
       "\n",
       "       adventure_sports  visited_doctor_last_1_year  daily_avg_steps  \\\n",
       "count      25000.000000                25000.000000     25000.000000   \n",
       "mean           0.081720                    3.104200      5215.889320   \n",
       "std            0.273943                    1.141663      1053.179748   \n",
       "min            0.000000                    0.000000      2034.000000   \n",
       "25%            0.000000                    2.000000      4543.000000   \n",
       "50%            0.000000                    3.000000      5089.000000   \n",
       "75%            0.000000                    4.000000      5730.000000   \n",
       "max            1.000000                   12.000000     11255.000000   \n",
       "\n",
       "                age  heart_decs_history  other_major_decs_history  \\\n",
       "count  25000.000000        25000.000000              25000.000000   \n",
       "mean      44.918320            0.054640                  0.098160   \n",
       "std       16.107492            0.227281                  0.297537   \n",
       "min       16.000000            0.000000                  0.000000   \n",
       "25%       31.000000            0.000000                  0.000000   \n",
       "50%       45.000000            0.000000                  0.000000   \n",
       "75%       59.000000            0.000000                  0.000000   \n",
       "max       74.000000            1.000000                  1.000000   \n",
       "\n",
       "       avg_glucose_level           bmi  Year_last_admitted        weight  \\\n",
       "count       25000.000000  24010.000000        13119.000000  25000.000000   \n",
       "mean          167.530000     31.393328         2003.892217     71.610480   \n",
       "std            62.729712      7.876535            7.581521      9.325183   \n",
       "min            57.000000     12.300000         1990.000000     52.000000   \n",
       "25%           113.000000     26.100000         1997.000000     64.000000   \n",
       "50%           168.000000     30.500000         2004.000000     72.000000   \n",
       "75%           222.000000     35.600000         2010.000000     78.000000   \n",
       "max           277.000000    100.600000         2018.000000     96.000000   \n",
       "\n",
       "       weight_change_in_last_one_year  fat_percentage  insurance_cost  \n",
       "count                    25000.000000    25000.000000    25000.000000  \n",
       "mean                         2.517960       28.812280    27147.407680  \n",
       "std                          1.690335        8.632382    14323.691832  \n",
       "min                          0.000000       11.000000     2468.000000  \n",
       "25%                          1.000000       21.000000    16042.000000  \n",
       "50%                          3.000000       31.000000    27148.000000  \n",
       "75%                          4.000000       36.000000    37020.000000  \n",
       "max                          6.000000       42.000000    67870.000000  "
      ]
     },
     "execution_count": 26,
     "metadata": {},
     "output_type": "execute_result"
    }
   ],
   "source": [
    "df_Mod.describe()"
   ]
  },
  {
   "cell_type": "code",
   "execution_count": 27,
   "id": "7654528c-8e27-4da3-8ffe-cbe4a59a2efd",
   "metadata": {},
   "outputs": [
    {
     "name": "stdout",
     "output_type": "stream",
     "text": [
      "<class 'pandas.core.frame.DataFrame'>\n",
      "RangeIndex: 25000 entries, 0 to 24999\n",
      "Data columns (total 24 columns):\n",
      " #   Column                          Non-Null Count  Dtype  \n",
      "---  ------                          --------------  -----  \n",
      " 0   applicant_id                    25000 non-null  int64  \n",
      " 1   years_of_insurance_with_us      25000 non-null  int64  \n",
      " 2   regular_checkup_lasy_year       25000 non-null  int64  \n",
      " 3   adventure_sports                25000 non-null  int64  \n",
      " 4   Occupation                      25000 non-null  object \n",
      " 5   visited_doctor_last_1_year      25000 non-null  int64  \n",
      " 6   cholesterol_level               25000 non-null  object \n",
      " 7   daily_avg_steps                 25000 non-null  int64  \n",
      " 8   age                             25000 non-null  int64  \n",
      " 9   heart_decs_history              25000 non-null  int64  \n",
      " 10  other_major_decs_history        25000 non-null  int64  \n",
      " 11  Gender                          25000 non-null  object \n",
      " 12  avg_glucose_level               25000 non-null  int64  \n",
      " 13  bmi                             24010 non-null  float64\n",
      " 14  smoking_status                  25000 non-null  object \n",
      " 15  Year_last_admitted              13119 non-null  float64\n",
      " 16  Location                        25000 non-null  object \n",
      " 17  weight                          25000 non-null  int64  \n",
      " 18  covered_by_any_other_company    25000 non-null  object \n",
      " 19  Alcohol                         25000 non-null  object \n",
      " 20  exercise                        25000 non-null  object \n",
      " 21  weight_change_in_last_one_year  25000 non-null  int64  \n",
      " 22  fat_percentage                  25000 non-null  int64  \n",
      " 23  insurance_cost                  25000 non-null  int64  \n",
      "dtypes: float64(2), int64(14), object(8)\n",
      "memory usage: 4.6+ MB\n"
     ]
    }
   ],
   "source": [
    "df_Mod.info()"
   ]
  },
  {
   "cell_type": "code",
   "execution_count": 29,
   "id": "fd17a0eb-cf7f-4c52-93f0-ea5906a0b729",
   "metadata": {},
   "outputs": [],
   "source": [
    "df_Mod.drop(['applicant_id'], axis=1, inplace=True)"
   ]
  },
  {
   "cell_type": "code",
   "execution_count": 30,
   "id": "eeab8213-916d-486f-937b-64dc05a91ceb",
   "metadata": {},
   "outputs": [
    {
     "name": "stdout",
     "output_type": "stream",
     "text": [
      "<class 'pandas.core.frame.DataFrame'>\n",
      "RangeIndex: 25000 entries, 0 to 24999\n",
      "Data columns (total 23 columns):\n",
      " #   Column                          Non-Null Count  Dtype  \n",
      "---  ------                          --------------  -----  \n",
      " 0   years_of_insurance_with_us      25000 non-null  int64  \n",
      " 1   regular_checkup_lasy_year       25000 non-null  int64  \n",
      " 2   adventure_sports                25000 non-null  int64  \n",
      " 3   Occupation                      25000 non-null  object \n",
      " 4   visited_doctor_last_1_year      25000 non-null  int64  \n",
      " 5   cholesterol_level               25000 non-null  object \n",
      " 6   daily_avg_steps                 25000 non-null  int64  \n",
      " 7   age                             25000 non-null  int64  \n",
      " 8   heart_decs_history              25000 non-null  int64  \n",
      " 9   other_major_decs_history        25000 non-null  int64  \n",
      " 10  Gender                          25000 non-null  object \n",
      " 11  avg_glucose_level               25000 non-null  int64  \n",
      " 12  bmi                             24010 non-null  float64\n",
      " 13  smoking_status                  25000 non-null  object \n",
      " 14  Year_last_admitted              13119 non-null  float64\n",
      " 15  Location                        25000 non-null  object \n",
      " 16  weight                          25000 non-null  int64  \n",
      " 17  covered_by_any_other_company    25000 non-null  object \n",
      " 18  Alcohol                         25000 non-null  object \n",
      " 19  exercise                        25000 non-null  object \n",
      " 20  weight_change_in_last_one_year  25000 non-null  int64  \n",
      " 21  fat_percentage                  25000 non-null  int64  \n",
      " 22  insurance_cost                  25000 non-null  int64  \n",
      "dtypes: float64(2), int64(13), object(8)\n",
      "memory usage: 4.4+ MB\n"
     ]
    }
   ],
   "source": [
    "df_Mod.info()"
   ]
  },
  {
   "cell_type": "markdown",
   "id": "7cbfed8f-b0ff-4147-a701-2fa6b32b1508",
   "metadata": {},
   "source": [
    "Dropping Year_last_admitted since it has more than 30% missing values"
   ]
  },
  {
   "cell_type": "code",
   "execution_count": 31,
   "id": "862eea1e-d3d7-4540-8677-b1c5bc3db74d",
   "metadata": {},
   "outputs": [],
   "source": [
    "df_Mod.drop(['Year_last_admitted'], axis=1, inplace=True)"
   ]
  },
  {
   "cell_type": "code",
   "execution_count": 32,
   "id": "f94a87ba-a525-42b2-9983-bee140b5b1df",
   "metadata": {},
   "outputs": [
    {
     "name": "stdout",
     "output_type": "stream",
     "text": [
      "<class 'pandas.core.frame.DataFrame'>\n",
      "RangeIndex: 25000 entries, 0 to 24999\n",
      "Data columns (total 22 columns):\n",
      " #   Column                          Non-Null Count  Dtype  \n",
      "---  ------                          --------------  -----  \n",
      " 0   years_of_insurance_with_us      25000 non-null  int64  \n",
      " 1   regular_checkup_lasy_year       25000 non-null  int64  \n",
      " 2   adventure_sports                25000 non-null  int64  \n",
      " 3   Occupation                      25000 non-null  object \n",
      " 4   visited_doctor_last_1_year      25000 non-null  int64  \n",
      " 5   cholesterol_level               25000 non-null  object \n",
      " 6   daily_avg_steps                 25000 non-null  int64  \n",
      " 7   age                             25000 non-null  int64  \n",
      " 8   heart_decs_history              25000 non-null  int64  \n",
      " 9   other_major_decs_history        25000 non-null  int64  \n",
      " 10  Gender                          25000 non-null  object \n",
      " 11  avg_glucose_level               25000 non-null  int64  \n",
      " 12  bmi                             24010 non-null  float64\n",
      " 13  smoking_status                  25000 non-null  object \n",
      " 14  Location                        25000 non-null  object \n",
      " 15  weight                          25000 non-null  int64  \n",
      " 16  covered_by_any_other_company    25000 non-null  object \n",
      " 17  Alcohol                         25000 non-null  object \n",
      " 18  exercise                        25000 non-null  object \n",
      " 19  weight_change_in_last_one_year  25000 non-null  int64  \n",
      " 20  fat_percentage                  25000 non-null  int64  \n",
      " 21  insurance_cost                  25000 non-null  int64  \n",
      "dtypes: float64(1), int64(13), object(8)\n",
      "memory usage: 4.2+ MB\n"
     ]
    }
   ],
   "source": [
    "df_Mod.info()"
   ]
  },
  {
   "cell_type": "code",
   "execution_count": 33,
   "id": "3e7e6dba-1e6c-4ca7-9cc0-859e62214d9a",
   "metadata": {},
   "outputs": [],
   "source": [
    "df_Mod = df_Mod.dropna()"
   ]
  },
  {
   "cell_type": "code",
   "execution_count": 34,
   "id": "72887dd7-41fd-4ba9-af44-ffdcf242cff7",
   "metadata": {},
   "outputs": [
    {
     "name": "stdout",
     "output_type": "stream",
     "text": [
      "<class 'pandas.core.frame.DataFrame'>\n",
      "Index: 24010 entries, 0 to 24999\n",
      "Data columns (total 22 columns):\n",
      " #   Column                          Non-Null Count  Dtype  \n",
      "---  ------                          --------------  -----  \n",
      " 0   years_of_insurance_with_us      24010 non-null  int64  \n",
      " 1   regular_checkup_lasy_year       24010 non-null  int64  \n",
      " 2   adventure_sports                24010 non-null  int64  \n",
      " 3   Occupation                      24010 non-null  object \n",
      " 4   visited_doctor_last_1_year      24010 non-null  int64  \n",
      " 5   cholesterol_level               24010 non-null  object \n",
      " 6   daily_avg_steps                 24010 non-null  int64  \n",
      " 7   age                             24010 non-null  int64  \n",
      " 8   heart_decs_history              24010 non-null  int64  \n",
      " 9   other_major_decs_history        24010 non-null  int64  \n",
      " 10  Gender                          24010 non-null  object \n",
      " 11  avg_glucose_level               24010 non-null  int64  \n",
      " 12  bmi                             24010 non-null  float64\n",
      " 13  smoking_status                  24010 non-null  object \n",
      " 14  Location                        24010 non-null  object \n",
      " 15  weight                          24010 non-null  int64  \n",
      " 16  covered_by_any_other_company    24010 non-null  object \n",
      " 17  Alcohol                         24010 non-null  object \n",
      " 18  exercise                        24010 non-null  object \n",
      " 19  weight_change_in_last_one_year  24010 non-null  int64  \n",
      " 20  fat_percentage                  24010 non-null  int64  \n",
      " 21  insurance_cost                  24010 non-null  int64  \n",
      "dtypes: float64(1), int64(13), object(8)\n",
      "memory usage: 4.2+ MB\n"
     ]
    }
   ],
   "source": [
    "df_Mod.info()"
   ]
  },
  {
   "cell_type": "code",
   "execution_count": 35,
   "id": "56313898-ec5c-4da7-ac6c-7d1f5fb67136",
   "metadata": {},
   "outputs": [],
   "source": [
    "df_Mod = df_Mod.reset_index(drop=True)"
   ]
  },
  {
   "cell_type": "code",
   "execution_count": 36,
   "id": "cbdff0bb-043a-4d70-98c3-f0b3028fc309",
   "metadata": {},
   "outputs": [
    {
     "name": "stdout",
     "output_type": "stream",
     "text": [
      "<class 'pandas.core.frame.DataFrame'>\n",
      "RangeIndex: 24010 entries, 0 to 24009\n",
      "Data columns (total 22 columns):\n",
      " #   Column                          Non-Null Count  Dtype  \n",
      "---  ------                          --------------  -----  \n",
      " 0   years_of_insurance_with_us      24010 non-null  int64  \n",
      " 1   regular_checkup_lasy_year       24010 non-null  int64  \n",
      " 2   adventure_sports                24010 non-null  int64  \n",
      " 3   Occupation                      24010 non-null  object \n",
      " 4   visited_doctor_last_1_year      24010 non-null  int64  \n",
      " 5   cholesterol_level               24010 non-null  object \n",
      " 6   daily_avg_steps                 24010 non-null  int64  \n",
      " 7   age                             24010 non-null  int64  \n",
      " 8   heart_decs_history              24010 non-null  int64  \n",
      " 9   other_major_decs_history        24010 non-null  int64  \n",
      " 10  Gender                          24010 non-null  object \n",
      " 11  avg_glucose_level               24010 non-null  int64  \n",
      " 12  bmi                             24010 non-null  float64\n",
      " 13  smoking_status                  24010 non-null  object \n",
      " 14  Location                        24010 non-null  object \n",
      " 15  weight                          24010 non-null  int64  \n",
      " 16  covered_by_any_other_company    24010 non-null  object \n",
      " 17  Alcohol                         24010 non-null  object \n",
      " 18  exercise                        24010 non-null  object \n",
      " 19  weight_change_in_last_one_year  24010 non-null  int64  \n",
      " 20  fat_percentage                  24010 non-null  int64  \n",
      " 21  insurance_cost                  24010 non-null  int64  \n",
      "dtypes: float64(1), int64(13), object(8)\n",
      "memory usage: 4.0+ MB\n"
     ]
    }
   ],
   "source": [
    "df_Mod.info()"
   ]
  },
  {
   "cell_type": "code",
   "execution_count": 37,
   "id": "f751d682-0033-4339-84cb-05b96dc6d3a5",
   "metadata": {},
   "outputs": [],
   "source": [
    "df_Mod['adventure_sports']=pd.Categorical(df_Mod.adventure_sports)"
   ]
  },
  {
   "cell_type": "code",
   "execution_count": 38,
   "id": "3067aad3-674a-4492-bd48-65b1f6844b79",
   "metadata": {},
   "outputs": [
    {
     "data": {
      "text/plain": [
       "years_of_insurance_with_us           int64\n",
       "regular_checkup_lasy_year            int64\n",
       "adventure_sports                  category\n",
       "Occupation                          object\n",
       "visited_doctor_last_1_year           int64\n",
       "cholesterol_level                   object\n",
       "daily_avg_steps                      int64\n",
       "age                                  int64\n",
       "heart_decs_history                   int64\n",
       "other_major_decs_history             int64\n",
       "Gender                              object\n",
       "avg_glucose_level                    int64\n",
       "bmi                                float64\n",
       "smoking_status                      object\n",
       "Location                            object\n",
       "weight                               int64\n",
       "covered_by_any_other_company        object\n",
       "Alcohol                             object\n",
       "exercise                            object\n",
       "weight_change_in_last_one_year       int64\n",
       "fat_percentage                       int64\n",
       "insurance_cost                       int64\n",
       "dtype: object"
      ]
     },
     "execution_count": 38,
     "metadata": {},
     "output_type": "execute_result"
    }
   ],
   "source": [
    "df_Mod.dtypes"
   ]
  },
  {
   "cell_type": "code",
   "execution_count": 39,
   "id": "472a0431-4551-4978-b682-a9f2f2241c32",
   "metadata": {},
   "outputs": [],
   "source": [
    "df_Mod['Occupation']=pd.Categorical(df_Mod.Occupation)"
   ]
  },
  {
   "cell_type": "code",
   "execution_count": 40,
   "id": "c128b709-5cb9-40e5-a7c6-d861e0436bef",
   "metadata": {
    "scrolled": true
   },
   "outputs": [
    {
     "data": {
      "text/plain": [
       "years_of_insurance_with_us           int64\n",
       "regular_checkup_lasy_year            int64\n",
       "adventure_sports                  category\n",
       "Occupation                        category\n",
       "visited_doctor_last_1_year           int64\n",
       "cholesterol_level                   object\n",
       "daily_avg_steps                      int64\n",
       "age                                  int64\n",
       "heart_decs_history                   int64\n",
       "other_major_decs_history             int64\n",
       "Gender                              object\n",
       "avg_glucose_level                    int64\n",
       "bmi                                float64\n",
       "smoking_status                      object\n",
       "Location                            object\n",
       "weight                               int64\n",
       "covered_by_any_other_company        object\n",
       "Alcohol                             object\n",
       "exercise                            object\n",
       "weight_change_in_last_one_year       int64\n",
       "fat_percentage                       int64\n",
       "insurance_cost                       int64\n",
       "dtype: object"
      ]
     },
     "execution_count": 40,
     "metadata": {},
     "output_type": "execute_result"
    }
   ],
   "source": [
    "df_Mod.dtypes"
   ]
  },
  {
   "cell_type": "code",
   "execution_count": 43,
   "id": "67e9c9cc-e2eb-42ed-833f-1c55f802d52a",
   "metadata": {},
   "outputs": [],
   "source": [
    "df_Mod['cholesterol_level']=pd.Categorical(df_Mod.cholesterol_level)\n",
    "df_Mod['heart_decs_history']=pd.Categorical(df_Mod.heart_decs_history)\n",
    "df_Mod['other_major_decs_history']=pd.Categorical(df_Mod.other_major_decs_history)\n",
    "df_Mod['Gender']=pd.Categorical(df_Mod.Gender)\n",
    "df_Mod['smoking_status']=pd.Categorical(df_Mod.smoking_status)\n",
    "df_Mod['Location']=pd.Categorical(df_Mod.Location)\n",
    "df_Mod['covered_by_any_other_company']=pd.Categorical(df_Mod.covered_by_any_other_company)\n",
    "df_Mod['Alcohol']=pd.Categorical(df_Mod.Alcohol)\n",
    "df_Mod['exercise']=pd.Categorical(df_Mod.exercise)\n",
    "df_Mod['weight_change_in_last_one_year']=pd.Categorical(df_Mod.weight_change_in_last_one_year)"
   ]
  },
  {
   "cell_type": "code",
   "execution_count": 44,
   "id": "8702f463-47da-4f29-910a-a01d0cfd0a82",
   "metadata": {},
   "outputs": [
    {
     "name": "stdout",
     "output_type": "stream",
     "text": [
      "<class 'pandas.core.frame.DataFrame'>\n",
      "RangeIndex: 24010 entries, 0 to 24009\n",
      "Data columns (total 22 columns):\n",
      " #   Column                          Non-Null Count  Dtype   \n",
      "---  ------                          --------------  -----   \n",
      " 0   years_of_insurance_with_us      24010 non-null  int64   \n",
      " 1   regular_checkup_lasy_year       24010 non-null  int64   \n",
      " 2   adventure_sports                24010 non-null  category\n",
      " 3   Occupation                      24010 non-null  category\n",
      " 4   visited_doctor_last_1_year      24010 non-null  int64   \n",
      " 5   cholesterol_level               24010 non-null  category\n",
      " 6   daily_avg_steps                 24010 non-null  int64   \n",
      " 7   age                             24010 non-null  int64   \n",
      " 8   heart_decs_history              24010 non-null  category\n",
      " 9   other_major_decs_history        24010 non-null  category\n",
      " 10  Gender                          24010 non-null  category\n",
      " 11  avg_glucose_level               24010 non-null  int64   \n",
      " 12  bmi                             24010 non-null  float64 \n",
      " 13  smoking_status                  24010 non-null  category\n",
      " 14  Location                        24010 non-null  category\n",
      " 15  weight                          24010 non-null  int64   \n",
      " 16  covered_by_any_other_company    24010 non-null  category\n",
      " 17  Alcohol                         24010 non-null  category\n",
      " 18  exercise                        24010 non-null  category\n",
      " 19  weight_change_in_last_one_year  24010 non-null  category\n",
      " 20  fat_percentage                  24010 non-null  int64   \n",
      " 21  insurance_cost                  24010 non-null  int64   \n",
      "dtypes: category(12), float64(1), int64(9)\n",
      "memory usage: 2.1 MB\n"
     ]
    }
   ],
   "source": [
    "df_Mod.info()"
   ]
  },
  {
   "cell_type": "code",
   "execution_count": 52,
   "id": "3236381d-261f-45d0-b942-2874473c196a",
   "metadata": {},
   "outputs": [],
   "source": [
    "#boxplot = df_Mod.boxplot(grid=False, rot=45, fontsize=15)  "
   ]
  },
  {
   "cell_type": "code",
   "execution_count": 63,
   "id": "70f5605e-d22e-4999-86e3-59f018a35784",
   "metadata": {},
   "outputs": [
    {
     "data": {
      "image/png": "[encoded data removed]",
      "text/plain": [
       "<Figure size 640x480 with 1 Axes>"
      ]
     },
     "metadata": {},
     "output_type": "display_data"
    }
   ],
   "source": [
    "import matplotlib.pyplot as plt\n",
    "#df_Mod['years_of_insurance_with_us'].plot(kind='box')\n",
    "#boxplot = df_Mod.boxplot(grid=False, rot=45, fontsize=15)  \n",
    "plt.boxplot(df_Mod['regular_checkup_lasy_year'], labels=['regular_checkup_lasy_year'])\n",
    "plt.show()"
   ]
  },
  {
   "cell_type": "code",
   "execution_count": 64,
   "id": "a0fd8d53-a8d7-4389-9ed7-e65ca7b0736b",
   "metadata": {},
   "outputs": [
    {
     "data": {
      "image/png": "[encoded data removed]",
      "text/plain": [
       "<Figure size 640x480 with 1 Axes>"
      ]
     },
     "metadata": {},
     "output_type": "display_data"
    }
   ],
   "source": [
    "plt.boxplot(df_Mod['years_of_insurance_with_us'], labels=['years_of_insurance_with_us'])\n",
    "plt.show()"
   ]
  },
  {
   "cell_type": "code",
   "execution_count": 65,
   "id": "9c7ef3eb-79bd-4688-896b-9611b50cb9a7",
   "metadata": {},
   "outputs": [
    {
     "data": {
      "image/png": "[encoded data removed]",
      "text/plain": [
       "<Figure size 640x480 with 1 Axes>"
      ]
     },
     "metadata": {},
     "output_type": "display_data"
    }
   ],
   "source": [
    "plt.boxplot(df_Mod['visited_doctor_last_1_year'], labels=['visited_doctor_last_1_year'])\n",
    "plt.show()"
   ]
  },
  {
   "cell_type": "code",
   "execution_count": 66,
   "id": "0c3808ac-d33c-480e-a57b-53920534e281",
   "metadata": {},
   "outputs": [
    {
     "data": {
      "image/png": "[encoded data removed]",
      "text/plain": [
       "<Figure size 640x480 with 1 Axes>"
      ]
     },
     "metadata": {},
     "output_type": "display_data"
    }
   ],
   "source": [
    "plt.boxplot(df_Mod['daily_avg_steps'], labels=['daily_avg_steps'])\n",
    "plt.show()"
   ]
  },
  {
   "cell_type": "code",
   "execution_count": 67,
   "id": "2c3c7deb-ddbd-407d-9811-6c7e5b5d2141",
   "metadata": {},
   "outputs": [
    {
     "data": {
      "image/png": "[encoded data removed]",
      "text/plain": [
       "<Figure size 640x480 with 1 Axes>"
      ]
     },
     "metadata": {},
     "output_type": "display_data"
    }
   ],
   "source": [
    "plt.boxplot(df_Mod['age'], labels=['age'])\n",
    "plt.show()"
   ]
  },
  {
   "cell_type": "code",
   "execution_count": 68,
   "id": "37028bb1-0beb-40f6-859a-17bfdc490fe2",
   "metadata": {},
   "outputs": [
    {
     "data": {
      "image/png": "[encoded data removed]",
      "text/plain": [
       "<Figure size 640x480 with 1 Axes>"
      ]
     },
     "metadata": {},
     "output_type": "display_data"
    }
   ],
   "source": [
    "plt.boxplot(df_Mod['avg_glucose_level'], labels=['avg_glucose_level'])\n",
    "plt.show()"
   ]
  },
  {
   "cell_type": "code",
   "execution_count": 69,
   "id": "339f8bc1-71fe-4f30-a169-30181e24dae7",
   "metadata": {},
   "outputs": [
    {
     "data": {
      "image/png": "[encoded data removed]",
      "text/plain": [
       "<Figure size 640x480 with 1 Axes>"
      ]
     },
     "metadata": {},
     "output_type": "display_data"
    }
   ],
   "source": [
    "plt.boxplot(df_Mod['weight'], labels=['weight'])\n",
    "plt.show()"
   ]
  },
  {
   "cell_type": "code",
   "execution_count": 70,
   "id": "edd5185b-9df5-450e-b9ac-3126ef181c5a",
   "metadata": {},
   "outputs": [
    {
     "data": {
      "image/png": "[encoded data removed]",
      "text/plain": [
       "<Figure size 640x480 with 1 Axes>"
      ]
     },
     "metadata": {},
     "output_type": "display_data"
    }
   ],
   "source": [
    "plt.boxplot(df_Mod['fat_percentage'], labels=['fat_percentage'])\n",
    "plt.show()"
   ]
  },
  {
   "cell_type": "code",
   "execution_count": 72,
   "id": "ce67da0b-9f08-4e6e-ab9f-aa5b9fde8579",
   "metadata": {},
   "outputs": [],
   "source": [
    "# Import seaborn\n",
    "import seaborn as sns"
   ]
  },
  {
   "cell_type": "code",
   "execution_count": 74,
   "id": "60faef2b-90dc-4864-bd7b-0d8c9e7f7872",
   "metadata": {},
   "outputs": [
    {
     "data": {
      "image/png": "[encoded data removed]",
      "text/plain": [
       "<Figure size 640x480 with 1 Axes>"
      ]
     },
     "metadata": {},
     "output_type": "display_data"
    }
   ],
   "source": [
    "sns.countplot(df_Mod, x=\"adventure_sports\")\n",
    "plt.show()"
   ]
  },
  {
   "cell_type": "code",
   "execution_count": 84,
   "id": "7cf6068d-24f9-4ac1-b6e3-9b3877269ca6",
   "metadata": {},
   "outputs": [
    {
     "data": {
      "image/png": "[encoded data removed]",
      "text/plain": [
       "<Figure size 640x480 with 1 Axes>"
      ]
     },
     "metadata": {},
     "output_type": "display_data"
    }
   ],
   "source": [
    "sns.countplot(df_Mod, x=\"Occupation\")\n",
    "plt.show()"
   ]
  },
  {
   "cell_type": "code",
   "execution_count": 83,
   "id": "490c1c27-f734-4bed-bdc2-d16b706160d7",
   "metadata": {},
   "outputs": [
    {
     "data": {
      "image/png": "[encoded data removed]",
      "text/plain": [
       "<Figure size 640x480 with 1 Axes>"
      ]
     },
     "metadata": {},
     "output_type": "display_data"
    }
   ],
   "source": [
    "sns.countplot(df_Mod, x=\"cholesterol_level\")\n",
    "plt.show()"
   ]
  },
  {
   "cell_type": "code",
   "execution_count": 82,
   "id": "3c109aec-a786-45d2-a119-658f2f3465ff",
   "metadata": {},
   "outputs": [
    {
     "data": {
      "image/png": "[encoded data removed]",
      "text/plain": [
       "<Figure size 640x480 with 1 Axes>"
      ]
     },
     "metadata": {},
     "output_type": "display_data"
    }
   ],
   "source": [
    "sns.countplot(df_Mod, x=\"heart_decs_history\")\n",
    "plt.show()"
   ]
  },
  {
   "cell_type": "code",
   "execution_count": 81,
   "id": "eafa5543-83c9-40b7-a15f-67d5fc4ece3e",
   "metadata": {},
   "outputs": [
    {
     "data": {
      "image/png": "[encoded data removed]",
      "text/plain": [
       "<Figure size 640x480 with 1 Axes>"
      ]
     },
     "metadata": {},
     "output_type": "display_data"
    }
   ],
   "source": [
    "sns.countplot(df_Mod, x=\"other_major_decs_history\")\n",
    "plt.show()"
   ]
  },
  {
   "cell_type": "code",
   "execution_count": 80,
   "id": "33192b8e-79f5-46c0-aea9-dec0c9ac4a00",
   "metadata": {},
   "outputs": [
    {
     "data": {
      "image/png": "[encoded data removed]",
      "text/plain": [
       "<Figure size 640x480 with 1 Axes>"
      ]
     },
     "metadata": {},
     "output_type": "display_data"
    }
   ],
   "source": [
    "sns.countplot(df_Mod, x=\"smoking_status\")\n",
    "plt.show()"
   ]
  },
  {
   "cell_type": "code",
   "execution_count": 79,
   "id": "6f43d56f-28ea-4706-baec-59cedae2b587",
   "metadata": {},
   "outputs": [
    {
     "data": {
      "image/png": "[encoded data removed]",
      "text/plain": [
       "<Figure size 640x480 with 1 Axes>"
      ]
     },
     "metadata": {},
     "output_type": "display_data"
    }
   ],
   "source": [
    "sns.countplot(df_Mod, x=\"Location\")\n",
    "plt.show()"
   ]
  },
  {
   "cell_type": "code",
   "execution_count": 78,
   "id": "a7ba9da0-35ab-4e2f-82a4-7e4e6323571b",
   "metadata": {},
   "outputs": [
    {
     "data": {
      "image/png": "[encoded data removed]",
      "text/plain": [
       "<Figure size 640x480 with 1 Axes>"
      ]
     },
     "metadata": {},
     "output_type": "display_data"
    }
   ],
   "source": [
    "sns.countplot(df_Mod, x=\"covered_by_any_other_company\")\n",
    "plt.show()"
   ]
  },
  {
   "cell_type": "code",
   "execution_count": 77,
   "id": "476fc982-347f-4c60-ba69-213559cbdb62",
   "metadata": {},
   "outputs": [
    {
     "data": {
      "image/png": "[encoded data removed]",
      "text/plain": [
       "<Figure size 640x480 with 1 Axes>"
      ]
     },
     "metadata": {},
     "output_type": "display_data"
    }
   ],
   "source": [
    "sns.countplot(df_Mod, x=\"Alcohol\")\n",
    "plt.show()"
   ]
  },
  {
   "cell_type": "code",
   "execution_count": 76,
   "id": "c509128f-3d41-4de2-8de7-fefa231b5edf",
   "metadata": {},
   "outputs": [
    {
     "data": {
      "image/png": "[encoded data removed]",
      "text/plain": [
       "<Figure size 640x480 with 1 Axes>"
      ]
     },
     "metadata": {},
     "output_type": "display_data"
    }
   ],
   "source": [
    "sns.countplot(df_Mod, x=\"exercise\")\n",
    "plt.show()"
   ]
  },
  {
   "cell_type": "code",
   "execution_count": 75,
   "id": "a140c462-3056-4da0-a3be-789433b4039d",
   "metadata": {},
   "outputs": [
    {
     "data": {
      "image/png": "[encoded data removed]",
      "text/plain": [
       "<Figure size 640x480 with 1 Axes>"
      ]
     },
     "metadata": {},
     "output_type": "display_data"
    }
   ],
   "source": [
    "sns.countplot(df_Mod, x=\"weight_change_in_last_one_year\")\n",
    "plt.show()"
   ]
  },
  {
   "cell_type": "code",
   "execution_count": 85,
   "id": "924900dc-c649-41b3-983d-c086d865e541",
   "metadata": {},
   "outputs": [],
   "source": [
    "from sklearn.preprocessing import MinMaxScaler"
   ]
  },
  {
   "cell_type": "code",
   "execution_count": 88,
   "id": "c124a183-3d6d-4b7a-a27c-8bf7e50284c3",
   "metadata": {},
   "outputs": [],
   "source": [
    "scaler = MinMaxScaler()\n",
    "dfScaled=df_Mod.copy()"
   ]
  },
  {
   "cell_type": "code",
   "execution_count": 89,
   "id": "2790511d-3006-40e3-bcbb-a73051471fe7",
   "metadata": {},
   "outputs": [],
   "source": [
    "dfScaled[['years_of_insurance_with_us','regular_checkup_lasy_year','visited_doctor_last_1_year','daily_avg_steps','age','avg_glucose_level','bmi','weight', 'fat_percentage']]=scaler.fit_transform(df_Mod[['years_of_insurance_with_us','regular_checkup_lasy_year', 'visited_doctor_last_1_year', 'daily_avg_steps', 'age', 'avg_glucose_level', 'bmi', 'weight', 'fat_percentage']])"
   ]
  },
  {
   "cell_type": "code",
   "execution_count": 90,
   "id": "ace87ae3-d933-436d-b75f-f020cac66ba7",
   "metadata": {},
   "outputs": [
    {
     "data": {
      "text/html": [
       "<div>\n",
       "<style scoped>\n",
       "    .dataframe tbody tr th:only-of-type {\n",
       "        vertical-align: middle;\n",
       "    }\n",
       "\n",
       "    .dataframe tbody tr th {\n",
       "        vertical-align: top;\n",
       "    }\n",
       "\n",
       "    .dataframe thead th {\n",
       "        text-align: right;\n",
       "    }\n",
       "</style>\n",
       "<table border=\"1\" class=\"dataframe\">\n",
       "  <thead>\n",
       "    <tr style=\"text-align: right;\">\n",
       "      <th></th>\n",
       "      <th>years_of_insurance_with_us</th>\n",
       "      <th>regular_checkup_lasy_year</th>\n",
       "      <th>adventure_sports</th>\n",
       "      <th>Occupation</th>\n",
       "      <th>visited_doctor_last_1_year</th>\n",
       "      <th>cholesterol_level</th>\n",
       "      <th>daily_avg_steps</th>\n",
       "      <th>age</th>\n",
       "      <th>heart_decs_history</th>\n",
       "      <th>other_major_decs_history</th>\n",
       "      <th>...</th>\n",
       "      <th>bmi</th>\n",
       "      <th>smoking_status</th>\n",
       "      <th>Location</th>\n",
       "      <th>weight</th>\n",
       "      <th>covered_by_any_other_company</th>\n",
       "      <th>Alcohol</th>\n",
       "      <th>exercise</th>\n",
       "      <th>weight_change_in_last_one_year</th>\n",
       "      <th>fat_percentage</th>\n",
       "      <th>insurance_cost</th>\n",
       "    </tr>\n",
       "  </thead>\n",
       "  <tbody>\n",
       "    <tr>\n",
       "      <th>0</th>\n",
       "      <td>0.375</td>\n",
       "      <td>0.2</td>\n",
       "      <td>1</td>\n",
       "      <td>Salried</td>\n",
       "      <td>0.166667</td>\n",
       "      <td>125 to 150</td>\n",
       "      <td>0.307125</td>\n",
       "      <td>0.206897</td>\n",
       "      <td>1</td>\n",
       "      <td>0</td>\n",
       "      <td>...</td>\n",
       "      <td>0.214043</td>\n",
       "      <td>Unknown</td>\n",
       "      <td>Chennai</td>\n",
       "      <td>0.340909</td>\n",
       "      <td>N</td>\n",
       "      <td>Rare</td>\n",
       "      <td>Moderate</td>\n",
       "      <td>1</td>\n",
       "      <td>0.451613</td>\n",
       "      <td>20978</td>\n",
       "    </tr>\n",
       "    <tr>\n",
       "      <th>1</th>\n",
       "      <td>0.000</td>\n",
       "      <td>0.0</td>\n",
       "      <td>0</td>\n",
       "      <td>Student</td>\n",
       "      <td>0.333333</td>\n",
       "      <td>150 to 175</td>\n",
       "      <td>0.474677</td>\n",
       "      <td>0.586207</td>\n",
       "      <td>0</td>\n",
       "      <td>0</td>\n",
       "      <td>...</td>\n",
       "      <td>0.248018</td>\n",
       "      <td>formerly smoked</td>\n",
       "      <td>Jaipur</td>\n",
       "      <td>0.136364</td>\n",
       "      <td>N</td>\n",
       "      <td>Rare</td>\n",
       "      <td>Moderate</td>\n",
       "      <td>3</td>\n",
       "      <td>0.516129</td>\n",
       "      <td>6170</td>\n",
       "    </tr>\n",
       "    <tr>\n",
       "      <th>2</th>\n",
       "      <td>0.125</td>\n",
       "      <td>0.0</td>\n",
       "      <td>0</td>\n",
       "      <td>Business</td>\n",
       "      <td>0.333333</td>\n",
       "      <td>200 to 225</td>\n",
       "      <td>0.268409</td>\n",
       "      <td>0.896552</td>\n",
       "      <td>0</td>\n",
       "      <td>0</td>\n",
       "      <td>...</td>\n",
       "      <td>0.318233</td>\n",
       "      <td>formerly smoked</td>\n",
       "      <td>Jaipur</td>\n",
       "      <td>0.477273</td>\n",
       "      <td>N</td>\n",
       "      <td>Daily</td>\n",
       "      <td>Extreme</td>\n",
       "      <td>0</td>\n",
       "      <td>0.677419</td>\n",
       "      <td>28382</td>\n",
       "    </tr>\n",
       "    <tr>\n",
       "      <th>3</th>\n",
       "      <td>0.875</td>\n",
       "      <td>0.8</td>\n",
       "      <td>0</td>\n",
       "      <td>Business</td>\n",
       "      <td>0.166667</td>\n",
       "      <td>175 to 200</td>\n",
       "      <td>0.453313</td>\n",
       "      <td>0.603448</td>\n",
       "      <td>0</td>\n",
       "      <td>0</td>\n",
       "      <td>...</td>\n",
       "      <td>0.120045</td>\n",
       "      <td>Unknown</td>\n",
       "      <td>Chennai</td>\n",
       "      <td>0.431818</td>\n",
       "      <td>Y</td>\n",
       "      <td>Rare</td>\n",
       "      <td>No</td>\n",
       "      <td>3</td>\n",
       "      <td>0.838710</td>\n",
       "      <td>27148</td>\n",
       "    </tr>\n",
       "    <tr>\n",
       "      <th>4</th>\n",
       "      <td>0.375</td>\n",
       "      <td>0.2</td>\n",
       "      <td>0</td>\n",
       "      <td>Student</td>\n",
       "      <td>0.166667</td>\n",
       "      <td>150 to 175</td>\n",
       "      <td>0.314933</td>\n",
       "      <td>0.482759</td>\n",
       "      <td>0</td>\n",
       "      <td>1</td>\n",
       "      <td>...</td>\n",
       "      <td>0.160815</td>\n",
       "      <td>never smoked</td>\n",
       "      <td>Bangalore</td>\n",
       "      <td>0.500000</td>\n",
       "      <td>N</td>\n",
       "      <td>No</td>\n",
       "      <td>Extreme</td>\n",
       "      <td>0</td>\n",
       "      <td>0.741935</td>\n",
       "      <td>29616</td>\n",
       "    </tr>\n",
       "  </tbody>\n",
       "</table>\n",
       "<p>5 rows × 22 columns</p>\n",
       "</div>"
      ],
      "text/plain": [
       "   years_of_insurance_with_us  regular_checkup_lasy_year adventure_sports  \\\n",
       "0                       0.375                        0.2                1   \n",
       "1                       0.000                        0.0                0   \n",
       "2                       0.125                        0.0                0   \n",
       "3                       0.875                        0.8                0   \n",
       "4                       0.375                        0.2                0   \n",
       "\n",
       "  Occupation  visited_doctor_last_1_year cholesterol_level  daily_avg_steps  \\\n",
       "0    Salried                    0.166667        125 to 150         0.307125   \n",
       "1    Student                    0.333333        150 to 175         0.474677   \n",
       "2   Business                    0.333333        200 to 225         0.268409   \n",
       "3   Business                    0.166667        175 to 200         0.453313   \n",
       "4    Student                    0.166667        150 to 175         0.314933   \n",
       "\n",
       "        age heart_decs_history other_major_decs_history  ...       bmi  \\\n",
       "0  0.206897                  1                        0  ...  0.214043   \n",
       "1  0.586207                  0                        0  ...  0.248018   \n",
       "2  0.896552                  0                        0  ...  0.318233   \n",
       "3  0.603448                  0                        0  ...  0.120045   \n",
       "4  0.482759                  0                        1  ...  0.160815   \n",
       "\n",
       "    smoking_status   Location    weight covered_by_any_other_company  Alcohol  \\\n",
       "0          Unknown    Chennai  0.340909                            N     Rare   \n",
       "1  formerly smoked     Jaipur  0.136364                            N     Rare   \n",
       "2  formerly smoked     Jaipur  0.477273                            N    Daily   \n",
       "3          Unknown    Chennai  0.431818                            Y     Rare   \n",
       "4     never smoked  Bangalore  0.500000                            N       No   \n",
       "\n",
       "   exercise weight_change_in_last_one_year fat_percentage insurance_cost  \n",
       "0  Moderate                              1       0.451613          20978  \n",
       "1  Moderate                              3       0.516129           6170  \n",
       "2   Extreme                              0       0.677419          28382  \n",
       "3        No                              3       0.838710          27148  \n",
       "4   Extreme                              0       0.741935          29616  \n",
       "\n",
       "[5 rows x 22 columns]"
      ]
     },
     "execution_count": 90,
     "metadata": {},
     "output_type": "execute_result"
    }
   ],
   "source": [
    "dfScaled.head()"
   ]
  },
  {
   "cell_type": "code",
   "execution_count": null,
   "id": "9fd5f8a9-88c2-41e1-9a24-03866a892879",
   "metadata": {},
   "outputs": [],
   "source": []
  }
 ],
 "metadata": {
  "kernelspec": {
   "display_name": "Python 3 (ipykernel)",
   "language": "python",
   "name": "python3"
  },
  "language_info": {
   "codemirror_mode": {
    "name": "ipython",
    "version": 3
   },
   "file_extension": ".py",
   "mimetype": "text/x-python",
   "name": "python",
   "nbconvert_exporter": "python",
   "pygments_lexer": "ipython3",
   "version": "3.11.3"
  }
 },
 "nbformat": 4,
 "nbformat_minor": 5
}
